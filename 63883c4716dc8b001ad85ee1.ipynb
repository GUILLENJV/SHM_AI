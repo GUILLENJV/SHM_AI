{
  "cells": [
    {
      "cell_type": "markdown",
      "metadata": {
        "id": "view-in-github",
        "colab_type": "text"
      },
      "source": [
        "<a href=\"https://colab.research.google.com/github/GUILLENJV/SHM_AI/blob/master/63883c4716dc8b001ad85ee1.ipynb\" target=\"_parent\"><img src=\"https://colab.research.google.com/assets/colab-badge.svg\" alt=\"Open In Colab\"/></a>"
      ]
    },
    {
      "cell_type": "markdown",
      "source": [
        "# Version N° 1"
      ],
      "metadata": {
        "id": "MPhpds9t2Bh1"
      }
    },
    {
      "cell_type": "markdown",
      "source": [
        "La variable (y) se transformo en una variable dummy, asi mismo se utilizo como funcion de activacion la sofmax "
      ],
      "metadata": {
        "id": "NtNIMmYp2PB-"
      }
    },
    {
      "cell_type": "code",
      "execution_count": 1,
      "metadata": {
        "id": "T_RKpy4whR5f"
      },
      "outputs": [],
      "source": [
        "#learned embedding encoding for a neural network\n",
        "from numpy import unique\n",
        "import numpy\n",
        "from numpy import array\n",
        "import pandas as pd\n",
        "import datetime \n",
        "from time import sleep\n",
        "from tqdm import tqdm\n",
        "import os\n",
        "from pandas import read_csv\n",
        "import json\n",
        "import tensorflow as tf\n",
        "from tensorflow import keras\n",
        "from keras.utils import np_utils\n",
        "import requests\n",
        "import numpy as np\n",
        "from sklearn.model_selection import train_test_split\n",
        "from sklearn.preprocessing import LabelEncoder\n",
        "from sklearn.preprocessing import OneHotEncoder\n",
        "from sklearn.preprocessing import OrdinalEncoder\n",
        "from tensorflow.keras.layers import BatchNormalization\n",
        "from keras.regularizers import l1\n",
        "from keras.regularizers import l2\n",
        "from tensorflow.keras.layers import Dense, Dropout, Flatten\n",
        "from tensorflow.keras.callbacks import EarlyStopping\n",
        "from keras.utils.vis_utils import plot_model\n",
        "from keras.models import Sequential\n",
        "from keras.layers import Dense\n",
        "from tensorflow.keras import regularizers\n",
        "from matplotlib import pyplot\n",
        "import matplotlib.pyplot as plt\n",
        "import seaborn as sns\n",
        "#from predict import model \n",
        "from sklearn import preprocessing\n",
        "from collections import defaultdict\n",
        "from sklearn.preprocessing import StandardScaler\n",
        "from sklearn.neural_network import MLPClassifier\n",
        "from sklearn.metrics import classification_report\n",
        "from sklearn.metrics import confusion_matrix\n",
        "from sklearn.metrics import ConfusionMatrixDisplay\n",
        "from matplotlib import pyplot as plt"
      ]
    },
    {
      "cell_type": "code",
      "execution_count": 2,
      "metadata": {
        "id": "V8PQOTills5S",
        "colab": {
          "base_uri": "https://localhost:8080/",
          "height": 1000
        },
        "outputId": "bd7bc0fd-3851-4ba9-be24-6c2a2469e850"
      },
      "outputs": [
        {
          "output_type": "stream",
          "name": "stdout",
          "text": [
            "X shape: :  (7003, 20)\n"
          ]
        },
        {
          "output_type": "stream",
          "name": "stderr",
          "text": [
            "/usr/local/lib/python3.8/dist-packages/sklearn/preprocessing/_label.py:98: DataConversionWarning: A column-vector y was passed when a 1d array was expected. Please change the shape of y to (n_samples, ), for example using ravel().\n",
            "  y = column_or_1d(y, warn=True)\n",
            "/usr/local/lib/python3.8/dist-packages/sklearn/preprocessing/_label.py:133: DataConversionWarning: A column-vector y was passed when a 1d array was expected. Please change the shape of y to (n_samples, ), for example using ravel().\n",
            "  y = column_or_1d(y, warn=True)\n"
          ]
        },
        {
          "output_type": "stream",
          "name": "stdout",
          "text": [
            "Model: \"sequential\"\n",
            "_________________________________________________________________\n",
            " Layer (type)                Output Shape              Param #   \n",
            "=================================================================\n",
            " dense (Dense)               (None, 25)                525       \n",
            "                                                                 \n",
            " batch_normalization (BatchN  (None, 25)               100       \n",
            " ormalization)                                                   \n",
            "                                                                 \n",
            " dense_1 (Dense)             (None, 15)                390       \n",
            "                                                                 \n",
            " dropout (Dropout)           (None, 15)                0         \n",
            "                                                                 \n",
            " batch_normalization_1 (Batc  (None, 15)               60        \n",
            " hNormalization)                                                 \n",
            "                                                                 \n",
            " dense_2 (Dense)             (None, 10)                160       \n",
            "                                                                 \n",
            " dropout_1 (Dropout)         (None, 10)                0         \n",
            "                                                                 \n",
            " batch_normalization_2 (Batc  (None, 10)               40        \n",
            " hNormalization)                                                 \n",
            "                                                                 \n",
            " dense_3 (Dense)             (None, 2)                 22        \n",
            "                                                                 \n",
            "=================================================================\n",
            "Total params: 1,297\n",
            "Trainable params: 1,197\n",
            "Non-trainable params: 100\n",
            "_________________________________________________________________\n",
            "Epoch 1/40\n",
            "154/154 [==============================] - 5s 12ms/step - loss: 0.9578 - accuracy: 0.5051 - val_loss: 0.7222 - val_accuracy: 0.5136\n",
            "Epoch 2/40\n",
            "154/154 [==============================] - 1s 6ms/step - loss: 0.8320 - accuracy: 0.5094 - val_loss: 0.7015 - val_accuracy: 0.5278\n",
            "Epoch 3/40\n",
            "154/154 [==============================] - 1s 9ms/step - loss: 0.7640 - accuracy: 0.5286 - val_loss: 0.6957 - val_accuracy: 0.5288\n",
            "Epoch 4/40\n",
            "154/154 [==============================] - 1s 9ms/step - loss: 0.7430 - accuracy: 0.5286 - val_loss: 0.6937 - val_accuracy: 0.5288\n",
            "Epoch 5/40\n",
            "154/154 [==============================] - 1s 9ms/step - loss: 0.7333 - accuracy: 0.5255 - val_loss: 0.6906 - val_accuracy: 0.5317\n",
            "Epoch 6/40\n",
            "154/154 [==============================] - 1s 9ms/step - loss: 0.7126 - accuracy: 0.5392 - val_loss: 0.6899 - val_accuracy: 0.5340\n",
            "Epoch 7/40\n",
            "154/154 [==============================] - 1s 9ms/step - loss: 0.7102 - accuracy: 0.5294 - val_loss: 0.6901 - val_accuracy: 0.5340\n",
            "Epoch 8/40\n",
            "154/154 [==============================] - 1s 8ms/step - loss: 0.7067 - accuracy: 0.5184 - val_loss: 0.6900 - val_accuracy: 0.5331\n",
            "Epoch 9/40\n",
            "154/154 [==============================] - 1s 9ms/step - loss: 0.6973 - accuracy: 0.5367 - val_loss: 0.6903 - val_accuracy: 0.5321\n",
            "Epoch 10/40\n",
            "154/154 [==============================] - 1s 7ms/step - loss: 0.6960 - accuracy: 0.5363 - val_loss: 0.6899 - val_accuracy: 0.5326\n",
            "Epoch 11/40\n",
            "154/154 [==============================] - 1s 8ms/step - loss: 0.6958 - accuracy: 0.5394 - val_loss: 0.6904 - val_accuracy: 0.5317\n",
            "Epoch 12/40\n",
            "154/154 [==============================] - 1s 9ms/step - loss: 0.6910 - accuracy: 0.5426 - val_loss: 0.6906 - val_accuracy: 0.5317\n",
            "Epoch 13/40\n",
            "154/154 [==============================] - 1s 9ms/step - loss: 0.6911 - accuracy: 0.5467 - val_loss: 0.6895 - val_accuracy: 0.5312\n",
            "Epoch 14/40\n",
            "154/154 [==============================] - 2s 10ms/step - loss: 0.6877 - accuracy: 0.5486 - val_loss: 0.6887 - val_accuracy: 0.5359\n",
            "Epoch 15/40\n",
            "154/154 [==============================] - 1s 8ms/step - loss: 0.6874 - accuracy: 0.5473 - val_loss: 0.6892 - val_accuracy: 0.5355\n",
            "Epoch 16/40\n",
            "154/154 [==============================] - 1s 7ms/step - loss: 0.6864 - accuracy: 0.5381 - val_loss: 0.6887 - val_accuracy: 0.5369\n",
            "Epoch 17/40\n",
            "154/154 [==============================] - 1s 4ms/step - loss: 0.6856 - accuracy: 0.5459 - val_loss: 0.6882 - val_accuracy: 0.5431\n",
            "Epoch 18/40\n",
            "154/154 [==============================] - 1s 4ms/step - loss: 0.6838 - accuracy: 0.5561 - val_loss: 0.6880 - val_accuracy: 0.5340\n",
            "Epoch 19/40\n",
            "154/154 [==============================] - 1s 4ms/step - loss: 0.6788 - accuracy: 0.5596 - val_loss: 0.6894 - val_accuracy: 0.5288\n",
            "Epoch 20/40\n",
            "154/154 [==============================] - 1s 4ms/step - loss: 0.6774 - accuracy: 0.5685 - val_loss: 0.6896 - val_accuracy: 0.5331\n",
            "Epoch 21/40\n",
            "154/154 [==============================] - 1s 4ms/step - loss: 0.6787 - accuracy: 0.5514 - val_loss: 0.6912 - val_accuracy: 0.5355\n",
            "Epoch 22/40\n",
            "154/154 [==============================] - 1s 4ms/step - loss: 0.6802 - accuracy: 0.5604 - val_loss: 0.6904 - val_accuracy: 0.5255\n",
            "Epoch 23/40\n",
            "154/154 [==============================] - 1s 4ms/step - loss: 0.6778 - accuracy: 0.5641 - val_loss: 0.6904 - val_accuracy: 0.5288\n",
            "Epoch 24/40\n",
            "154/154 [==============================] - 1s 4ms/step - loss: 0.6772 - accuracy: 0.5645 - val_loss: 0.6905 - val_accuracy: 0.5259\n",
            "Epoch 25/40\n",
            "154/154 [==============================] - 1s 4ms/step - loss: 0.6753 - accuracy: 0.5765 - val_loss: 0.6899 - val_accuracy: 0.5193\n",
            "Epoch 26/40\n",
            "154/154 [==============================] - 1s 4ms/step - loss: 0.6743 - accuracy: 0.5649 - val_loss: 0.6898 - val_accuracy: 0.5169\n",
            "Epoch 27/40\n",
            "154/154 [==============================] - 1s 4ms/step - loss: 0.6693 - accuracy: 0.5816 - val_loss: 0.6917 - val_accuracy: 0.5126\n",
            "Epoch 28/40\n",
            "154/154 [==============================] - 1s 4ms/step - loss: 0.6735 - accuracy: 0.5720 - val_loss: 0.6910 - val_accuracy: 0.5131\n",
            "Epoch 29/40\n",
            "154/154 [==============================] - 1s 4ms/step - loss: 0.6755 - accuracy: 0.5604 - val_loss: 0.6916 - val_accuracy: 0.5226\n",
            "Epoch 30/40\n",
            "154/154 [==============================] - 1s 4ms/step - loss: 0.6717 - accuracy: 0.5718 - val_loss: 0.6922 - val_accuracy: 0.5198\n",
            "Epoch 31/40\n",
            "154/154 [==============================] - 1s 4ms/step - loss: 0.6713 - accuracy: 0.5885 - val_loss: 0.6924 - val_accuracy: 0.5236\n",
            "Epoch 32/40\n",
            "154/154 [==============================] - 1s 4ms/step - loss: 0.6688 - accuracy: 0.5859 - val_loss: 0.6939 - val_accuracy: 0.5217\n",
            "Epoch 33/40\n",
            "154/154 [==============================] - 1s 4ms/step - loss: 0.6698 - accuracy: 0.5714 - val_loss: 0.6949 - val_accuracy: 0.5278\n",
            "Epoch 34/40\n",
            "154/154 [==============================] - 1s 4ms/step - loss: 0.6673 - accuracy: 0.5808 - val_loss: 0.6962 - val_accuracy: 0.5202\n",
            "Epoch 35/40\n",
            "154/154 [==============================] - 1s 4ms/step - loss: 0.6702 - accuracy: 0.5800 - val_loss: 0.6947 - val_accuracy: 0.5231\n",
            "Epoch 36/40\n",
            "154/154 [==============================] - 1s 4ms/step - loss: 0.6630 - accuracy: 0.5867 - val_loss: 0.6972 - val_accuracy: 0.5269\n",
            "Epoch 37/40\n",
            "154/154 [==============================] - 1s 4ms/step - loss: 0.6655 - accuracy: 0.5908 - val_loss: 0.6972 - val_accuracy: 0.5231\n",
            "Epoch 38/40\n",
            "154/154 [==============================] - 1s 4ms/step - loss: 0.6634 - accuracy: 0.5898 - val_loss: 0.6966 - val_accuracy: 0.5202\n",
            "Epoch 39/40\n",
            "154/154 [==============================] - 1s 4ms/step - loss: 0.6668 - accuracy: 0.5894 - val_loss: 0.6980 - val_accuracy: 0.5236\n",
            "Epoch 40/40\n",
            "154/154 [==============================] - 1s 4ms/step - loss: 0.6651 - accuracy: 0.5798 - val_loss: 0.6965 - val_accuracy: 0.5255\n",
            "Precisión Entrenamiento: 0.5871\n",
            "Precisión Prueba:  0.5255\n"
          ]
        },
        {
          "output_type": "display_data",
          "data": {
            "text/plain": [
              "<Figure size 432x288 with 1 Axes>"
            ],
            "image/png": "[encoded data removed]"
          },
          "metadata": {
            "needs_background": "light"
          }
        },
        {
          "output_type": "stream",
          "name": "stdout",
          "text": [
            "66/66 [==============================] - 0s 1ms/step\n"
          ]
        },
        {
          "output_type": "display_data",
          "data": {
            "text/plain": [
              "<Figure size 432x288 with 2 Axes>"
            ],
            "image/png": "[encoded data removed]"
          },
          "metadata": {
            "needs_background": "light"
          }
        },
        {
          "output_type": "stream",
          "name": "stdout",
          "text": [
            "              precision    recall  f1-score   support\n",
            "\n",
            "           0       0.53      0.34      0.41      1035\n",
            "           1       0.52      0.71      0.60      1066\n",
            "\n",
            "    accuracy                           0.53      2101\n",
            "   macro avg       0.53      0.52      0.51      2101\n",
            "weighted avg       0.53      0.53      0.51      2101\n",
            "\n"
          ]
        }
      ],
      "source": [
        "# carga los datos\n",
        "df = pd.read_csv('63883c4716dc8b001ad85ee1.csv')\n",
        "\n",
        "# Convertir los variables en string\n",
        "df[\"visitor_device_hardware_family\"] = df[\"visitor_device_hardware_family\"].apply(str)\n",
        "df[\"visitor_device_hardware_model\"] = df[\"visitor_device_hardware_model\"].apply(str)\n",
        "df[\"visitor_device_os_version\"] = df[\"visitor_device_os_version\"].apply(str)\n",
        "df[\"visitor_device_hardware_family\"] = df[\"visitor_device_hardware_family\"].apply(str)\n",
        "df[\"visitor_device_hardware_model\"] = df[\"visitor_device_hardware_model\"].apply(str)\n",
        "df[\"visitor_device_os_version\"] = df[\"visitor_device_os_version\"].apply(str)\n",
        "df[\"visitor_tokens_adh\"] = df[\"visitor_tokens_adh\"].apply(str)\n",
        "df[\"visitor_tokens_cadid\"] = df[\"visitor_tokens_cadid\"].apply(str)\n",
        "df[\"converted_yes\"] = df[\"converted_yes\"].apply(str)\n",
        "df[\"converted_no\"] = df[\"converted_no\"].apply(str)\n",
        "\n",
        "# Eliminamos las variables que no van dentro del modelo\n",
        "df = df.drop(['landing_pages_group_id','visitor_tokens_add', '_id'], axis=1)\n",
        "\n",
        "# Eliminamos los valores duplicados\n",
        "df = df.drop_duplicates()\n",
        "\n",
        "# Imputamos la variable \n",
        "df['visitor_geo_location_countryCode'].fillna(df['visitor_geo_location_countryCode'].mode()[0], inplace=True)\n",
        "df['visitor_geo_location_regionName'].fillna(df['visitor_geo_location_regionName'].mode()[0], inplace=True)\n",
        "df['visitor_tokens_adi'].fillna(df['visitor_tokens_adi'].mode()[0], inplace=True)\n",
        "df['visitor_geo_location_isp'].fillna(df['visitor_geo_location_isp'].mode()[0], inplace=True)\n",
        "df['visitor_geo_location_connection_type'].fillna(df['visitor_geo_location_connection_type'].mode()[0], inplace=True)\n",
        "df['visitor_geo_location_cityName'].fillna(df['visitor_geo_location_cityName'].mode()[0], inplace=True)\n",
        "\n",
        "# Seleccionamos nuestras variables de entrda\n",
        "X = df[['campaign_id', 'traffic_source_id',\n",
        "       'visitor_device_browser', 'visitor_device_hardware_family',\n",
        "       'visitor_device_hardware_model', 'visitor_device_hardware_vendor',\n",
        "       'visitor_device_os_family', 'visitor_device_os_vendor',\n",
        "       'visitor_device_os_version', 'visitor_device_type',\n",
        "       'visitor_geo_location_cityName', 'visitor_geo_location_connection_type',\n",
        "       'visitor_geo_location_countryCode', 'visitor_geo_location_isp',\n",
        "       'visitor_geo_location_regionName', 'visitor_tokens_adh',\n",
        "       'visitor_tokens_cadid', 'visitor_tokens_adi', 'converted_yes',\n",
        "       'converted_no']]\n",
        "# Covertimos laas variables en numpy\n",
        "X = X.astype(str).to_numpy()\n",
        "y = df[[\"landing_page_id\"]].to_numpy()\n",
        "\n",
        "# Aplicamos un encoder a las X\n",
        "encoded_x = None\n",
        "for i in range(0, X.shape[1]):\n",
        "    label_encoder = LabelEncoder()\n",
        "    feature = label_encoder.fit_transform(X[:,i])\n",
        "    feature = feature.reshape(X.shape[0], 1)\n",
        "    onehot_encoder = OrdinalEncoder()\n",
        "    feature = onehot_encoder.fit_transform(feature)\n",
        "    if encoded_x is None:\n",
        "        encoded_x = feature\n",
        "    else:\n",
        "        encoded_x = numpy.concatenate((encoded_x, feature), axis=1)\n",
        "print(\"X shape: : \", encoded_x.shape)\n",
        "\n",
        "# Aplicamos un encoder a y\n",
        "label_encoder = LabelEncoder()\n",
        "label_encoder = label_encoder.fit(y)\n",
        "label_encoded_y = label_encoder.transform(y)\n",
        "# convert integers to dummy variables (i.e. one hot encoded)\n",
        "dummy_y = np_utils.to_categorical(label_encoded_y)\n",
        "\n",
        "# split data into train and test sets\n",
        "X_train, X_test, y_train, y_test = train_test_split(encoded_x, dummy_y, test_size=0.30, random_state=123)\n",
        "\n",
        "# Alicamos una trasformacion a nuestras vaiables\n",
        "scaler=StandardScaler()\n",
        "scaler.fit(X_train)\n",
        "X_train=scaler.transform(X_train)\n",
        "X_test=scaler.transform(X_test)\n",
        "\n",
        "# Definición del modelo\n",
        "def modelo_mlp(): \n",
        "    model = Sequential()\n",
        "    model.add(Dense(25, input_dim=X_train.shape[1], \n",
        "                kernel_initializer= 'he_uniform',\n",
        "                activation='relu', activity_regularizer=regularizers.l1(1e-4)))\n",
        "    model.add(BatchNormalization())\n",
        "    model.add(Dense(15, kernel_initializer= 'he_uniform',\n",
        "                activation='relu',activity_regularizer=regularizers.l1(1e-4)))\n",
        "    model.add(Dropout(0.2))\n",
        "    model.add(BatchNormalization())\n",
        "    model.add(Dense(10, kernel_initializer= 'he_uniform',\n",
        "                activation='relu',activity_regularizer=regularizers.l1(1e-4)))\n",
        "    model.add(Dropout(0.2))\n",
        "    model.add(BatchNormalization())  \n",
        "    model.add(Dense(2, kernel_initializer= 'he_uniform',\n",
        "                activation='softmax'))\n",
        "    model.compile(loss='categorical_crossentropy', optimizer='adam',\n",
        "                metrics=['accuracy'])\n",
        "    model.summary()\n",
        "    return model\n",
        "\n",
        "model = modelo_mlp()\n",
        "\n",
        "# Entrenamos el modelo con el dataset\n",
        "history=model.fit(X_train, y_train, epochs=40, batch_size=32, validation_data=(X_test, y_test), shuffle=False)\n",
        "\n",
        "# Obtenemos el accuaracy tanto para los datos de entrenamientos como los de prueba\n",
        "loss, accuracy = model.evaluate(X_train, y_train, verbose=False)\n",
        "print(\"Precisión Entrenamiento: {:.4f}\".format(accuracy))\n",
        "loss, accuracy = model.evaluate(X_test, y_test, verbose=False)\n",
        "print(\"Precisión Prueba:  {:.4f}\".format(accuracy))\n",
        "\n",
        "# Obtenemos la curva de aprendizaje del modelo\n",
        "# plot train and validation loss\n",
        "pyplot.plot(history.history['loss'])\n",
        "pyplot.plot(history.history['val_loss'])\n",
        "pyplot.title('model train vs validation loss')\n",
        "pyplot.ylabel('loss')\n",
        "pyplot.xlabel('epoch')\n",
        "pyplot.legend(['train', 'validation'], loc='upper right')\n",
        "pyplot.show()\n",
        "\n",
        "# Se obtiene la matriz de confusión\n",
        "y_pred=model.predict(X_test) \n",
        "y_pred=np.argmax(y_pred, axis=1)\n",
        "y_test=np.argmax(y_test, axis=1)\n",
        "cm = confusion_matrix(y_test, y_pred)\n",
        "disp = ConfusionMatrixDisplay(confusion_matrix=cm)\n",
        "disp.plot()\n",
        "\n",
        "plt.show()\n",
        "# Se obtiene las metricas de evaluación del modelo\n",
        "from sklearn.metrics import classification_report\n",
        "report = classification_report(y_test, y_pred)\n",
        "print(report)"
      ]
    },
    {
      "cell_type": "code",
      "execution_count": 3,
      "metadata": {
        "colab": {
          "base_uri": "https://localhost:8080/"
        },
        "id": "JOR3BdY4LCFC",
        "outputId": "d808f76e-fd2b-457a-e04a-388d962a551a"
      },
      "outputs": [
        {
          "output_type": "stream",
          "name": "stdout",
          "text": [
            "1/1 [==============================] - 0s 22ms/step\n",
            "1/1 [==============================] - 0s 19ms/step\n",
            "['63881eb04c66c4001a1d0e56']\n"
          ]
        }
      ],
      "source": [
        "# make class predictions with the model\n",
        "predictions = (model.predict(X_test[1:2]))\n",
        "predictions\n",
        "# make class predictions with the model\n",
        "predictions = (model.predict(X_test[1:2])).argmax(1)\n",
        "predictions\n",
        "print(label_encoder.inverse_transform(predictions))"
      ]
    },
    {
      "cell_type": "code",
      "execution_count": 4,
      "metadata": {
        "id": "72H7mN_Thz0q"
      },
      "outputs": [],
      "source": [
        "# Guardamos el modelo generado\n",
        "from keras.models import load_model \n",
        "model.save(\"Version1_model_63883c4716dc8b001ad85ee1.h5\") \n",
        "loaded_model = load_model(\"Version1_model_63883c4716dc8b001ad85ee1.h5\")"
      ]
    },
    {
      "cell_type": "markdown",
      "source": [
        "# Version N° 2"
      ],
      "metadata": {
        "id": "36VUdff82iZM"
      }
    },
    {
      "cell_type": "markdown",
      "source": [
        "La variable (y) no se transformo en una variable dummy, asi mismo se utilizo como funcion de activacion la sigmoid por tratarse de un modelo binario que es la manera correcta de trabajar con este tipo de datos "
      ],
      "metadata": {
        "id": "B1UkFDEQ2kNk"
      }
    },
    {
      "cell_type": "code",
      "execution_count": 5,
      "metadata": {
        "colab": {
          "base_uri": "https://localhost:8080/",
          "height": 1000
        },
        "id": "oY3kp5ma2-VO",
        "outputId": "bc4b55ba-1327-49ae-aa7a-b518b8826282"
      },
      "outputs": [
        {
          "output_type": "stream",
          "name": "stdout",
          "text": [
            "X shape: :  (7003, 20)\n",
            "Model: \"sequential_1\"\n",
            "_________________________________________________________________\n",
            " Layer (type)                Output Shape              Param #   \n",
            "=================================================================\n",
            " dense_4 (Dense)             (None, 25)                525       \n",
            "                                                                 \n",
            " batch_normalization_3 (Batc  (None, 25)               100       \n",
            " hNormalization)                                                 \n",
            "                                                                 \n",
            " dense_5 (Dense)             (None, 15)                390       \n",
            "                                                                 \n",
            " dropout_2 (Dropout)         (None, 15)                0         \n",
            "                                                                 \n",
            " batch_normalization_4 (Batc  (None, 15)               60        \n",
            " hNormalization)                                                 \n",
            "                                                                 \n",
            " dense_6 (Dense)             (None, 10)                160       \n",
            "                                                                 \n",
            " dropout_3 (Dropout)         (None, 10)                0         \n",
            "                                                                 \n",
            " batch_normalization_5 (Batc  (None, 10)               40        \n",
            " hNormalization)                                                 \n",
            "                                                                 \n",
            " dense_7 (Dense)             (None, 1)                 11        \n",
            "                                                                 \n",
            "=================================================================\n",
            "Total params: 1,286\n",
            "Trainable params: 1,186\n",
            "Non-trainable params: 100\n",
            "_________________________________________________________________\n"
          ]
        },
        {
          "output_type": "stream",
          "name": "stderr",
          "text": [
            "/usr/local/lib/python3.8/dist-packages/sklearn/preprocessing/_label.py:98: DataConversionWarning: A column-vector y was passed when a 1d array was expected. Please change the shape of y to (n_samples, ), for example using ravel().\n",
            "  y = column_or_1d(y, warn=True)\n",
            "/usr/local/lib/python3.8/dist-packages/sklearn/preprocessing/_label.py:133: DataConversionWarning: A column-vector y was passed when a 1d array was expected. Please change the shape of y to (n_samples, ), for example using ravel().\n",
            "  y = column_or_1d(y, warn=True)\n"
          ]
        },
        {
          "output_type": "stream",
          "name": "stdout",
          "text": [
            "Epoch 1/40\n",
            "154/154 [==============================] - 2s 5ms/step - loss: 0.7853 - accuracy: 0.4955 - val_loss: 0.7205 - val_accuracy: 0.5031\n",
            "Epoch 2/40\n",
            "154/154 [==============================] - 1s 4ms/step - loss: 0.7303 - accuracy: 0.5190 - val_loss: 0.7089 - val_accuracy: 0.5079\n",
            "Epoch 3/40\n",
            "154/154 [==============================] - 1s 4ms/step - loss: 0.7157 - accuracy: 0.5151 - val_loss: 0.7029 - val_accuracy: 0.5250\n",
            "Epoch 4/40\n",
            "154/154 [==============================] - 1s 4ms/step - loss: 0.7060 - accuracy: 0.5216 - val_loss: 0.6980 - val_accuracy: 0.5250\n",
            "Epoch 5/40\n",
            "154/154 [==============================] - 1s 4ms/step - loss: 0.6982 - accuracy: 0.5349 - val_loss: 0.6967 - val_accuracy: 0.5221\n",
            "Epoch 6/40\n",
            "154/154 [==============================] - 1s 4ms/step - loss: 0.6944 - accuracy: 0.5257 - val_loss: 0.6946 - val_accuracy: 0.5350\n",
            "Epoch 7/40\n",
            "154/154 [==============================] - 1s 4ms/step - loss: 0.6918 - accuracy: 0.5367 - val_loss: 0.6957 - val_accuracy: 0.5274\n",
            "Epoch 8/40\n",
            "154/154 [==============================] - 1s 4ms/step - loss: 0.6904 - accuracy: 0.5390 - val_loss: 0.6948 - val_accuracy: 0.5336\n",
            "Epoch 9/40\n",
            "154/154 [==============================] - 1s 4ms/step - loss: 0.6927 - accuracy: 0.5333 - val_loss: 0.6946 - val_accuracy: 0.5321\n",
            "Epoch 10/40\n",
            "154/154 [==============================] - 1s 4ms/step - loss: 0.6880 - accuracy: 0.5465 - val_loss: 0.6941 - val_accuracy: 0.5293\n",
            "Epoch 11/40\n",
            "154/154 [==============================] - 1s 4ms/step - loss: 0.6883 - accuracy: 0.5510 - val_loss: 0.6937 - val_accuracy: 0.5321\n",
            "Epoch 12/40\n",
            "154/154 [==============================] - 1s 4ms/step - loss: 0.6863 - accuracy: 0.5461 - val_loss: 0.6944 - val_accuracy: 0.5288\n",
            "Epoch 13/40\n",
            "154/154 [==============================] - 1s 4ms/step - loss: 0.6868 - accuracy: 0.5559 - val_loss: 0.6941 - val_accuracy: 0.5274\n",
            "Epoch 14/40\n",
            "154/154 [==============================] - 1s 4ms/step - loss: 0.6851 - accuracy: 0.5541 - val_loss: 0.6946 - val_accuracy: 0.5288\n",
            "Epoch 15/40\n",
            "154/154 [==============================] - 1s 4ms/step - loss: 0.6858 - accuracy: 0.5490 - val_loss: 0.6946 - val_accuracy: 0.5288\n",
            "Epoch 16/40\n",
            "154/154 [==============================] - 1s 4ms/step - loss: 0.6817 - accuracy: 0.5537 - val_loss: 0.6949 - val_accuracy: 0.5212\n",
            "Epoch 17/40\n",
            "154/154 [==============================] - 1s 4ms/step - loss: 0.6820 - accuracy: 0.5492 - val_loss: 0.6948 - val_accuracy: 0.5293\n",
            "Epoch 18/40\n",
            "154/154 [==============================] - 1s 4ms/step - loss: 0.6815 - accuracy: 0.5530 - val_loss: 0.6950 - val_accuracy: 0.5231\n",
            "Epoch 19/40\n",
            "154/154 [==============================] - 1s 4ms/step - loss: 0.6768 - accuracy: 0.5590 - val_loss: 0.6959 - val_accuracy: 0.5217\n",
            "Epoch 20/40\n",
            "154/154 [==============================] - 1s 4ms/step - loss: 0.6764 - accuracy: 0.5696 - val_loss: 0.6955 - val_accuracy: 0.5126\n",
            "Epoch 21/40\n",
            "154/154 [==============================] - 1s 4ms/step - loss: 0.6755 - accuracy: 0.5618 - val_loss: 0.6945 - val_accuracy: 0.5164\n",
            "Epoch 22/40\n",
            "154/154 [==============================] - 1s 4ms/step - loss: 0.6742 - accuracy: 0.5687 - val_loss: 0.6930 - val_accuracy: 0.5193\n",
            "Epoch 23/40\n",
            "154/154 [==============================] - 1s 4ms/step - loss: 0.6706 - accuracy: 0.5800 - val_loss: 0.6944 - val_accuracy: 0.5274\n",
            "Epoch 24/40\n",
            "154/154 [==============================] - 1s 4ms/step - loss: 0.6722 - accuracy: 0.5663 - val_loss: 0.6966 - val_accuracy: 0.5198\n",
            "Epoch 25/40\n",
            "154/154 [==============================] - 1s 5ms/step - loss: 0.6686 - accuracy: 0.5741 - val_loss: 0.6963 - val_accuracy: 0.5212\n",
            "Epoch 26/40\n",
            "154/154 [==============================] - 1s 4ms/step - loss: 0.6687 - accuracy: 0.5767 - val_loss: 0.6973 - val_accuracy: 0.5198\n",
            "Epoch 27/40\n",
            "154/154 [==============================] - 1s 5ms/step - loss: 0.6691 - accuracy: 0.5732 - val_loss: 0.6980 - val_accuracy: 0.5221\n",
            "Epoch 28/40\n",
            "154/154 [==============================] - 1s 4ms/step - loss: 0.6692 - accuracy: 0.5800 - val_loss: 0.6991 - val_accuracy: 0.5183\n",
            "Epoch 29/40\n",
            "154/154 [==============================] - 1s 4ms/step - loss: 0.6629 - accuracy: 0.5881 - val_loss: 0.6996 - val_accuracy: 0.5183\n",
            "Epoch 30/40\n",
            "154/154 [==============================] - 1s 4ms/step - loss: 0.6646 - accuracy: 0.5822 - val_loss: 0.7022 - val_accuracy: 0.5259\n",
            "Epoch 31/40\n",
            "154/154 [==============================] - 1s 4ms/step - loss: 0.6687 - accuracy: 0.5767 - val_loss: 0.7005 - val_accuracy: 0.5217\n",
            "Epoch 32/40\n",
            "154/154 [==============================] - 1s 4ms/step - loss: 0.6653 - accuracy: 0.5851 - val_loss: 0.6986 - val_accuracy: 0.5212\n",
            "Epoch 33/40\n",
            "154/154 [==============================] - 1s 4ms/step - loss: 0.6643 - accuracy: 0.5840 - val_loss: 0.6986 - val_accuracy: 0.5169\n",
            "Epoch 34/40\n",
            "154/154 [==============================] - 1s 4ms/step - loss: 0.6654 - accuracy: 0.5828 - val_loss: 0.6975 - val_accuracy: 0.5193\n",
            "Epoch 35/40\n",
            "154/154 [==============================] - 1s 4ms/step - loss: 0.6592 - accuracy: 0.5949 - val_loss: 0.7018 - val_accuracy: 0.5202\n",
            "Epoch 36/40\n",
            "154/154 [==============================] - 1s 4ms/step - loss: 0.6600 - accuracy: 0.5938 - val_loss: 0.7024 - val_accuracy: 0.5293\n",
            "Epoch 37/40\n",
            "154/154 [==============================] - 1s 4ms/step - loss: 0.6602 - accuracy: 0.5889 - val_loss: 0.7052 - val_accuracy: 0.5178\n",
            "Epoch 38/40\n",
            "154/154 [==============================] - 1s 4ms/step - loss: 0.6593 - accuracy: 0.5957 - val_loss: 0.7071 - val_accuracy: 0.5193\n",
            "Epoch 39/40\n",
            "154/154 [==============================] - 1s 4ms/step - loss: 0.6576 - accuracy: 0.5959 - val_loss: 0.7100 - val_accuracy: 0.5255\n",
            "Epoch 40/40\n",
            "154/154 [==============================] - 1s 4ms/step - loss: 0.6574 - accuracy: 0.5989 - val_loss: 0.7083 - val_accuracy: 0.5202\n",
            "Precisión Entrenamiento: 0.5967\n",
            "Precisión Prueba:  0.5202\n"
          ]
        },
        {
          "output_type": "display_data",
          "data": {
            "text/plain": [
              "<Figure size 432x288 with 1 Axes>"
            ],
            "image/png": "[encoded data removed]"
          },
          "metadata": {
            "needs_background": "light"
          }
        },
        {
          "output_type": "stream",
          "name": "stdout",
          "text": [
            "66/66 [==============================] - 0s 2ms/step\n",
            "[[692 343]\n",
            " [665 401]]\n"
          ]
        },
        {
          "output_type": "display_data",
          "data": {
            "text/plain": [
              "<Figure size 432x288 with 2 Axes>"
            ],
            "image/png": "[encoded data removed]"
          },
          "metadata": {
            "needs_background": "light"
          }
        },
        {
          "output_type": "stream",
          "name": "stdout",
          "text": [
            "              precision    recall  f1-score   support\n",
            "\n",
            "           0       0.51      0.67      0.58      1035\n",
            "           1       0.54      0.38      0.44      1066\n",
            "\n",
            "    accuracy                           0.52      2101\n",
            "   macro avg       0.52      0.52      0.51      2101\n",
            "weighted avg       0.52      0.52      0.51      2101\n",
            "\n"
          ]
        }
      ],
      "source": [
        "# carga los datos\n",
        "df = pd.read_csv('63883c4716dc8b001ad85ee1.csv')\n",
        "\n",
        "# Convertir los variables en string\n",
        "df[\"visitor_device_hardware_family\"] = df[\"visitor_device_hardware_family\"].apply(str)\n",
        "df[\"visitor_device_hardware_model\"] = df[\"visitor_device_hardware_model\"].apply(str)\n",
        "df[\"visitor_device_os_version\"] = df[\"visitor_device_os_version\"].apply(str)\n",
        "df[\"visitor_device_hardware_family\"] = df[\"visitor_device_hardware_family\"].apply(str)\n",
        "df[\"visitor_device_hardware_model\"] = df[\"visitor_device_hardware_model\"].apply(str)\n",
        "df[\"visitor_device_os_version\"] = df[\"visitor_device_os_version\"].apply(str)\n",
        "df[\"visitor_tokens_adh\"] = df[\"visitor_tokens_adh\"].apply(str)\n",
        "df[\"visitor_tokens_cadid\"] = df[\"visitor_tokens_cadid\"].apply(str)\n",
        "df[\"converted_yes\"] = df[\"converted_yes\"].apply(str)\n",
        "df[\"converted_no\"] = df[\"converted_no\"].apply(str)\n",
        "\n",
        "# Eliminamos las variables que no van dentro del modelo\n",
        "df = df.drop(['landing_pages_group_id','visitor_tokens_add', '_id'], axis=1)\n",
        "\n",
        "# Eliminamos los valores duplicados\n",
        "df = df.drop_duplicates()\n",
        "\n",
        "# Imputamos la variable \n",
        "df['visitor_geo_location_countryCode'].fillna(df['visitor_geo_location_countryCode'].mode()[0], inplace=True)\n",
        "df['visitor_geo_location_regionName'].fillna(df['visitor_geo_location_regionName'].mode()[0], inplace=True)\n",
        "df['visitor_tokens_adi'].fillna(df['visitor_tokens_adi'].mode()[0], inplace=True)\n",
        "df['visitor_geo_location_isp'].fillna(df['visitor_geo_location_isp'].mode()[0], inplace=True)\n",
        "df['visitor_geo_location_connection_type'].fillna(df['visitor_geo_location_connection_type'].mode()[0], inplace=True)\n",
        "df['visitor_geo_location_cityName'].fillna(df['visitor_geo_location_cityName'].mode()[0], inplace=True)\n",
        "\n",
        "# Seleccionamos nuestras variables de entrda\n",
        "X = df[['campaign_id', 'traffic_source_id',\n",
        "       'visitor_device_browser', 'visitor_device_hardware_family',\n",
        "       'visitor_device_hardware_model', 'visitor_device_hardware_vendor',\n",
        "       'visitor_device_os_family', 'visitor_device_os_vendor',\n",
        "       'visitor_device_os_version', 'visitor_device_type',\n",
        "       'visitor_geo_location_cityName', 'visitor_geo_location_connection_type',\n",
        "       'visitor_geo_location_countryCode', 'visitor_geo_location_isp',\n",
        "       'visitor_geo_location_regionName', 'visitor_tokens_adh',\n",
        "       'visitor_tokens_cadid', 'visitor_tokens_adi', 'converted_yes',\n",
        "       'converted_no']]\n",
        "# Covertimos laas variables en numpy\n",
        "X = X.astype(str).to_numpy()\n",
        "y = df[[\"landing_page_id\"]].to_numpy()\n",
        "\n",
        "# Aplicamos un encoder a las X\n",
        "encoded_x = None\n",
        "for i in range(0, X.shape[1]):\n",
        "    label_encoder = LabelEncoder()\n",
        "    feature = label_encoder.fit_transform(X[:,i])\n",
        "    feature = feature.reshape(X.shape[0], 1)\n",
        "    onehot_encoder = OrdinalEncoder()\n",
        "    feature = onehot_encoder.fit_transform(feature)\n",
        "    if encoded_x is None:\n",
        "        encoded_x = feature\n",
        "    else:\n",
        "        encoded_x = numpy.concatenate((encoded_x, feature), axis=1)\n",
        "print(\"X shape: : \", encoded_x.shape)\n",
        "\n",
        "# Aplicamos un encoder a y\n",
        "label_encoder = LabelEncoder()\n",
        "label_encoder = label_encoder.fit(y)\n",
        "label_encoded_y = label_encoder.transform(y)\n",
        "# convert integers to dummy variables (i.e. one hot encoded)\n",
        "#dummy_y = np_utils.to_categorical(label_encoded_y)\n",
        "\n",
        "# split data into train and test sets\n",
        "X_train, X_test, y_train, y_test = train_test_split(encoded_x, label_encoded_y, test_size=0.30, random_state=123)\n",
        "\n",
        "# Alicamos una trasformacion a nuestras vaiables\n",
        "scaler=StandardScaler()\n",
        "scaler.fit(X_train)\n",
        "X_train=scaler.transform(X_train)\n",
        "X_test=scaler.transform(X_test)\n",
        "\n",
        "# Definición del modelo\n",
        "def modelo_mlp(): \n",
        "    model = Sequential()\n",
        "    model.add(Dense(25, input_dim=X_train.shape[1], \n",
        "                kernel_initializer= 'he_uniform',\n",
        "                activation='relu', activity_regularizer=regularizers.l1(1e-4)))\n",
        "    model.add(BatchNormalization())\n",
        "    model.add(Dense(15, kernel_initializer= 'he_uniform',\n",
        "                activation='relu',activity_regularizer=regularizers.l1(1e-4)))\n",
        "    model.add(Dropout(0.2))\n",
        "    model.add(BatchNormalization())\n",
        "    model.add(Dense(10, kernel_initializer= 'he_uniform',\n",
        "                activation='relu',activity_regularizer=regularizers.l1(1e-4)))\n",
        "    model.add(Dropout(0.2))\n",
        "    model.add(BatchNormalization())  \n",
        "    model.add(Dense(1, kernel_initializer= 'he_uniform',\n",
        "                activation='sigmoid'))\n",
        "    model.compile(loss='binary_crossentropy', optimizer='adam',\n",
        "                metrics=['accuracy'])\n",
        "    model.summary()\n",
        "    return model\n",
        "\n",
        "model = modelo_mlp()\n",
        "\n",
        "# Entrenamos el modelo con el dataset\n",
        "history=model.fit(X_train, y_train, epochs=40, batch_size=32, validation_data=(X_test, y_test), shuffle=False)\n",
        "\n",
        "# Obtenemos el accuaracy tanto para los datos de entrenamientos como los de prueba\n",
        "loss, accuracy = model.evaluate(X_train, y_train, verbose=False)\n",
        "print(\"Precisión Entrenamiento: {:.4f}\".format(accuracy))\n",
        "loss, accuracy = model.evaluate(X_test, y_test, verbose=False)\n",
        "print(\"Precisión Prueba:  {:.4f}\".format(accuracy))\n",
        "\n",
        "# Obtenemos la curva de aprendizaje del modelo\n",
        "# plot train and validation loss\n",
        "pyplot.plot(history.history['loss'])\n",
        "pyplot.plot(history.history['val_loss'])\n",
        "pyplot.title('model train vs validation loss')\n",
        "pyplot.ylabel('loss')\n",
        "pyplot.xlabel('epoch')\n",
        "pyplot.legend(['train', 'validation'], loc='upper right')\n",
        "pyplot.show()\n",
        "\n",
        "# Predicting the Test set results\n",
        "y_pred = model.predict(X_test)\n",
        "y_pred = (y_pred > 0.5)\n",
        "\n",
        "# confusion matrix\n",
        "matrix = confusion_matrix(y_test, y_pred)\n",
        "print(matrix)\n",
        "\n",
        "from sklearn.metrics import confusion_matrix, roc_curve, auc, accuracy_score\n",
        "import matplotlib.pyplot as plt\n",
        "import seaborn as sns\n",
        "\n",
        "plt.title(\"Matrix de confusión\")\n",
        "sns.heatmap(matrix,annot=True,cmap=\"Blues\",fmt=\"d\",cbar=True, \n",
        "            annot_kws={\"size\": 16})\n",
        "plt.xlabel('Predicho')\n",
        "plt.ylabel('Actual')\n",
        "plt.show()\n",
        "\n",
        "plt.show()\n",
        "# Se obtiene las metricas de evaluación del modelo\n",
        "from sklearn.metrics import classification_report\n",
        "report = classification_report(y_test, y_pred)\n",
        "print(report)"
      ]
    },
    {
      "cell_type": "code",
      "source": [
        "label_encoded_y"
      ],
      "metadata": {
        "colab": {
          "base_uri": "https://localhost:8080/"
        },
        "id": "awsTO1ip6U9u",
        "outputId": "e09438b3-be07-40db-b189-6b1fc8aa4d3d"
      },
      "execution_count": 6,
      "outputs": [
        {
          "output_type": "execute_result",
          "data": {
            "text/plain": [
              "array([0, 0, 1, ..., 0, 0, 1])"
            ]
          },
          "metadata": {},
          "execution_count": 6
        }
      ]
    },
    {
      "cell_type": "code",
      "source": [
        "from sklearn.metrics import classification_report\n",
        "report = classification_report(y_test, y_pred)\n",
        "print(report)"
      ],
      "metadata": {
        "colab": {
          "base_uri": "https://localhost:8080/"
        },
        "id": "PrtPltkD7AaC",
        "outputId": "642ee535-5300-42d6-dcfc-cb90f57ea87e"
      },
      "execution_count": 7,
      "outputs": [
        {
          "output_type": "stream",
          "name": "stdout",
          "text": [
            "              precision    recall  f1-score   support\n",
            "\n",
            "           0       0.51      0.67      0.58      1035\n",
            "           1       0.54      0.38      0.44      1066\n",
            "\n",
            "    accuracy                           0.52      2101\n",
            "   macro avg       0.52      0.52      0.51      2101\n",
            "weighted avg       0.52      0.52      0.51      2101\n",
            "\n"
          ]
        }
      ]
    },
    {
      "cell_type": "code",
      "source": [
        "# Guardamos el modelo generado\n",
        "from keras.models import load_model \n",
        "model.save(\"Version2_model_63883c4716dc8b001ad85ee1.h5\") \n",
        "loaded_model = load_model(\"Version2_model_63883c4716dc8b001ad85ee1.h5\")"
      ],
      "metadata": {
        "id": "3jzu3ATf9m_R"
      },
      "execution_count": 8,
      "outputs": []
    }
  ],
  "metadata": {
    "colab": {
      "provenance": [],
      "include_colab_link": true
    },
    "kernelspec": {
      "display_name": "Python 3",
      "name": "python3"
    },
    "language_info": {
      "name": "python"
    }
  },
  "nbformat": 4,
  "nbformat_minor": 0
}