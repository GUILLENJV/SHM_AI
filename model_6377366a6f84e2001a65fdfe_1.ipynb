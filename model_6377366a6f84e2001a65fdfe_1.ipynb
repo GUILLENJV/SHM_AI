{
  "cells": [
    {
      "cell_type": "markdown",
      "metadata": {
        "id": "view-in-github",
        "colab_type": "text"
      },
      "source": [
        "<a href=\"https://colab.research.google.com/github/GUILLENJV/SHM_AI/blob/master/model_6377366a6f84e2001a65fdfe_1.ipynb\" target=\"_parent\"><img src=\"https://colab.research.google.com/assets/colab-badge.svg\" alt=\"Open In Colab\"/></a>"
      ]
    },
    {
      "cell_type": "code",
      "execution_count": null,
      "metadata": {
        "id": "T_RKpy4whR5f"
      },
      "outputs": [],
      "source": [
        "#learned embedding encoding for a neural network\n",
        "from numpy import unique\n",
        "import numpy\n",
        "from numpy import array\n",
        "import pandas as pd\n",
        "import datetime \n",
        "from time import sleep\n",
        "from tqdm import tqdm\n",
        "import os\n",
        "from pandas import read_csv\n",
        "import json\n",
        "import tensorflow as tf\n",
        "from tensorflow import keras\n",
        "from keras.utils import np_utils\n",
        "import requests\n",
        "import numpy as np\n",
        "from sklearn.model_selection import train_test_split\n",
        "from sklearn.preprocessing import LabelEncoder\n",
        "from sklearn.preprocessing import OneHotEncoder\n",
        "from sklearn.preprocessing import OrdinalEncoder\n",
        "from tensorflow.keras.layers import BatchNormalization\n",
        "from keras.regularizers import l1\n",
        "from keras.regularizers import l2\n",
        "from tensorflow.keras.layers import Dense, Dropout, Flatten\n",
        "from tensorflow.keras.callbacks import EarlyStopping\n",
        "from keras.utils.vis_utils import plot_model\n",
        "from keras.models import Sequential\n",
        "from keras.layers import Dense\n",
        "from tensorflow.keras import regularizers\n",
        "from matplotlib import pyplot\n",
        "import matplotlib.pyplot as plt\n",
        "import seaborn as sns\n",
        "#from predict import model \n",
        "from sklearn import preprocessing\n",
        "from collections import defaultdict\n",
        "from sklearn.preprocessing import StandardScaler\n",
        "from sklearn.neural_network import MLPClassifier\n",
        "from sklearn.metrics import classification_report\n",
        "from sklearn.metrics import confusion_matrix\n",
        "from sklearn.metrics import ConfusionMatrixDisplay\n",
        "from matplotlib import pyplot as plt"
      ]
    },
    {
      "cell_type": "code",
      "execution_count": null,
      "metadata": {
        "id": "V8PQOTills5S"
      },
      "outputs": [],
      "source": [
        "# carga los datos\n",
        "#df = pd.read_excel('631d8277776f1d001a21e6eb.xlsx') \n",
        "df = pd.read_csv('6377366a6f84e2001a65fdfe (1).csv')"
      ]
    },
    {
      "cell_type": "code",
      "execution_count": null,
      "metadata": {
        "colab": {
          "base_uri": "https://localhost:8080/"
        },
        "id": "_hbIK-LFRFPX",
        "outputId": "d8cae09e-ef40-4ef3-bee0-d54c1335808d"
      },
      "outputs": [
        {
          "output_type": "execute_result",
          "data": {
            "text/plain": [
              "62566aa432b19a0164d802be    2019\n",
              "637735d9b20e47001a2057c1    2019\n",
              "6377333cb20e47001a2057c0    2019\n",
              "Name: landing_page_id, dtype: int64"
            ]
          },
          "metadata": {},
          "execution_count": 3
        }
      ],
      "source": [
        "df[\"landing_page_id\"].value_counts()"
      ]
    },
    {
      "cell_type": "code",
      "execution_count": null,
      "metadata": {
        "colab": {
          "base_uri": "https://localhost:8080/",
          "height": 543
        },
        "id": "9jp8L3ComC5l",
        "outputId": "9db6143a-cc54-41b2-f175-edbaf300ec39"
      },
      "outputs": [
        {
          "output_type": "execute_result",
          "data": {
            "text/plain": [
              "                                    _id    landing_pages_group_id  \\\n",
              "0  64c5e4f3-8cd7-4a9b-b373-69c0a2dd1756  6377366a6f84e2001a65fdfe   \n",
              "1  0f2d1ec7-adcd-482c-985e-6aafc77afe73  6377366a6f84e2001a65fdfe   \n",
              "2  887c5a9c-652a-488c-901f-a1f6e2610ec5  6377366a6f84e2001a65fdfe   \n",
              "3  4f33bbf0-3373-48fc-a957-fec5faa948c6  6377366a6f84e2001a65fdfe   \n",
              "4  271ffac8-16f8-49d8-a0f3-68fe2d54d64d  6377366a6f84e2001a65fdfe   \n",
              "\n",
              "                campaign_id           landing_page_id  \\\n",
              "0  63594eb49cf1d0001ac4782b  62566aa432b19a0164d802be   \n",
              "1  6272b7c8b45d5301581d3ddd  62566aa432b19a0164d802be   \n",
              "2  634da21fd76a550019d0db34  637735d9b20e47001a2057c1   \n",
              "3  634da151d76a550019d0d9b3  6377333cb20e47001a2057c0   \n",
              "4  634dd59cd76a550019d0de6c  637735d9b20e47001a2057c1   \n",
              "\n",
              "          traffic_source_id visitor_device_browser  \\\n",
              "0  61159be7649d1d0359dbb161          Chrome Mobile   \n",
              "1  5e46d6787810b90011c91204          Chrome Mobile   \n",
              "2  5e46d6787810b90011c91204                 Safari   \n",
              "3  5e46d6787810b90011c91204          Chrome Mobile   \n",
              "4  5e46d6787810b90011c91204       Facebook for iOS   \n",
              "\n",
              "  visitor_device_hardware_family visitor_device_hardware_model  \\\n",
              "0                         View 3                        B140DL   \n",
              "1               Galaxy Tab 3 8.0                       SM-T310   \n",
              "2                      Macintosh                     Macintosh   \n",
              "3                       Pixel 3a                      Pixel 3a   \n",
              "4                      iPhone 11                     iPhone 11   \n",
              "\n",
              "  visitor_device_hardware_vendor visitor_device_os_family  ...  \\\n",
              "0                            BLU                  Android  ...   \n",
              "1                        Samsung                  Android  ...   \n",
              "2                          Apple                    macOS  ...   \n",
              "3                         Google                  Android  ...   \n",
              "4                          Apple                      iOS  ...   \n",
              "\n",
              "  visitor_geo_location_connection_type visitor_geo_location_countryCode  \\\n",
              "0                             Cellular                               US   \n",
              "1                            Cable/DSL                               US   \n",
              "2                            Cable/DSL                               US   \n",
              "3                            Corporate                               US   \n",
              "4                            Corporate                               US   \n",
              "\n",
              "   visitor_geo_location_isp visitor_geo_location_regionName  \\\n",
              "0          Verizon Wireless                        New York   \n",
              "1                  Spectrum                      California   \n",
              "2        Cox Communications                        Virginia   \n",
              "3               CenturyLink                         Arizona   \n",
              "4  Clearwave Communications                        Illinois   \n",
              "\n",
              "            visitor_tokens_adh visitor_tokens_cadid visitor_tokens_adi  \\\n",
              "0       regwillcoverinzipcodes           Otly1SNLj0       solarpergola   \n",
              "1     regwillcoverowninzipcode            2SUr_THGD       blondejudge2   \n",
              "2  reggovcovercostownhomeinzip           4RY0zVSNww       blondejudge2   \n",
              "3  reggovcovercostownhomeinzip           WgXFI4Uq-I       blondejudge2   \n",
              "4  reggovcovercostownhomeinzip           lzld1mh6bi       blondejudge2   \n",
              "\n",
              "  visitor_tokens_add converted_yes converted_no  \n",
              "0                NaN             0            1  \n",
              "1                NaN             1            0  \n",
              "2                NaN             0            1  \n",
              "3                NaN             1            0  \n",
              "4                NaN             1            0  \n",
              "\n",
              "[5 rows x 24 columns]"
            ],
            "text/html": [
              "\n",
              "  <div id=\"df-48e0da58-50a2-4281-975d-eda17b545d0b\">\n",
              "    <div class=\"colab-df-container\">\n",
              "      <div>\n",
              "<style scoped>\n",
              "    .dataframe tbody tr th:only-of-type {\n",
              "        vertical-align: middle;\n",
              "    }\n",
              "\n",
              "    .dataframe tbody tr th {\n",
              "        vertical-align: top;\n",
              "    }\n",
              "\n",
              "    .dataframe thead th {\n",
              "        text-align: right;\n",
              "    }\n",
              "</style>\n",
              "<table border=\"1\" class=\"dataframe\">\n",
              "  <thead>\n",
              "    <tr style=\"text-align: right;\">\n",
              "      <th></th>\n",
              "      <th>_id</th>\n",
              "      <th>landing_pages_group_id</th>\n",
              "      <th>campaign_id</th>\n",
              "      <th>landing_page_id</th>\n",
              "      <th>traffic_source_id</th>\n",
              "      <th>visitor_device_browser</th>\n",
              "      <th>visitor_device_hardware_family</th>\n",
              "      <th>visitor_device_hardware_model</th>\n",
              "      <th>visitor_device_hardware_vendor</th>\n",
              "      <th>visitor_device_os_family</th>\n",
              "      <th>...</th>\n",
              "      <th>visitor_geo_location_connection_type</th>\n",
              "      <th>visitor_geo_location_countryCode</th>\n",
              "      <th>visitor_geo_location_isp</th>\n",
              "      <th>visitor_geo_location_regionName</th>\n",
              "      <th>visitor_tokens_adh</th>\n",
              "      <th>visitor_tokens_cadid</th>\n",
              "      <th>visitor_tokens_adi</th>\n",
              "      <th>visitor_tokens_add</th>\n",
              "      <th>converted_yes</th>\n",
              "      <th>converted_no</th>\n",
              "    </tr>\n",
              "  </thead>\n",
              "  <tbody>\n",
              "    <tr>\n",
              "      <th>0</th>\n",
              "      <td>64c5e4f3-8cd7-4a9b-b373-69c0a2dd1756</td>\n",
              "      <td>6377366a6f84e2001a65fdfe</td>\n",
              "      <td>63594eb49cf1d0001ac4782b</td>\n",
              "      <td>62566aa432b19a0164d802be</td>\n",
              "      <td>61159be7649d1d0359dbb161</td>\n",
              "      <td>Chrome Mobile</td>\n",
              "      <td>View 3</td>\n",
              "      <td>B140DL</td>\n",
              "      <td>BLU</td>\n",
              "      <td>Android</td>\n",
              "      <td>...</td>\n",
              "      <td>Cellular</td>\n",
              "      <td>US</td>\n",
              "      <td>Verizon Wireless</td>\n",
              "      <td>New York</td>\n",
              "      <td>regwillcoverinzipcodes</td>\n",
              "      <td>Otly1SNLj0</td>\n",
              "      <td>solarpergola</td>\n",
              "      <td>NaN</td>\n",
              "      <td>0</td>\n",
              "      <td>1</td>\n",
              "    </tr>\n",
              "    <tr>\n",
              "      <th>1</th>\n",
              "      <td>0f2d1ec7-adcd-482c-985e-6aafc77afe73</td>\n",
              "      <td>6377366a6f84e2001a65fdfe</td>\n",
              "      <td>6272b7c8b45d5301581d3ddd</td>\n",
              "      <td>62566aa432b19a0164d802be</td>\n",
              "      <td>5e46d6787810b90011c91204</td>\n",
              "      <td>Chrome Mobile</td>\n",
              "      <td>Galaxy Tab 3 8.0</td>\n",
              "      <td>SM-T310</td>\n",
              "      <td>Samsung</td>\n",
              "      <td>Android</td>\n",
              "      <td>...</td>\n",
              "      <td>Cable/DSL</td>\n",
              "      <td>US</td>\n",
              "      <td>Spectrum</td>\n",
              "      <td>California</td>\n",
              "      <td>regwillcoverowninzipcode</td>\n",
              "      <td>2SUr_THGD</td>\n",
              "      <td>blondejudge2</td>\n",
              "      <td>NaN</td>\n",
              "      <td>1</td>\n",
              "      <td>0</td>\n",
              "    </tr>\n",
              "    <tr>\n",
              "      <th>2</th>\n",
              "      <td>887c5a9c-652a-488c-901f-a1f6e2610ec5</td>\n",
              "      <td>6377366a6f84e2001a65fdfe</td>\n",
              "      <td>634da21fd76a550019d0db34</td>\n",
              "      <td>637735d9b20e47001a2057c1</td>\n",
              "      <td>5e46d6787810b90011c91204</td>\n",
              "      <td>Safari</td>\n",
              "      <td>Macintosh</td>\n",
              "      <td>Macintosh</td>\n",
              "      <td>Apple</td>\n",
              "      <td>macOS</td>\n",
              "      <td>...</td>\n",
              "      <td>Cable/DSL</td>\n",
              "      <td>US</td>\n",
              "      <td>Cox Communications</td>\n",
              "      <td>Virginia</td>\n",
              "      <td>reggovcovercostownhomeinzip</td>\n",
              "      <td>4RY0zVSNww</td>\n",
              "      <td>blondejudge2</td>\n",
              "      <td>NaN</td>\n",
              "      <td>0</td>\n",
              "      <td>1</td>\n",
              "    </tr>\n",
              "    <tr>\n",
              "      <th>3</th>\n",
              "      <td>4f33bbf0-3373-48fc-a957-fec5faa948c6</td>\n",
              "      <td>6377366a6f84e2001a65fdfe</td>\n",
              "      <td>634da151d76a550019d0d9b3</td>\n",
              "      <td>6377333cb20e47001a2057c0</td>\n",
              "      <td>5e46d6787810b90011c91204</td>\n",
              "      <td>Chrome Mobile</td>\n",
              "      <td>Pixel 3a</td>\n",
              "      <td>Pixel 3a</td>\n",
              "      <td>Google</td>\n",
              "      <td>Android</td>\n",
              "      <td>...</td>\n",
              "      <td>Corporate</td>\n",
              "      <td>US</td>\n",
              "      <td>CenturyLink</td>\n",
              "      <td>Arizona</td>\n",
              "      <td>reggovcovercostownhomeinzip</td>\n",
              "      <td>WgXFI4Uq-I</td>\n",
              "      <td>blondejudge2</td>\n",
              "      <td>NaN</td>\n",
              "      <td>1</td>\n",
              "      <td>0</td>\n",
              "    </tr>\n",
              "    <tr>\n",
              "      <th>4</th>\n",
              "      <td>271ffac8-16f8-49d8-a0f3-68fe2d54d64d</td>\n",
              "      <td>6377366a6f84e2001a65fdfe</td>\n",
              "      <td>634dd59cd76a550019d0de6c</td>\n",
              "      <td>637735d9b20e47001a2057c1</td>\n",
              "      <td>5e46d6787810b90011c91204</td>\n",
              "      <td>Facebook for iOS</td>\n",
              "      <td>iPhone 11</td>\n",
              "      <td>iPhone 11</td>\n",
              "      <td>Apple</td>\n",
              "      <td>iOS</td>\n",
              "      <td>...</td>\n",
              "      <td>Corporate</td>\n",
              "      <td>US</td>\n",
              "      <td>Clearwave Communications</td>\n",
              "      <td>Illinois</td>\n",
              "      <td>reggovcovercostownhomeinzip</td>\n",
              "      <td>lzld1mh6bi</td>\n",
              "      <td>blondejudge2</td>\n",
              "      <td>NaN</td>\n",
              "      <td>1</td>\n",
              "      <td>0</td>\n",
              "    </tr>\n",
              "  </tbody>\n",
              "</table>\n",
              "<p>5 rows × 24 columns</p>\n",
              "</div>\n",
              "      <button class=\"colab-df-convert\" onclick=\"convertToInteractive('df-48e0da58-50a2-4281-975d-eda17b545d0b')\"\n",
              "              title=\"Convert this dataframe to an interactive table.\"\n",
              "              style=\"display:none;\">\n",
              "        \n",
              "  <svg xmlns=\"http://www.w3.org/2000/svg\" height=\"24px\"viewBox=\"0 0 24 24\"\n",
              "       width=\"24px\">\n",
              "    <path d=\"M0 0h24v24H0V0z\" fill=\"none\"/>\n",
              "    <path d=\"M18.56 5.44l.94 2.06.94-2.06 2.06-.94-2.06-.94-.94-2.06-.94 2.06-2.06.94zm-11 1L8.5 8.5l.94-2.06 2.06-.94-2.06-.94L8.5 2.5l-.94 2.06-2.06.94zm10 10l.94 2.06.94-2.06 2.06-.94-2.06-.94-.94-2.06-.94 2.06-2.06.94z\"/><path d=\"M17.41 7.96l-1.37-1.37c-.4-.4-.92-.59-1.43-.59-.52 0-1.04.2-1.43.59L10.3 9.45l-7.72 7.72c-.78.78-.78 2.05 0 2.83L4 21.41c.39.39.9.59 1.41.59.51 0 1.02-.2 1.41-.59l7.78-7.78 2.81-2.81c.8-.78.8-2.07 0-2.86zM5.41 20L4 18.59l7.72-7.72 1.47 1.35L5.41 20z\"/>\n",
              "  </svg>\n",
              "      </button>\n",
              "      \n",
              "  <style>\n",
              "    .colab-df-container {\n",
              "      display:flex;\n",
              "      flex-wrap:wrap;\n",
              "      gap: 12px;\n",
              "    }\n",
              "\n",
              "    .colab-df-convert {\n",
              "      background-color: #E8F0FE;\n",
              "      border: none;\n",
              "      border-radius: 50%;\n",
              "      cursor: pointer;\n",
              "      display: none;\n",
              "      fill: #1967D2;\n",
              "      height: 32px;\n",
              "      padding: 0 0 0 0;\n",
              "      width: 32px;\n",
              "    }\n",
              "\n",
              "    .colab-df-convert:hover {\n",
              "      background-color: #E2EBFA;\n",
              "      box-shadow: 0px 1px 2px rgba(60, 64, 67, 0.3), 0px 1px 3px 1px rgba(60, 64, 67, 0.15);\n",
              "      fill: #174EA6;\n",
              "    }\n",
              "\n",
              "    [theme=dark] .colab-df-convert {\n",
              "      background-color: #3B4455;\n",
              "      fill: #D2E3FC;\n",
              "    }\n",
              "\n",
              "    [theme=dark] .colab-df-convert:hover {\n",
              "      background-color: #434B5C;\n",
              "      box-shadow: 0px 1px 3px 1px rgba(0, 0, 0, 0.15);\n",
              "      filter: drop-shadow(0px 1px 2px rgba(0, 0, 0, 0.3));\n",
              "      fill: #FFFFFF;\n",
              "    }\n",
              "  </style>\n",
              "\n",
              "      <script>\n",
              "        const buttonEl =\n",
              "          document.querySelector('#df-48e0da58-50a2-4281-975d-eda17b545d0b button.colab-df-convert');\n",
              "        buttonEl.style.display =\n",
              "          google.colab.kernel.accessAllowed ? 'block' : 'none';\n",
              "\n",
              "        async function convertToInteractive(key) {\n",
              "          const element = document.querySelector('#df-48e0da58-50a2-4281-975d-eda17b545d0b');\n",
              "          const dataTable =\n",
              "            await google.colab.kernel.invokeFunction('convertToInteractive',\n",
              "                                                     [key], {});\n",
              "          if (!dataTable) return;\n",
              "\n",
              "          const docLinkHtml = 'Like what you see? Visit the ' +\n",
              "            '<a target=\"_blank\" href=https://colab.research.google.com/notebooks/data_table.ipynb>data table notebook</a>'\n",
              "            + ' to learn more about interactive tables.';\n",
              "          element.innerHTML = '';\n",
              "          dataTable['output_type'] = 'display_data';\n",
              "          await google.colab.output.renderOutput(dataTable, element);\n",
              "          const docLink = document.createElement('div');\n",
              "          docLink.innerHTML = docLinkHtml;\n",
              "          element.appendChild(docLink);\n",
              "        }\n",
              "      </script>\n",
              "    </div>\n",
              "  </div>\n",
              "  "
            ]
          },
          "metadata": {},
          "execution_count": 4
        }
      ],
      "source": [
        "df.head()"
      ]
    },
    {
      "cell_type": "code",
      "execution_count": null,
      "metadata": {
        "colab": {
          "base_uri": "https://localhost:8080/"
        },
        "id": "a43tmczGUaf4",
        "outputId": "d5374862-584e-4c24-e874-24b3b19c561e"
      },
      "outputs": [
        {
          "output_type": "execute_result",
          "data": {
            "text/plain": [
              "_id                                     object\n",
              "landing_pages_group_id                  object\n",
              "campaign_id                             object\n",
              "landing_page_id                         object\n",
              "traffic_source_id                       object\n",
              "visitor_device_browser                  object\n",
              "visitor_device_hardware_family          object\n",
              "visitor_device_hardware_model           object\n",
              "visitor_device_hardware_vendor          object\n",
              "visitor_device_os_family                object\n",
              "visitor_device_os_vendor                object\n",
              "visitor_device_os_version               object\n",
              "visitor_device_type                     object\n",
              "visitor_geo_location_cityName           object\n",
              "visitor_geo_location_connection_type    object\n",
              "visitor_geo_location_countryCode        object\n",
              "visitor_geo_location_isp                object\n",
              "visitor_geo_location_regionName         object\n",
              "visitor_tokens_adh                      object\n",
              "visitor_tokens_cadid                    object\n",
              "visitor_tokens_adi                      object\n",
              "visitor_tokens_add                      object\n",
              "converted_yes                            int64\n",
              "converted_no                             int64\n",
              "dtype: object"
            ]
          },
          "metadata": {},
          "execution_count": 5
        }
      ],
      "source": [
        "df.dtypes"
      ]
    },
    {
      "cell_type": "code",
      "execution_count": null,
      "metadata": {
        "id": "AJKtQrTeFzz9"
      },
      "outputs": [],
      "source": [
        "df[\"visitor_device_hardware_family\"] = df[\"visitor_device_hardware_family\"].apply(str)\n",
        "df[\"visitor_device_hardware_model\"] = df[\"visitor_device_hardware_model\"].apply(str)\n",
        "df[\"visitor_device_os_version\"] = df[\"visitor_device_os_version\"].apply(str)\n",
        "df[\"visitor_device_hardware_family\"] = df[\"visitor_device_hardware_family\"].apply(str)\n",
        "df[\"visitor_device_hardware_model\"] = df[\"visitor_device_hardware_model\"].apply(str)\n",
        "df[\"visitor_device_os_version\"] = df[\"visitor_device_os_version\"].apply(str)\n",
        "df[\"visitor_tokens_adh\"] = df[\"visitor_tokens_adh\"].apply(str)\n",
        "df[\"visitor_tokens_cadid\"] = df[\"visitor_tokens_cadid\"].apply(str)\n",
        "df[\"converted_yes\"] = df[\"converted_yes\"].apply(str)\n",
        "df[\"converted_no\"] = df[\"converted_no\"].apply(str)"
      ]
    },
    {
      "cell_type": "code",
      "execution_count": null,
      "metadata": {
        "id": "y0zD2rWY87BV"
      },
      "outputs": [],
      "source": [
        "#!pip install sweetviz"
      ]
    },
    {
      "cell_type": "code",
      "execution_count": null,
      "metadata": {
        "id": "uFml64CP9BGh"
      },
      "outputs": [],
      "source": [
        "#import sweetviz as sv"
      ]
    },
    {
      "cell_type": "code",
      "execution_count": null,
      "metadata": {
        "id": "VDJGuIX89EGM"
      },
      "outputs": [],
      "source": [
        "# Generar el reporte\n",
        "#sweet_report = sv.analyze(df)"
      ]
    },
    {
      "cell_type": "code",
      "execution_count": null,
      "metadata": {
        "id": "TQRE6MF89L4R"
      },
      "outputs": [],
      "source": [
        "# Se muestra la salida\n",
        "#sweet_report.show_notebook()"
      ]
    },
    {
      "cell_type": "code",
      "execution_count": null,
      "metadata": {
        "colab": {
          "base_uri": "https://localhost:8080/"
        },
        "id": "fbiWv_lfHobR",
        "outputId": "eb226a31-e74b-4c67-86e4-fcf3dfbfdd3a"
      },
      "outputs": [
        {
          "output_type": "execute_result",
          "data": {
            "text/plain": [
              "_id                                        0\n",
              "visitor_tokens_cadid                       0\n",
              "visitor_tokens_adh                         0\n",
              "visitor_device_type                        0\n",
              "converted_yes                              0\n",
              "visitor_device_os_vendor                   0\n",
              "visitor_device_os_family                   0\n",
              "visitor_device_hardware_vendor             0\n",
              "visitor_device_os_version                  0\n",
              "visitor_device_hardware_family             0\n",
              "visitor_device_browser                     0\n",
              "traffic_source_id                          0\n",
              "landing_page_id                            0\n",
              "campaign_id                                0\n",
              "landing_pages_group_id                     0\n",
              "visitor_device_hardware_model              0\n",
              "converted_no                               0\n",
              "visitor_geo_location_countryCode           3\n",
              "visitor_geo_location_regionName            3\n",
              "visitor_tokens_adi                         8\n",
              "visitor_geo_location_isp                 101\n",
              "visitor_geo_location_connection_type     102\n",
              "visitor_geo_location_cityName            142\n",
              "visitor_tokens_add                      6056\n",
              "dtype: int64"
            ]
          },
          "metadata": {},
          "execution_count": 11
        }
      ],
      "source": [
        "df.isna().sum().sort_values()"
      ]
    },
    {
      "cell_type": "code",
      "execution_count": null,
      "metadata": {
        "colab": {
          "base_uri": "https://localhost:8080/"
        },
        "id": "tdsNpuBiHoTN",
        "outputId": "c8d3aa56-3e3f-4c6e-d772-a46952487328"
      },
      "outputs": [
        {
          "output_type": "execute_result",
          "data": {
            "text/plain": [
              "(6057, 24)"
            ]
          },
          "metadata": {},
          "execution_count": 12
        }
      ],
      "source": [
        "df.shape"
      ]
    },
    {
      "cell_type": "code",
      "execution_count": null,
      "metadata": {
        "id": "Oqgl8stx-Htu"
      },
      "outputs": [],
      "source": [
        "df = df.drop(['landing_pages_group_id','visitor_tokens_add', '_id'], axis=1)"
      ]
    },
    {
      "cell_type": "code",
      "execution_count": null,
      "metadata": {
        "id": "t6kx6QeV-lK8"
      },
      "outputs": [],
      "source": [
        "df = df.drop_duplicates()"
      ]
    },
    {
      "cell_type": "code",
      "execution_count": null,
      "metadata": {
        "colab": {
          "base_uri": "https://localhost:8080/"
        },
        "id": "90e4B00u-o6N",
        "outputId": "734d95dc-4c3c-4398-ee22-9cdd4ae2ccaf"
      },
      "outputs": [
        {
          "output_type": "execute_result",
          "data": {
            "text/plain": [
              "campaign_id                               0\n",
              "visitor_tokens_cadid                      0\n",
              "visitor_tokens_adh                        0\n",
              "converted_yes                             0\n",
              "visitor_device_os_version                 0\n",
              "visitor_device_os_vendor                  0\n",
              "visitor_device_os_family                  0\n",
              "visitor_device_type                       0\n",
              "visitor_device_hardware_model             0\n",
              "visitor_device_hardware_family            0\n",
              "visitor_device_browser                    0\n",
              "traffic_source_id                         0\n",
              "landing_page_id                           0\n",
              "visitor_device_hardware_vendor            0\n",
              "converted_no                              0\n",
              "visitor_geo_location_countryCode          3\n",
              "visitor_geo_location_regionName           3\n",
              "visitor_tokens_adi                        6\n",
              "visitor_geo_location_isp                 69\n",
              "visitor_geo_location_connection_type     70\n",
              "visitor_geo_location_cityName           141\n",
              "dtype: int64"
            ]
          },
          "metadata": {},
          "execution_count": 15
        }
      ],
      "source": [
        "df.isna().sum().sort_values()"
      ]
    },
    {
      "cell_type": "code",
      "source": [
        "df.shape"
      ],
      "metadata": {
        "colab": {
          "base_uri": "https://localhost:8080/"
        },
        "id": "hkDcUf3Wsm7G",
        "outputId": "a7fff3ae-61fc-42c4-a3c7-7def2abdd181"
      },
      "execution_count": null,
      "outputs": [
        {
          "output_type": "execute_result",
          "data": {
            "text/plain": [
              "(5909, 21)"
            ]
          },
          "metadata": {},
          "execution_count": 16
        }
      ]
    },
    {
      "cell_type": "code",
      "execution_count": null,
      "metadata": {
        "id": "SnN5E_zP-vl1"
      },
      "outputs": [],
      "source": [
        "# Imputamos la variable \n",
        "df['visitor_geo_location_countryCode'].fillna(df['visitor_geo_location_countryCode'].mode()[0], inplace=True)\n",
        "df['visitor_geo_location_regionName'].fillna(df['visitor_geo_location_regionName'].mode()[0], inplace=True)\n",
        "df['visitor_tokens_adi'].fillna(df['visitor_tokens_adi'].mode()[0], inplace=True)\n",
        "df['visitor_geo_location_isp'].fillna(df['visitor_geo_location_isp'].mode()[0], inplace=True)\n",
        "df['visitor_geo_location_connection_type'].fillna(df['visitor_geo_location_connection_type'].mode()[0], inplace=True)\n",
        "df['visitor_geo_location_cityName'].fillna(df['visitor_geo_location_cityName'].mode()[0], inplace=True)"
      ]
    },
    {
      "cell_type": "code",
      "execution_count": null,
      "metadata": {
        "colab": {
          "base_uri": "https://localhost:8080/"
        },
        "id": "dKHWxTeQAQGm",
        "outputId": "4b02146e-c077-4179-d9c0-afde4cda708b"
      },
      "outputs": [
        {
          "output_type": "execute_result",
          "data": {
            "text/plain": [
              "(5909, 21)"
            ]
          },
          "metadata": {},
          "execution_count": 18
        }
      ],
      "source": [
        "df.shape"
      ]
    },
    {
      "cell_type": "code",
      "execution_count": null,
      "metadata": {
        "colab": {
          "base_uri": "https://localhost:8080/"
        },
        "id": "4a-cwd74Al92",
        "outputId": "53060cc4-2c16-4c8c-f1e3-40d442d7139c"
      },
      "outputs": [
        {
          "output_type": "execute_result",
          "data": {
            "text/plain": [
              "campaign_id                             0\n",
              "visitor_tokens_adi                      0\n",
              "visitor_tokens_cadid                    0\n",
              "visitor_tokens_adh                      0\n",
              "visitor_geo_location_regionName         0\n",
              "visitor_geo_location_isp                0\n",
              "visitor_geo_location_countryCode        0\n",
              "visitor_geo_location_connection_type    0\n",
              "visitor_geo_location_cityName           0\n",
              "converted_yes                           0\n",
              "visitor_device_type                     0\n",
              "visitor_device_os_vendor                0\n",
              "visitor_device_os_family                0\n",
              "visitor_device_hardware_vendor          0\n",
              "visitor_device_hardware_model           0\n",
              "visitor_device_hardware_family          0\n",
              "visitor_device_browser                  0\n",
              "traffic_source_id                       0\n",
              "landing_page_id                         0\n",
              "visitor_device_os_version               0\n",
              "converted_no                            0\n",
              "dtype: int64"
            ]
          },
          "metadata": {},
          "execution_count": 19
        }
      ],
      "source": [
        "df.isna().sum().sort_values()"
      ]
    },
    {
      "cell_type": "code",
      "execution_count": null,
      "metadata": {
        "colab": {
          "base_uri": "https://localhost:8080/"
        },
        "id": "caDEzLtDAw5b",
        "outputId": "2e670a3e-3936-49e4-e85c-28990dba209c"
      },
      "outputs": [
        {
          "output_type": "execute_result",
          "data": {
            "text/plain": [
              "Index(['campaign_id', 'landing_page_id', 'traffic_source_id',\n",
              "       'visitor_device_browser', 'visitor_device_hardware_family',\n",
              "       'visitor_device_hardware_model', 'visitor_device_hardware_vendor',\n",
              "       'visitor_device_os_family', 'visitor_device_os_vendor',\n",
              "       'visitor_device_os_version', 'visitor_device_type',\n",
              "       'visitor_geo_location_cityName', 'visitor_geo_location_connection_type',\n",
              "       'visitor_geo_location_countryCode', 'visitor_geo_location_isp',\n",
              "       'visitor_geo_location_regionName', 'visitor_tokens_adh',\n",
              "       'visitor_tokens_cadid', 'visitor_tokens_adi', 'converted_yes',\n",
              "       'converted_no'],\n",
              "      dtype='object')"
            ]
          },
          "metadata": {},
          "execution_count": 20
        }
      ],
      "source": [
        "df.columns"
      ]
    },
    {
      "cell_type": "code",
      "execution_count": null,
      "metadata": {
        "id": "-7YP24hjAzG6"
      },
      "outputs": [],
      "source": [
        "X = df[['campaign_id', 'traffic_source_id',\n",
        "       'visitor_device_browser', \n",
        "        'visitor_device_type',\n",
        "        'visitor_geo_location_countryCode',\n",
        "       'visitor_geo_location_regionName', 'visitor_tokens_adh',\n",
        "       'visitor_tokens_cadid', 'visitor_tokens_adi']]"
      ]
    },
    {
      "cell_type": "code",
      "execution_count": null,
      "metadata": {
        "id": "CBFyRWFvA7kF"
      },
      "outputs": [],
      "source": [
        "X = X.astype(str).to_numpy()"
      ]
    },
    {
      "cell_type": "code",
      "execution_count": null,
      "metadata": {
        "id": "dzjwZEbGAzOZ"
      },
      "outputs": [],
      "source": [
        "y = df[[\"landing_page_id\"]].to_numpy()"
      ]
    },
    {
      "cell_type": "code",
      "execution_count": null,
      "metadata": {
        "colab": {
          "base_uri": "https://localhost:8080/"
        },
        "id": "6xXt-zogA-dk",
        "outputId": "6709ddaf-c288-4503-f058-17ad66e953e8"
      },
      "outputs": [
        {
          "output_type": "stream",
          "name": "stdout",
          "text": [
            "X shape: :  (5909, 9)\n"
          ]
        }
      ],
      "source": [
        "# encode string input values as integers\n",
        "encoded_x = None\n",
        "for i in range(0, X.shape[1]):\n",
        "    label_encoder = LabelEncoder()\n",
        "    feature = label_encoder.fit_transform(X[:,i])\n",
        "    feature = feature.reshape(X.shape[0], 1)\n",
        "    onehot_encoder = OrdinalEncoder()\n",
        "    feature = onehot_encoder.fit_transform(feature)\n",
        "    if encoded_x is None:\n",
        "        encoded_x = feature\n",
        "    else:\n",
        "        encoded_x = numpy.concatenate((encoded_x, feature), axis=1)\n",
        "print(\"X shape: : \", encoded_x.shape)\n"
      ]
    },
    {
      "cell_type": "code",
      "execution_count": null,
      "metadata": {
        "colab": {
          "base_uri": "https://localhost:8080/"
        },
        "id": "GE_WkiJPA-gK",
        "outputId": "752379e3-8701-4ee6-9d47-2c8f3e2d2f89"
      },
      "outputs": [
        {
          "output_type": "execute_result",
          "data": {
            "text/plain": [
              "array([[ 26.,   5.,   3., ...,  18.,  69.,   9.],\n",
              "       [  6.,   4.,   3., ...,  20.,   8.,   1.],\n",
              "       [ 23.,   4.,  33., ...,  12.,  17.,   1.],\n",
              "       ...,\n",
              "       [  2.,   0.,   3., ...,  20., 110.,   0.],\n",
              "       [ 22.,   4.,   3., ...,  12.,  82.,   2.],\n",
              "       [ 22.,   4.,   3., ...,  20., 114.,   1.]])"
            ]
          },
          "metadata": {},
          "execution_count": 25
        }
      ],
      "source": [
        "encoded_x"
      ]
    },
    {
      "cell_type": "code",
      "execution_count": null,
      "metadata": {
        "colab": {
          "base_uri": "https://localhost:8080/"
        },
        "id": "sbTc56B2A-ik",
        "outputId": "8b1788f6-9b2a-4299-ed75-3951e7f31810"
      },
      "outputs": [
        {
          "output_type": "stream",
          "name": "stderr",
          "text": [
            "/usr/local/lib/python3.7/dist-packages/sklearn/preprocessing/_label.py:98: DataConversionWarning: A column-vector y was passed when a 1d array was expected. Please change the shape of y to (n_samples, ), for example using ravel().\n",
            "  y = column_or_1d(y, warn=True)\n",
            "/usr/local/lib/python3.7/dist-packages/sklearn/preprocessing/_label.py:133: DataConversionWarning: A column-vector y was passed when a 1d array was expected. Please change the shape of y to (n_samples, ), for example using ravel().\n",
            "  y = column_or_1d(y, warn=True)\n"
          ]
        }
      ],
      "source": [
        "# encode string class values as integers\n",
        "label_encoder = LabelEncoder()\n",
        "label_encoder = label_encoder.fit(y)\n",
        "label_encoded_y = label_encoder.transform(y)\n",
        "# convert integers to dummy variables (i.e. one hot encoded)\n",
        "dummy_y = np_utils.to_categorical(label_encoded_y)"
      ]
    },
    {
      "cell_type": "code",
      "execution_count": null,
      "metadata": {
        "colab": {
          "base_uri": "https://localhost:8080/"
        },
        "id": "IGjvfbs_eJKR",
        "outputId": "e266fc5f-ec57-4e75-df06-cad8aee60293"
      },
      "outputs": [
        {
          "output_type": "execute_result",
          "data": {
            "text/plain": [
              "array([0, 0, 2, ..., 1, 0, 0])"
            ]
          },
          "metadata": {},
          "execution_count": 27
        }
      ],
      "source": [
        "label_encoded_y"
      ]
    },
    {
      "cell_type": "code",
      "execution_count": null,
      "metadata": {
        "colab": {
          "base_uri": "https://localhost:8080/"
        },
        "id": "YnXC68vwYZew",
        "outputId": "49710e7c-e945-48c9-c5de-706b4fc6e3fd"
      },
      "outputs": [
        {
          "output_type": "execute_result",
          "data": {
            "text/plain": [
              "array([[1., 0., 0.],\n",
              "       [1., 0., 0.],\n",
              "       [0., 0., 1.],\n",
              "       ...,\n",
              "       [0., 1., 0.],\n",
              "       [1., 0., 0.],\n",
              "       [1., 0., 0.]], dtype=float32)"
            ]
          },
          "metadata": {},
          "execution_count": 28
        }
      ],
      "source": [
        "dummy_y"
      ]
    },
    {
      "cell_type": "code",
      "execution_count": null,
      "metadata": {
        "id": "jxLVfIDkA-kp"
      },
      "outputs": [],
      "source": [
        "# split data into train and test sets\n",
        "X_train, X_test, y_train, y_test = train_test_split(encoded_x, dummy_y, test_size=0.30, random_state=123)"
      ]
    },
    {
      "cell_type": "code",
      "execution_count": null,
      "metadata": {
        "id": "i56-v03TBYj0"
      },
      "outputs": [],
      "source": [
        "from sklearn.preprocessing import StandardScaler\n",
        "scaler=StandardScaler()\n",
        "scaler.fit(X_train)\n",
        "X_train=scaler.transform(X_train)\n",
        "X_test=scaler.transform(X_test)"
      ]
    },
    {
      "cell_type": "code",
      "execution_count": null,
      "metadata": {
        "id": "WO4UbSPkBSYV"
      },
      "outputs": [],
      "source": [
        "# Definición del modelo\n",
        "def modelo_mlp(): \n",
        "    model = Sequential()\n",
        "    model.add(Dense(30, input_dim=X_train.shape[1], \n",
        "                kernel_initializer= 'he_uniform',\n",
        "                activation='relu', activity_regularizer=regularizers.l1(1e-4)))\n",
        "    model.add(BatchNormalization())\n",
        "    model.add(Dense(15, kernel_initializer= 'he_uniform',\n",
        "                activation='relu',activity_regularizer=regularizers.l1(1e-4)))\n",
        "    model.add(Dropout(0.2))\n",
        "    model.add(BatchNormalization())\n",
        "    model.add(Dense(10, kernel_initializer= 'he_uniform',\n",
        "                activation='relu',activity_regularizer=regularizers.l1(1e-4)))\n",
        "    model.add(Dropout(0.2))\n",
        "    model.add(BatchNormalization())  \n",
        "    model.add(Dense(3, kernel_initializer= 'he_uniform',\n",
        "                activation='softmax'))\n",
        "    model.compile(loss='categorical_crossentropy', optimizer='adam',\n",
        "                metrics=['accuracy'])\n",
        "    model.summary()\n",
        "    return model"
      ]
    },
    {
      "cell_type": "code",
      "execution_count": null,
      "metadata": {
        "colab": {
          "base_uri": "https://localhost:8080/"
        },
        "id": "I3HiwZHSUvnP",
        "outputId": "0a47b93e-7326-4f32-c733-c360545e19ed"
      },
      "outputs": [
        {
          "output_type": "stream",
          "name": "stdout",
          "text": [
            "Model: \"sequential\"\n",
            "_________________________________________________________________\n",
            " Layer (type)                Output Shape              Param #   \n",
            "=================================================================\n",
            " dense (Dense)               (None, 30)                300       \n",
            "                                                                 \n",
            " batch_normalization (BatchN  (None, 30)               120       \n",
            " ormalization)                                                   \n",
            "                                                                 \n",
            " dense_1 (Dense)             (None, 15)                465       \n",
            "                                                                 \n",
            " dropout (Dropout)           (None, 15)                0         \n",
            "                                                                 \n",
            " batch_normalization_1 (Batc  (None, 15)               60        \n",
            " hNormalization)                                                 \n",
            "                                                                 \n",
            " dense_2 (Dense)             (None, 10)                160       \n",
            "                                                                 \n",
            " dropout_1 (Dropout)         (None, 10)                0         \n",
            "                                                                 \n",
            " batch_normalization_2 (Batc  (None, 10)               40        \n",
            " hNormalization)                                                 \n",
            "                                                                 \n",
            " dense_3 (Dense)             (None, 3)                 33        \n",
            "                                                                 \n",
            "=================================================================\n",
            "Total params: 1,178\n",
            "Trainable params: 1,068\n",
            "Non-trainable params: 110\n",
            "_________________________________________________________________\n"
          ]
        }
      ],
      "source": [
        "model = modelo_mlp()"
      ]
    },
    {
      "cell_type": "code",
      "execution_count": null,
      "metadata": {
        "colab": {
          "base_uri": "https://localhost:8080/"
        },
        "id": "NfffQIygUvuY",
        "outputId": "7368061e-8222-441d-a811-8ae6baba2d22"
      },
      "outputs": [
        {
          "output_type": "stream",
          "name": "stdout",
          "text": [
            "Epoch 1/100\n",
            "130/130 [==============================] - 2s 7ms/step - loss: 1.2675 - accuracy: 0.3465 - val_loss: 1.0778 - val_accuracy: 0.4123\n",
            "Epoch 2/100\n",
            "130/130 [==============================] - 1s 4ms/step - loss: 1.1818 - accuracy: 0.3600 - val_loss: 1.0618 - val_accuracy: 0.4236\n",
            "Epoch 3/100\n",
            "130/130 [==============================] - 1s 5ms/step - loss: 1.1501 - accuracy: 0.3574 - val_loss: 1.0603 - val_accuracy: 0.4219\n",
            "Epoch 4/100\n",
            "130/130 [==============================] - 1s 4ms/step - loss: 1.1213 - accuracy: 0.3774 - val_loss: 1.0568 - val_accuracy: 0.4320\n",
            "Epoch 5/100\n",
            "130/130 [==============================] - 1s 5ms/step - loss: 1.1020 - accuracy: 0.3779 - val_loss: 1.0561 - val_accuracy: 0.4371\n",
            "Epoch 6/100\n",
            "130/130 [==============================] - 1s 4ms/step - loss: 1.0901 - accuracy: 0.3982 - val_loss: 1.0535 - val_accuracy: 0.4495\n",
            "Epoch 7/100\n",
            "130/130 [==============================] - 1s 4ms/step - loss: 1.0860 - accuracy: 0.3883 - val_loss: 1.0510 - val_accuracy: 0.4484\n",
            "Epoch 8/100\n",
            "130/130 [==============================] - 1s 7ms/step - loss: 1.0844 - accuracy: 0.3987 - val_loss: 1.0492 - val_accuracy: 0.4557\n",
            "Epoch 9/100\n",
            "130/130 [==============================] - 1s 6ms/step - loss: 1.0785 - accuracy: 0.4105 - val_loss: 1.0481 - val_accuracy: 0.4552\n",
            "Epoch 10/100\n",
            "130/130 [==============================] - 1s 4ms/step - loss: 1.0784 - accuracy: 0.4059 - val_loss: 1.0459 - val_accuracy: 0.4523\n",
            "Epoch 11/100\n",
            "130/130 [==============================] - 1s 4ms/step - loss: 1.0664 - accuracy: 0.4064 - val_loss: 1.0389 - val_accuracy: 0.4580\n",
            "Epoch 12/100\n",
            "130/130 [==============================] - 1s 6ms/step - loss: 1.0675 - accuracy: 0.4144 - val_loss: 1.0359 - val_accuracy: 0.4456\n",
            "Epoch 13/100\n",
            "130/130 [==============================] - 1s 7ms/step - loss: 1.0636 - accuracy: 0.4156 - val_loss: 1.0296 - val_accuracy: 0.4428\n",
            "Epoch 14/100\n",
            "130/130 [==============================] - 1s 5ms/step - loss: 1.0625 - accuracy: 0.4105 - val_loss: 1.0260 - val_accuracy: 0.4523\n",
            "Epoch 15/100\n",
            "130/130 [==============================] - 1s 6ms/step - loss: 1.0559 - accuracy: 0.4168 - val_loss: 1.0225 - val_accuracy: 0.4388\n",
            "Epoch 16/100\n",
            "130/130 [==============================] - 1s 7ms/step - loss: 1.0538 - accuracy: 0.4168 - val_loss: 1.0202 - val_accuracy: 0.4473\n",
            "Epoch 17/100\n",
            "130/130 [==============================] - 1s 5ms/step - loss: 1.0464 - accuracy: 0.4209 - val_loss: 1.0173 - val_accuracy: 0.4529\n",
            "Epoch 18/100\n",
            "130/130 [==============================] - 1s 6ms/step - loss: 1.0403 - accuracy: 0.4282 - val_loss: 1.0150 - val_accuracy: 0.4574\n",
            "Epoch 19/100\n",
            "130/130 [==============================] - 1s 5ms/step - loss: 1.0467 - accuracy: 0.4342 - val_loss: 1.0129 - val_accuracy: 0.4557\n",
            "Epoch 20/100\n",
            "130/130 [==============================] - 1s 7ms/step - loss: 1.0416 - accuracy: 0.4386 - val_loss: 1.0125 - val_accuracy: 0.4585\n",
            "Epoch 21/100\n",
            "130/130 [==============================] - 1s 5ms/step - loss: 1.0464 - accuracy: 0.4309 - val_loss: 1.0114 - val_accuracy: 0.4614\n",
            "Epoch 22/100\n",
            "130/130 [==============================] - 1s 5ms/step - loss: 1.0356 - accuracy: 0.4270 - val_loss: 1.0089 - val_accuracy: 0.4557\n",
            "Epoch 23/100\n",
            "130/130 [==============================] - 1s 4ms/step - loss: 1.0395 - accuracy: 0.4287 - val_loss: 1.0066 - val_accuracy: 0.4569\n",
            "Epoch 24/100\n",
            "130/130 [==============================] - 1s 4ms/step - loss: 1.0298 - accuracy: 0.4441 - val_loss: 1.0041 - val_accuracy: 0.4518\n",
            "Epoch 25/100\n",
            "130/130 [==============================] - 1s 6ms/step - loss: 1.0300 - accuracy: 0.4473 - val_loss: 1.0013 - val_accuracy: 0.4563\n",
            "Epoch 26/100\n",
            "130/130 [==============================] - 1s 4ms/step - loss: 1.0346 - accuracy: 0.4485 - val_loss: 1.0053 - val_accuracy: 0.4597\n",
            "Epoch 27/100\n",
            "130/130 [==============================] - 1s 5ms/step - loss: 1.0340 - accuracy: 0.4400 - val_loss: 1.0005 - val_accuracy: 0.4614\n",
            "Epoch 28/100\n",
            "130/130 [==============================] - 1s 4ms/step - loss: 1.0257 - accuracy: 0.4420 - val_loss: 0.9975 - val_accuracy: 0.4647\n",
            "Epoch 29/100\n",
            "130/130 [==============================] - 1s 5ms/step - loss: 1.0322 - accuracy: 0.4410 - val_loss: 0.9992 - val_accuracy: 0.4602\n",
            "Epoch 30/100\n",
            "130/130 [==============================] - 1s 5ms/step - loss: 1.0260 - accuracy: 0.4449 - val_loss: 0.9983 - val_accuracy: 0.4659\n",
            "Epoch 31/100\n",
            "130/130 [==============================] - 0s 3ms/step - loss: 1.0254 - accuracy: 0.4466 - val_loss: 0.9994 - val_accuracy: 0.4636\n",
            "Epoch 32/100\n",
            "130/130 [==============================] - 0s 3ms/step - loss: 1.0282 - accuracy: 0.4374 - val_loss: 0.9972 - val_accuracy: 0.4636\n",
            "Epoch 33/100\n",
            "130/130 [==============================] - 1s 7ms/step - loss: 1.0210 - accuracy: 0.4538 - val_loss: 0.9968 - val_accuracy: 0.4693\n",
            "Epoch 34/100\n",
            "130/130 [==============================] - 1s 4ms/step - loss: 1.0240 - accuracy: 0.4398 - val_loss: 0.9925 - val_accuracy: 0.4681\n",
            "Epoch 35/100\n",
            "130/130 [==============================] - 0s 3ms/step - loss: 1.0171 - accuracy: 0.4538 - val_loss: 0.9983 - val_accuracy: 0.4608\n",
            "Epoch 36/100\n",
            "130/130 [==============================] - 0s 3ms/step - loss: 1.0198 - accuracy: 0.4565 - val_loss: 0.9962 - val_accuracy: 0.4631\n",
            "Epoch 37/100\n",
            "130/130 [==============================] - 0s 4ms/step - loss: 1.0196 - accuracy: 0.4587 - val_loss: 0.9968 - val_accuracy: 0.4631\n",
            "Epoch 38/100\n",
            "130/130 [==============================] - 0s 3ms/step - loss: 1.0251 - accuracy: 0.4502 - val_loss: 0.9930 - val_accuracy: 0.4704\n",
            "Epoch 39/100\n",
            "130/130 [==============================] - 1s 4ms/step - loss: 1.0232 - accuracy: 0.4512 - val_loss: 0.9959 - val_accuracy: 0.4715\n",
            "Epoch 40/100\n",
            "130/130 [==============================] - 0s 4ms/step - loss: 1.0122 - accuracy: 0.4613 - val_loss: 0.9923 - val_accuracy: 0.4721\n",
            "Epoch 41/100\n",
            "130/130 [==============================] - 0s 3ms/step - loss: 1.0134 - accuracy: 0.4603 - val_loss: 0.9931 - val_accuracy: 0.4749\n",
            "Epoch 42/100\n",
            "130/130 [==============================] - 0s 4ms/step - loss: 1.0152 - accuracy: 0.4468 - val_loss: 0.9940 - val_accuracy: 0.4676\n",
            "Epoch 43/100\n",
            "130/130 [==============================] - 0s 3ms/step - loss: 1.0147 - accuracy: 0.4584 - val_loss: 0.9945 - val_accuracy: 0.4659\n",
            "Epoch 44/100\n",
            "130/130 [==============================] - 0s 4ms/step - loss: 1.0210 - accuracy: 0.4514 - val_loss: 0.9957 - val_accuracy: 0.4569\n",
            "Epoch 45/100\n",
            "130/130 [==============================] - 0s 3ms/step - loss: 1.0097 - accuracy: 0.4533 - val_loss: 0.9926 - val_accuracy: 0.4693\n",
            "Epoch 46/100\n",
            "130/130 [==============================] - 1s 5ms/step - loss: 1.0123 - accuracy: 0.4574 - val_loss: 0.9908 - val_accuracy: 0.4642\n",
            "Epoch 47/100\n",
            "130/130 [==============================] - 0s 3ms/step - loss: 1.0065 - accuracy: 0.4531 - val_loss: 0.9930 - val_accuracy: 0.4676\n",
            "Epoch 48/100\n",
            "130/130 [==============================] - 0s 2ms/step - loss: 1.0100 - accuracy: 0.4553 - val_loss: 0.9949 - val_accuracy: 0.4710\n",
            "Epoch 49/100\n",
            "130/130 [==============================] - 0s 3ms/step - loss: 1.0059 - accuracy: 0.4589 - val_loss: 0.9953 - val_accuracy: 0.4738\n",
            "Epoch 50/100\n",
            "130/130 [==============================] - 0s 2ms/step - loss: 1.0118 - accuracy: 0.4572 - val_loss: 0.9924 - val_accuracy: 0.4710\n",
            "Epoch 51/100\n",
            "130/130 [==============================] - 0s 3ms/step - loss: 1.0020 - accuracy: 0.4625 - val_loss: 0.9923 - val_accuracy: 0.4698\n",
            "Epoch 52/100\n",
            "130/130 [==============================] - 0s 3ms/step - loss: 1.0036 - accuracy: 0.4625 - val_loss: 0.9941 - val_accuracy: 0.4732\n",
            "Epoch 53/100\n",
            "130/130 [==============================] - 0s 3ms/step - loss: 1.0035 - accuracy: 0.4533 - val_loss: 0.9899 - val_accuracy: 0.4698\n",
            "Epoch 54/100\n",
            "130/130 [==============================] - 0s 2ms/step - loss: 1.0030 - accuracy: 0.4761 - val_loss: 0.9958 - val_accuracy: 0.4710\n",
            "Epoch 55/100\n",
            "130/130 [==============================] - 0s 3ms/step - loss: 1.0093 - accuracy: 0.4582 - val_loss: 0.9963 - val_accuracy: 0.4788\n",
            "Epoch 56/100\n",
            "130/130 [==============================] - 0s 3ms/step - loss: 1.0076 - accuracy: 0.4500 - val_loss: 0.9981 - val_accuracy: 0.4743\n",
            "Epoch 57/100\n",
            "130/130 [==============================] - 0s 3ms/step - loss: 1.0006 - accuracy: 0.4594 - val_loss: 0.9981 - val_accuracy: 0.4794\n",
            "Epoch 58/100\n",
            "130/130 [==============================] - 0s 2ms/step - loss: 0.9955 - accuracy: 0.4693 - val_loss: 0.9972 - val_accuracy: 0.4608\n",
            "Epoch 59/100\n",
            "130/130 [==============================] - 0s 2ms/step - loss: 0.9951 - accuracy: 0.4799 - val_loss: 0.9958 - val_accuracy: 0.4636\n",
            "Epoch 60/100\n",
            "130/130 [==============================] - 0s 3ms/step - loss: 1.0016 - accuracy: 0.4599 - val_loss: 0.9963 - val_accuracy: 0.4681\n",
            "Epoch 61/100\n",
            "130/130 [==============================] - 0s 2ms/step - loss: 1.0010 - accuracy: 0.4712 - val_loss: 0.9971 - val_accuracy: 0.4828\n",
            "Epoch 62/100\n",
            "130/130 [==============================] - 0s 3ms/step - loss: 1.0028 - accuracy: 0.4620 - val_loss: 0.9964 - val_accuracy: 0.4738\n",
            "Epoch 63/100\n",
            "130/130 [==============================] - 0s 2ms/step - loss: 0.9929 - accuracy: 0.4594 - val_loss: 0.9928 - val_accuracy: 0.4726\n",
            "Epoch 64/100\n",
            "130/130 [==============================] - 0s 3ms/step - loss: 0.9920 - accuracy: 0.4676 - val_loss: 0.9915 - val_accuracy: 0.4772\n",
            "Epoch 65/100\n",
            "130/130 [==============================] - 0s 3ms/step - loss: 0.9997 - accuracy: 0.4543 - val_loss: 0.9968 - val_accuracy: 0.4738\n",
            "Epoch 66/100\n",
            "130/130 [==============================] - 0s 3ms/step - loss: 0.9895 - accuracy: 0.4705 - val_loss: 0.9977 - val_accuracy: 0.4715\n",
            "Epoch 67/100\n",
            "130/130 [==============================] - 0s 2ms/step - loss: 0.9970 - accuracy: 0.4642 - val_loss: 0.9936 - val_accuracy: 0.4743\n",
            "Epoch 68/100\n",
            "130/130 [==============================] - 0s 3ms/step - loss: 1.0027 - accuracy: 0.4705 - val_loss: 0.9953 - val_accuracy: 0.4625\n",
            "Epoch 69/100\n",
            "130/130 [==============================] - 0s 3ms/step - loss: 0.9964 - accuracy: 0.4618 - val_loss: 0.9938 - val_accuracy: 0.4721\n",
            "Epoch 70/100\n",
            "130/130 [==============================] - 0s 3ms/step - loss: 0.9851 - accuracy: 0.4782 - val_loss: 0.9938 - val_accuracy: 0.4681\n",
            "Epoch 71/100\n",
            "130/130 [==============================] - 0s 2ms/step - loss: 0.9951 - accuracy: 0.4657 - val_loss: 0.9980 - val_accuracy: 0.4710\n",
            "Epoch 72/100\n",
            "130/130 [==============================] - 0s 3ms/step - loss: 0.9875 - accuracy: 0.4765 - val_loss: 0.9965 - val_accuracy: 0.4721\n",
            "Epoch 73/100\n",
            "130/130 [==============================] - 0s 2ms/step - loss: 0.9862 - accuracy: 0.4734 - val_loss: 0.9927 - val_accuracy: 0.4721\n",
            "Epoch 74/100\n",
            "130/130 [==============================] - 0s 2ms/step - loss: 0.9853 - accuracy: 0.4700 - val_loss: 0.9942 - val_accuracy: 0.4693\n",
            "Epoch 75/100\n",
            "130/130 [==============================] - 0s 3ms/step - loss: 0.9943 - accuracy: 0.4729 - val_loss: 0.9945 - val_accuracy: 0.4698\n",
            "Epoch 76/100\n",
            "130/130 [==============================] - 0s 2ms/step - loss: 0.9928 - accuracy: 0.4603 - val_loss: 0.9972 - val_accuracy: 0.4687\n",
            "Epoch 77/100\n",
            "130/130 [==============================] - 0s 3ms/step - loss: 0.9846 - accuracy: 0.4753 - val_loss: 0.9938 - val_accuracy: 0.4760\n",
            "Epoch 78/100\n",
            "130/130 [==============================] - 0s 3ms/step - loss: 0.9939 - accuracy: 0.4693 - val_loss: 0.9963 - val_accuracy: 0.4738\n",
            "Epoch 79/100\n",
            "130/130 [==============================] - 0s 3ms/step - loss: 0.9893 - accuracy: 0.4850 - val_loss: 0.9991 - val_accuracy: 0.4732\n",
            "Epoch 80/100\n",
            "130/130 [==============================] - 0s 2ms/step - loss: 0.9897 - accuracy: 0.4703 - val_loss: 0.9954 - val_accuracy: 0.4704\n",
            "Epoch 81/100\n",
            "130/130 [==============================] - 0s 2ms/step - loss: 0.9835 - accuracy: 0.4717 - val_loss: 0.9955 - val_accuracy: 0.4625\n",
            "Epoch 82/100\n",
            "130/130 [==============================] - 0s 3ms/step - loss: 0.9824 - accuracy: 0.4809 - val_loss: 0.9947 - val_accuracy: 0.4749\n",
            "Epoch 83/100\n",
            "130/130 [==============================] - 0s 3ms/step - loss: 0.9901 - accuracy: 0.4712 - val_loss: 0.9979 - val_accuracy: 0.4755\n",
            "Epoch 84/100\n",
            "130/130 [==============================] - 0s 3ms/step - loss: 0.9960 - accuracy: 0.4722 - val_loss: 0.9990 - val_accuracy: 0.4715\n",
            "Epoch 85/100\n",
            "130/130 [==============================] - 0s 2ms/step - loss: 0.9833 - accuracy: 0.4707 - val_loss: 1.0010 - val_accuracy: 0.4653\n",
            "Epoch 86/100\n",
            "130/130 [==============================] - 0s 3ms/step - loss: 0.9769 - accuracy: 0.4790 - val_loss: 1.0011 - val_accuracy: 0.4693\n",
            "Epoch 87/100\n",
            "130/130 [==============================] - 0s 3ms/step - loss: 0.9851 - accuracy: 0.4744 - val_loss: 1.0025 - val_accuracy: 0.4715\n",
            "Epoch 88/100\n",
            "130/130 [==============================] - 0s 3ms/step - loss: 0.9876 - accuracy: 0.4654 - val_loss: 1.0031 - val_accuracy: 0.4681\n",
            "Epoch 89/100\n",
            "130/130 [==============================] - 0s 3ms/step - loss: 0.9838 - accuracy: 0.4869 - val_loss: 1.0043 - val_accuracy: 0.4619\n",
            "Epoch 90/100\n",
            "130/130 [==============================] - 0s 3ms/step - loss: 0.9876 - accuracy: 0.4746 - val_loss: 1.0039 - val_accuracy: 0.4726\n",
            "Epoch 91/100\n",
            "130/130 [==============================] - 0s 3ms/step - loss: 0.9732 - accuracy: 0.4867 - val_loss: 1.0040 - val_accuracy: 0.4704\n",
            "Epoch 92/100\n",
            "130/130 [==============================] - 0s 2ms/step - loss: 0.9800 - accuracy: 0.4591 - val_loss: 1.0030 - val_accuracy: 0.4704\n",
            "Epoch 93/100\n",
            "130/130 [==============================] - 0s 3ms/step - loss: 0.9822 - accuracy: 0.4790 - val_loss: 1.0008 - val_accuracy: 0.4732\n",
            "Epoch 94/100\n",
            "130/130 [==============================] - 0s 3ms/step - loss: 0.9827 - accuracy: 0.4753 - val_loss: 1.0004 - val_accuracy: 0.4681\n",
            "Epoch 95/100\n",
            "130/130 [==============================] - 0s 3ms/step - loss: 0.9879 - accuracy: 0.4698 - val_loss: 1.0011 - val_accuracy: 0.4732\n",
            "Epoch 96/100\n",
            "130/130 [==============================] - 0s 3ms/step - loss: 0.9814 - accuracy: 0.4848 - val_loss: 1.0046 - val_accuracy: 0.4670\n",
            "Epoch 97/100\n",
            "130/130 [==============================] - 0s 3ms/step - loss: 0.9812 - accuracy: 0.4802 - val_loss: 1.0028 - val_accuracy: 0.4681\n",
            "Epoch 98/100\n",
            "130/130 [==============================] - 0s 2ms/step - loss: 0.9813 - accuracy: 0.4824 - val_loss: 0.9978 - val_accuracy: 0.4693\n",
            "Epoch 99/100\n",
            "130/130 [==============================] - 0s 2ms/step - loss: 0.9902 - accuracy: 0.4664 - val_loss: 1.0001 - val_accuracy: 0.4642\n",
            "Epoch 100/100\n",
            "130/130 [==============================] - 0s 2ms/step - loss: 0.9844 - accuracy: 0.4758 - val_loss: 0.9981 - val_accuracy: 0.4569\n"
          ]
        }
      ],
      "source": [
        "# Entrenamos el modelo con el dataset\n",
        "history=model.fit(X_train, y_train, epochs=100, batch_size=32, validation_data=(X_test, y_test), shuffle=False)"
      ]
    },
    {
      "cell_type": "code",
      "execution_count": null,
      "metadata": {
        "colab": {
          "base_uri": "https://localhost:8080/"
        },
        "id": "KWug_BRZUvxN",
        "outputId": "9df83064-6637-4535-c61a-17a654642db0"
      },
      "outputs": [
        {
          "output_type": "stream",
          "name": "stdout",
          "text": [
            "Precisión Entrenamiento: 0.4792\n",
            "Precisión Prueba:  0.4569\n"
          ]
        }
      ],
      "source": [
        "loss, accuracy = model.evaluate(X_train, y_train, verbose=False)\n",
        "print(\"Precisión Entrenamiento: {:.4f}\".format(accuracy))\n",
        "loss, accuracy = model.evaluate(X_test, y_test, verbose=False)\n",
        "print(\"Precisión Prueba:  {:.4f}\".format(accuracy))"
      ]
    },
    {
      "cell_type": "code",
      "execution_count": null,
      "metadata": {
        "colab": {
          "base_uri": "https://localhost:8080/",
          "height": 295
        },
        "id": "H0yK_NpgKPeP",
        "outputId": "ced7f438-0fc1-45b8-9e88-3a8b33b9a0cc"
      },
      "outputs": [
        {
          "output_type": "display_data",
          "data": {
            "text/plain": [
              "<Figure size 432x288 with 1 Axes>"
            ],
            "image/png": "[encoded data removed]"
          },
          "metadata": {
            "needs_background": "light"
          }
        }
      ],
      "source": [
        "from matplotlib import pyplot\n",
        "from numpy import array\n",
        "# plot train and validation loss\n",
        "pyplot.plot(history.history['loss'])\n",
        "pyplot.plot(history.history['val_loss'])\n",
        "pyplot.title('model train vs validation loss')\n",
        "pyplot.ylabel('loss')\n",
        "pyplot.xlabel('epoch')\n",
        "pyplot.legend(['train', 'validation'], loc='upper right')\n",
        "pyplot.show()"
      ]
    },
    {
      "cell_type": "code",
      "execution_count": null,
      "metadata": {
        "id": "rP0iEOChQCiO"
      },
      "outputs": [],
      "source": [
        "#Making confusion matrix that checks accuracy of the model\n",
        "from sklearn.metrics import confusion_matrix\n",
        "from sklearn.metrics import ConfusionMatrixDisplay"
      ]
    },
    {
      "cell_type": "code",
      "execution_count": null,
      "metadata": {
        "colab": {
          "base_uri": "https://localhost:8080/",
          "height": 296
        },
        "id": "vUai4GqqA2_T",
        "outputId": "4d2d425e-a4a6-496d-b10b-8f6d0344a8fb"
      },
      "outputs": [
        {
          "output_type": "stream",
          "name": "stdout",
          "text": [
            "56/56 [==============================] - 0s 1ms/step\n"
          ]
        },
        {
          "output_type": "display_data",
          "data": {
            "text/plain": [
              "<Figure size 432x288 with 2 Axes>"
            ],
            "image/png": "[encoded data removed]"
          },
          "metadata": {
            "needs_background": "light"
          }
        }
      ],
      "source": [
        "y_pred=model.predict(X_test) \n",
        "y_pred=np.argmax(y_pred, axis=1)\n",
        "y_test=np.argmax(y_test, axis=1)\n",
        "cm = confusion_matrix(y_test, y_pred)\n",
        "disp = ConfusionMatrixDisplay(confusion_matrix=cm)\n",
        "disp.plot()\n",
        "\n",
        "plt.show()"
      ]
    },
    {
      "cell_type": "code",
      "execution_count": null,
      "metadata": {
        "colab": {
          "base_uri": "https://localhost:8080/"
        },
        "id": "Lmp-3IkiA9--",
        "outputId": "b4896cfb-31cc-40f8-d068-ff2cba96c2fa"
      },
      "outputs": [
        {
          "output_type": "stream",
          "name": "stdout",
          "text": [
            "              precision    recall  f1-score   support\n",
            "\n",
            "           0       0.53      0.71      0.60       596\n",
            "           1       0.39      0.36      0.37       592\n",
            "           2       0.41      0.30      0.35       585\n",
            "\n",
            "    accuracy                           0.46      1773\n",
            "   macro avg       0.44      0.46      0.44      1773\n",
            "weighted avg       0.44      0.46      0.44      1773\n",
            "\n"
          ]
        }
      ],
      "source": [
        "from sklearn.metrics import classification_report\n",
        "report = classification_report(y_test, y_pred)\n",
        "print(report)"
      ]
    },
    {
      "cell_type": "code",
      "execution_count": null,
      "metadata": {
        "colab": {
          "base_uri": "https://localhost:8080/"
        },
        "id": "JOR3BdY4LCFC",
        "outputId": "faa6a80e-41a4-40a9-a1ee-f62d59d7c754"
      },
      "outputs": [
        {
          "output_type": "stream",
          "name": "stdout",
          "text": [
            "1/1 [==============================] - 0s 19ms/step\n"
          ]
        },
        {
          "output_type": "execute_result",
          "data": {
            "text/plain": [
              "array([[0.19677646, 0.40175995, 0.4014636 ]], dtype=float32)"
            ]
          },
          "metadata": {},
          "execution_count": 39
        }
      ],
      "source": [
        "# make class predictions with the model\n",
        "predictions = (model.predict(X_test[1:2]))\n",
        "predictions"
      ]
    },
    {
      "cell_type": "code",
      "execution_count": null,
      "metadata": {
        "colab": {
          "base_uri": "https://localhost:8080/"
        },
        "id": "eZq5E3MnhgQ9",
        "outputId": "8c207f93-4b97-48d6-cb78-418f48992534"
      },
      "outputs": [
        {
          "output_type": "stream",
          "name": "stdout",
          "text": [
            "1/1 [==============================] - 0s 17ms/step\n"
          ]
        },
        {
          "output_type": "execute_result",
          "data": {
            "text/plain": [
              "array([1])"
            ]
          },
          "metadata": {},
          "execution_count": 40
        }
      ],
      "source": [
        "# make class predictions with the model\n",
        "predictions = (model.predict(X_test[1:2])).argmax(1)\n",
        "predictions"
      ]
    },
    {
      "cell_type": "code",
      "execution_count": null,
      "metadata": {
        "colab": {
          "base_uri": "https://localhost:8080/"
        },
        "id": "3SvSOUGfhxnL",
        "outputId": "f80f45cb-1592-4e7b-c876-9a6038acc7fa"
      },
      "outputs": [
        {
          "output_type": "stream",
          "name": "stdout",
          "text": [
            "['6377333cb20e47001a2057c0']\n"
          ]
        }
      ],
      "source": [
        "print(label_encoder.inverse_transform(predictions))"
      ]
    },
    {
      "cell_type": "code",
      "execution_count": null,
      "metadata": {
        "id": "72H7mN_Thz0q"
      },
      "outputs": [],
      "source": [
        "from keras.models import load_model \n",
        "model.save(\"model_6377366a6f84e2001a65fdfe.h5\") \n",
        "loaded_model = load_model(\"model_6377366a6f84e2001a65fdfe.h5\")"
      ]
    },
    {
      "cell_type": "code",
      "execution_count": null,
      "metadata": {
        "colab": {
          "base_uri": "https://localhost:8080/"
        },
        "id": "iM4dyHQNjnTy",
        "outputId": "05e7a50a-6654-4e35-e7d5-d763e3ac6184"
      },
      "outputs": [
        {
          "output_type": "stream",
          "name": "stdout",
          "text": [
            "1/1 [==============================] - 0s 19ms/step\n"
          ]
        },
        {
          "output_type": "execute_result",
          "data": {
            "text/plain": [
              "array([[0.19677646, 0.40175995, 0.4014636 ]], dtype=float32)"
            ]
          },
          "metadata": {},
          "execution_count": 43
        }
      ],
      "source": [
        "# make class predictions with the model\n",
        "predictions = (model.predict(X_test[1:2]))\n",
        "predictions"
      ]
    },
    {
      "cell_type": "code",
      "execution_count": null,
      "metadata": {
        "colab": {
          "base_uri": "https://localhost:8080/"
        },
        "id": "ObPqe76thz8i",
        "outputId": "085a7468-1fc6-4f96-ae8d-f9725419b985"
      },
      "outputs": [
        {
          "output_type": "stream",
          "name": "stdout",
          "text": [
            "1/1 [==============================] - 0s 126ms/step\n"
          ]
        },
        {
          "output_type": "execute_result",
          "data": {
            "text/plain": [
              "array([1])"
            ]
          },
          "metadata": {},
          "execution_count": 44
        }
      ],
      "source": [
        "# make class predictions with the model\n",
        "predictions = (loaded_model.predict(X_test[1:2])).argmax(1)\n",
        "predictions"
      ]
    },
    {
      "cell_type": "code",
      "execution_count": null,
      "metadata": {
        "colab": {
          "base_uri": "https://localhost:8080/"
        },
        "id": "vaF7mFxPhz_v",
        "outputId": "399a17ce-a128-4547-a3de-74b5b8e532c6"
      },
      "outputs": [
        {
          "output_type": "stream",
          "name": "stdout",
          "text": [
            "['6377333cb20e47001a2057c0']\n"
          ]
        }
      ],
      "source": [
        "print(label_encoder.inverse_transform(predictions))"
      ]
    }
  ],
  "metadata": {
    "colab": {
      "provenance": [],
      "include_colab_link": true
    },
    "kernelspec": {
      "display_name": "Python 3",
      "name": "python3"
    },
    "language_info": {
      "name": "python"
    }
  },
  "nbformat": 4,
  "nbformat_minor": 0
}