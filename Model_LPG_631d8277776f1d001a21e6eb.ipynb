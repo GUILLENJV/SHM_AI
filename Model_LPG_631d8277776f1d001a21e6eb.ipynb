{
  "cells": [
    {
      "cell_type": "markdown",
      "metadata": {
        "id": "view-in-github",
        "colab_type": "text"
      },
      "source": [
        "<a href=\"https://colab.research.google.com/github/GUILLENJV/SHM_AI/blob/master/Model_LPG_631d8277776f1d001a21e6eb.ipynb\" target=\"_parent\"><img src=\"https://colab.research.google.com/assets/colab-badge.svg\" alt=\"Open In Colab\"/></a>"
      ]
    },
    {
      "cell_type": "code",
      "execution_count": null,
      "metadata": {
        "id": "T_RKpy4whR5f"
      },
      "outputs": [],
      "source": [
        "#learned embedding encoding for a neural network\n",
        "from numpy import unique\n",
        "import numpy\n",
        "from numpy import array\n",
        "import pandas as pd\n",
        "import datetime \n",
        "from time import sleep\n",
        "from tqdm import tqdm\n",
        "import os\n",
        "from pandas import read_csv\n",
        "import json\n",
        "import tensorflow as tf\n",
        "from tensorflow import keras\n",
        "from keras.utils import np_utils\n",
        "import requests\n",
        "import numpy as np\n",
        "from sklearn.model_selection import train_test_split\n",
        "from sklearn.preprocessing import LabelEncoder\n",
        "from sklearn.preprocessing import OneHotEncoder\n",
        "from sklearn.preprocessing import OrdinalEncoder\n",
        "from tensorflow.keras.layers import BatchNormalization\n",
        "from keras.regularizers import l1\n",
        "from keras.regularizers import l2\n",
        "from tensorflow.keras.layers import Dense, Dropout, Flatten\n",
        "from tensorflow.keras.callbacks import EarlyStopping\n",
        "from keras.utils.vis_utils import plot_model\n",
        "from keras.models import Sequential\n",
        "from keras.layers import Dense\n",
        "from tensorflow.keras import regularizers\n",
        "from matplotlib import pyplot\n",
        "import matplotlib.pyplot as plt\n",
        "import seaborn as sns\n",
        "#from predict import model \n",
        "from sklearn import preprocessing\n",
        "from collections import defaultdict\n",
        "from sklearn.preprocessing import StandardScaler\n",
        "from sklearn.neural_network import MLPClassifier\n",
        "from sklearn.metrics import classification_report\n",
        "from sklearn.metrics import confusion_matrix\n",
        "from sklearn.metrics import ConfusionMatrixDisplay\n",
        "from matplotlib import pyplot as plt"
      ]
    },
    {
      "cell_type": "code",
      "execution_count": null,
      "metadata": {
        "id": "V8PQOTills5S"
      },
      "outputs": [],
      "source": [
        "# carga los datos\n",
        "df = pd.read_csv('LPG_631d8277776f1d001a21e6eb.csv')"
      ]
    },
    {
      "cell_type": "code",
      "execution_count": null,
      "metadata": {
        "colab": {
          "base_uri": "https://localhost:8080/"
        },
        "id": "_hbIK-LFRFPX",
        "outputId": "8c9e035d-6152-45d0-b36e-1b8f627c827b"
      },
      "outputs": [
        {
          "output_type": "execute_result",
          "data": {
            "text/plain": [
              "62566aa432b19a0164d802be    2696\n",
              "631d779999ba21001a850416    2696\n",
              "631d72ff99ba21001a8503fa    2696\n",
              "Name: landing_page_id, dtype: int64"
            ]
          },
          "metadata": {},
          "execution_count": 3
        }
      ],
      "source": [
        "df[\"landing_page_id\"].value_counts()"
      ]
    },
    {
      "cell_type": "code",
      "execution_count": null,
      "metadata": {
        "colab": {
          "base_uri": "https://localhost:8080/",
          "height": 560
        },
        "id": "9jp8L3ComC5l",
        "outputId": "7300482e-1242-4cf1-d3d4-477367e2f449"
      },
      "outputs": [
        {
          "output_type": "execute_result",
          "data": {
            "text/plain": [
              "                                    _id    landing_pages_group_id  \\\n",
              "0  5fc1a73a-3514-4eaf-9a5d-9f8dc8d0983f  631d8277776f1d001a21e6eb   \n",
              "1  539d5f34-6a7c-4432-b2ed-5d00c0845ac2  631d8277776f1d001a21e6eb   \n",
              "2  0b3b4c96-2595-4d6a-b794-6dde78c28bba  631d8277776f1d001a21e6eb   \n",
              "3  6f94632f-0c63-4552-9e44-e7e7c92dfb18  631d8277776f1d001a21e6eb   \n",
              "4  c9b7737a-1fb2-433b-a838-3bb4ad348cba  631d8277776f1d001a21e6eb   \n",
              "\n",
              "                campaign_id           landing_page_id  \\\n",
              "0  625221af89418f743d9e21a8  62566aa432b19a0164d802be   \n",
              "1  627ef657a3ff612aae102cfc  62566aa432b19a0164d802be   \n",
              "2  627ef657a3ff612aae102cfc  631d779999ba21001a850416   \n",
              "3  625221af89418f743d9e21a8  631d779999ba21001a850416   \n",
              "4  625221af89418f743d9e21a8  631d779999ba21001a850416   \n",
              "\n",
              "          traffic_source_id visitor_device_browser  \\\n",
              "0  57ac89e0a38746122f4af882          Chrome Mobile   \n",
              "1  58939c5eeb1b39e23f2044bb          Chrome Mobile   \n",
              "2  58939c5eeb1b39e23f2044bb          Chrome Mobile   \n",
              "3  57ac89e0a38746122f4af882          Chrome Mobile   \n",
              "4  57ac89e0a38746122f4af882          Chrome Mobile   \n",
              "\n",
              "  visitor_device_hardware_family visitor_device_hardware_model  \\\n",
              "0           moto g stylus (2022)          moto g stylus (2022)   \n",
              "1                   Nord N200 5G                        DE2117   \n",
              "2                          Reno4                       CPH2113   \n",
              "3            moto g power (2022)           moto g power (2022)   \n",
              "4           moto g stylus (2022)          moto g stylus (2022)   \n",
              "\n",
              "  visitor_device_hardware_vendor visitor_device_os_family  ...  \\\n",
              "0                       Motorola                  Android  ...   \n",
              "1                        Oneplus                  Android  ...   \n",
              "2                           OPPO                  Android  ...   \n",
              "3                       Motorola                  Android  ...   \n",
              "4                       Motorola                  Android  ...   \n",
              "\n",
              "  visitor_geo_location_connection_type visitor_geo_location_countryCode  \\\n",
              "0                            Cable/DSL                               US   \n",
              "1                            Cable/DSL                               US   \n",
              "2                            Cable/DSL                               US   \n",
              "3                             Cellular                               US   \n",
              "4                            Cable/DSL                               US   \n",
              "\n",
              "  visitor_geo_location_isp visitor_geo_location_regionName  \\\n",
              "0  Frontier Communications                          Nevada   \n",
              "1            Comcast Cable                      California   \n",
              "2  Frontier Communications                     Connecticut   \n",
              "3             T-Mobile USA                      California   \n",
              "4             WideOpenWest                        Illinois   \n",
              "\n",
              "          visitor_tokens_adh visitor_tokens_cadid visitor_tokens_adi  \\\n",
              "0   regwillcoverowninzipcode           Njcuq3X0W1       blondejudge2   \n",
              "1           regnewgovbillzip           Qa5jJRoLoM       blondejudge2   \n",
              "2  regwillcoverliveinzipcode           xHto8laW5j      solarpergola2   \n",
              "3   regwillcoverowninzipcode            jHGFI03o9        blondejudge   \n",
              "4   regwillcoverowninzipcode            x6TAVXa-H       solarpergola   \n",
              "\n",
              "  visitor_tokens_add converted_yes converted_no  \n",
              "0                NaN             1            0  \n",
              "1                NaN             1            0  \n",
              "2                NaN             0            1  \n",
              "3                NaN             1            0  \n",
              "4                NaN             1            0  \n",
              "\n",
              "[5 rows x 24 columns]"
            ],
            "text/html": [
              "\n",
              "  <div id=\"df-26989f11-a9f5-4a9c-9ac3-137af5bc4f97\">\n",
              "    <div class=\"colab-df-container\">\n",
              "      <div>\n",
              "<style scoped>\n",
              "    .dataframe tbody tr th:only-of-type {\n",
              "        vertical-align: middle;\n",
              "    }\n",
              "\n",
              "    .dataframe tbody tr th {\n",
              "        vertical-align: top;\n",
              "    }\n",
              "\n",
              "    .dataframe thead th {\n",
              "        text-align: right;\n",
              "    }\n",
              "</style>\n",
              "<table border=\"1\" class=\"dataframe\">\n",
              "  <thead>\n",
              "    <tr style=\"text-align: right;\">\n",
              "      <th></th>\n",
              "      <th>_id</th>\n",
              "      <th>landing_pages_group_id</th>\n",
              "      <th>campaign_id</th>\n",
              "      <th>landing_page_id</th>\n",
              "      <th>traffic_source_id</th>\n",
              "      <th>visitor_device_browser</th>\n",
              "      <th>visitor_device_hardware_family</th>\n",
              "      <th>visitor_device_hardware_model</th>\n",
              "      <th>visitor_device_hardware_vendor</th>\n",
              "      <th>visitor_device_os_family</th>\n",
              "      <th>...</th>\n",
              "      <th>visitor_geo_location_connection_type</th>\n",
              "      <th>visitor_geo_location_countryCode</th>\n",
              "      <th>visitor_geo_location_isp</th>\n",
              "      <th>visitor_geo_location_regionName</th>\n",
              "      <th>visitor_tokens_adh</th>\n",
              "      <th>visitor_tokens_cadid</th>\n",
              "      <th>visitor_tokens_adi</th>\n",
              "      <th>visitor_tokens_add</th>\n",
              "      <th>converted_yes</th>\n",
              "      <th>converted_no</th>\n",
              "    </tr>\n",
              "  </thead>\n",
              "  <tbody>\n",
              "    <tr>\n",
              "      <th>0</th>\n",
              "      <td>5fc1a73a-3514-4eaf-9a5d-9f8dc8d0983f</td>\n",
              "      <td>631d8277776f1d001a21e6eb</td>\n",
              "      <td>625221af89418f743d9e21a8</td>\n",
              "      <td>62566aa432b19a0164d802be</td>\n",
              "      <td>57ac89e0a38746122f4af882</td>\n",
              "      <td>Chrome Mobile</td>\n",
              "      <td>moto g stylus (2022)</td>\n",
              "      <td>moto g stylus (2022)</td>\n",
              "      <td>Motorola</td>\n",
              "      <td>Android</td>\n",
              "      <td>...</td>\n",
              "      <td>Cable/DSL</td>\n",
              "      <td>US</td>\n",
              "      <td>Frontier Communications</td>\n",
              "      <td>Nevada</td>\n",
              "      <td>regwillcoverowninzipcode</td>\n",
              "      <td>Njcuq3X0W1</td>\n",
              "      <td>blondejudge2</td>\n",
              "      <td>NaN</td>\n",
              "      <td>1</td>\n",
              "      <td>0</td>\n",
              "    </tr>\n",
              "    <tr>\n",
              "      <th>1</th>\n",
              "      <td>539d5f34-6a7c-4432-b2ed-5d00c0845ac2</td>\n",
              "      <td>631d8277776f1d001a21e6eb</td>\n",
              "      <td>627ef657a3ff612aae102cfc</td>\n",
              "      <td>62566aa432b19a0164d802be</td>\n",
              "      <td>58939c5eeb1b39e23f2044bb</td>\n",
              "      <td>Chrome Mobile</td>\n",
              "      <td>Nord N200 5G</td>\n",
              "      <td>DE2117</td>\n",
              "      <td>Oneplus</td>\n",
              "      <td>Android</td>\n",
              "      <td>...</td>\n",
              "      <td>Cable/DSL</td>\n",
              "      <td>US</td>\n",
              "      <td>Comcast Cable</td>\n",
              "      <td>California</td>\n",
              "      <td>regnewgovbillzip</td>\n",
              "      <td>Qa5jJRoLoM</td>\n",
              "      <td>blondejudge2</td>\n",
              "      <td>NaN</td>\n",
              "      <td>1</td>\n",
              "      <td>0</td>\n",
              "    </tr>\n",
              "    <tr>\n",
              "      <th>2</th>\n",
              "      <td>0b3b4c96-2595-4d6a-b794-6dde78c28bba</td>\n",
              "      <td>631d8277776f1d001a21e6eb</td>\n",
              "      <td>627ef657a3ff612aae102cfc</td>\n",
              "      <td>631d779999ba21001a850416</td>\n",
              "      <td>58939c5eeb1b39e23f2044bb</td>\n",
              "      <td>Chrome Mobile</td>\n",
              "      <td>Reno4</td>\n",
              "      <td>CPH2113</td>\n",
              "      <td>OPPO</td>\n",
              "      <td>Android</td>\n",
              "      <td>...</td>\n",
              "      <td>Cable/DSL</td>\n",
              "      <td>US</td>\n",
              "      <td>Frontier Communications</td>\n",
              "      <td>Connecticut</td>\n",
              "      <td>regwillcoverliveinzipcode</td>\n",
              "      <td>xHto8laW5j</td>\n",
              "      <td>solarpergola2</td>\n",
              "      <td>NaN</td>\n",
              "      <td>0</td>\n",
              "      <td>1</td>\n",
              "    </tr>\n",
              "    <tr>\n",
              "      <th>3</th>\n",
              "      <td>6f94632f-0c63-4552-9e44-e7e7c92dfb18</td>\n",
              "      <td>631d8277776f1d001a21e6eb</td>\n",
              "      <td>625221af89418f743d9e21a8</td>\n",
              "      <td>631d779999ba21001a850416</td>\n",
              "      <td>57ac89e0a38746122f4af882</td>\n",
              "      <td>Chrome Mobile</td>\n",
              "      <td>moto g power (2022)</td>\n",
              "      <td>moto g power (2022)</td>\n",
              "      <td>Motorola</td>\n",
              "      <td>Android</td>\n",
              "      <td>...</td>\n",
              "      <td>Cellular</td>\n",
              "      <td>US</td>\n",
              "      <td>T-Mobile USA</td>\n",
              "      <td>California</td>\n",
              "      <td>regwillcoverowninzipcode</td>\n",
              "      <td>jHGFI03o9</td>\n",
              "      <td>blondejudge</td>\n",
              "      <td>NaN</td>\n",
              "      <td>1</td>\n",
              "      <td>0</td>\n",
              "    </tr>\n",
              "    <tr>\n",
              "      <th>4</th>\n",
              "      <td>c9b7737a-1fb2-433b-a838-3bb4ad348cba</td>\n",
              "      <td>631d8277776f1d001a21e6eb</td>\n",
              "      <td>625221af89418f743d9e21a8</td>\n",
              "      <td>631d779999ba21001a850416</td>\n",
              "      <td>57ac89e0a38746122f4af882</td>\n",
              "      <td>Chrome Mobile</td>\n",
              "      <td>moto g stylus (2022)</td>\n",
              "      <td>moto g stylus (2022)</td>\n",
              "      <td>Motorola</td>\n",
              "      <td>Android</td>\n",
              "      <td>...</td>\n",
              "      <td>Cable/DSL</td>\n",
              "      <td>US</td>\n",
              "      <td>WideOpenWest</td>\n",
              "      <td>Illinois</td>\n",
              "      <td>regwillcoverowninzipcode</td>\n",
              "      <td>x6TAVXa-H</td>\n",
              "      <td>solarpergola</td>\n",
              "      <td>NaN</td>\n",
              "      <td>1</td>\n",
              "      <td>0</td>\n",
              "    </tr>\n",
              "  </tbody>\n",
              "</table>\n",
              "<p>5 rows × 24 columns</p>\n",
              "</div>\n",
              "      <button class=\"colab-df-convert\" onclick=\"convertToInteractive('df-26989f11-a9f5-4a9c-9ac3-137af5bc4f97')\"\n",
              "              title=\"Convert this dataframe to an interactive table.\"\n",
              "              style=\"display:none;\">\n",
              "        \n",
              "  <svg xmlns=\"http://www.w3.org/2000/svg\" height=\"24px\"viewBox=\"0 0 24 24\"\n",
              "       width=\"24px\">\n",
              "    <path d=\"M0 0h24v24H0V0z\" fill=\"none\"/>\n",
              "    <path d=\"M18.56 5.44l.94 2.06.94-2.06 2.06-.94-2.06-.94-.94-2.06-.94 2.06-2.06.94zm-11 1L8.5 8.5l.94-2.06 2.06-.94-2.06-.94L8.5 2.5l-.94 2.06-2.06.94zm10 10l.94 2.06.94-2.06 2.06-.94-2.06-.94-.94-2.06-.94 2.06-2.06.94z\"/><path d=\"M17.41 7.96l-1.37-1.37c-.4-.4-.92-.59-1.43-.59-.52 0-1.04.2-1.43.59L10.3 9.45l-7.72 7.72c-.78.78-.78 2.05 0 2.83L4 21.41c.39.39.9.59 1.41.59.51 0 1.02-.2 1.41-.59l7.78-7.78 2.81-2.81c.8-.78.8-2.07 0-2.86zM5.41 20L4 18.59l7.72-7.72 1.47 1.35L5.41 20z\"/>\n",
              "  </svg>\n",
              "      </button>\n",
              "      \n",
              "  <style>\n",
              "    .colab-df-container {\n",
              "      display:flex;\n",
              "      flex-wrap:wrap;\n",
              "      gap: 12px;\n",
              "    }\n",
              "\n",
              "    .colab-df-convert {\n",
              "      background-color: #E8F0FE;\n",
              "      border: none;\n",
              "      border-radius: 50%;\n",
              "      cursor: pointer;\n",
              "      display: none;\n",
              "      fill: #1967D2;\n",
              "      height: 32px;\n",
              "      padding: 0 0 0 0;\n",
              "      width: 32px;\n",
              "    }\n",
              "\n",
              "    .colab-df-convert:hover {\n",
              "      background-color: #E2EBFA;\n",
              "      box-shadow: 0px 1px 2px rgba(60, 64, 67, 0.3), 0px 1px 3px 1px rgba(60, 64, 67, 0.15);\n",
              "      fill: #174EA6;\n",
              "    }\n",
              "\n",
              "    [theme=dark] .colab-df-convert {\n",
              "      background-color: #3B4455;\n",
              "      fill: #D2E3FC;\n",
              "    }\n",
              "\n",
              "    [theme=dark] .colab-df-convert:hover {\n",
              "      background-color: #434B5C;\n",
              "      box-shadow: 0px 1px 3px 1px rgba(0, 0, 0, 0.15);\n",
              "      filter: drop-shadow(0px 1px 2px rgba(0, 0, 0, 0.3));\n",
              "      fill: #FFFFFF;\n",
              "    }\n",
              "  </style>\n",
              "\n",
              "      <script>\n",
              "        const buttonEl =\n",
              "          document.querySelector('#df-26989f11-a9f5-4a9c-9ac3-137af5bc4f97 button.colab-df-convert');\n",
              "        buttonEl.style.display =\n",
              "          google.colab.kernel.accessAllowed ? 'block' : 'none';\n",
              "\n",
              "        async function convertToInteractive(key) {\n",
              "          const element = document.querySelector('#df-26989f11-a9f5-4a9c-9ac3-137af5bc4f97');\n",
              "          const dataTable =\n",
              "            await google.colab.kernel.invokeFunction('convertToInteractive',\n",
              "                                                     [key], {});\n",
              "          if (!dataTable) return;\n",
              "\n",
              "          const docLinkHtml = 'Like what you see? Visit the ' +\n",
              "            '<a target=\"_blank\" href=https://colab.research.google.com/notebooks/data_table.ipynb>data table notebook</a>'\n",
              "            + ' to learn more about interactive tables.';\n",
              "          element.innerHTML = '';\n",
              "          dataTable['output_type'] = 'display_data';\n",
              "          await google.colab.output.renderOutput(dataTable, element);\n",
              "          const docLink = document.createElement('div');\n",
              "          docLink.innerHTML = docLinkHtml;\n",
              "          element.appendChild(docLink);\n",
              "        }\n",
              "      </script>\n",
              "    </div>\n",
              "  </div>\n",
              "  "
            ]
          },
          "metadata": {},
          "execution_count": 4
        }
      ],
      "source": [
        "df.head()"
      ]
    },
    {
      "cell_type": "code",
      "execution_count": null,
      "metadata": {
        "colab": {
          "base_uri": "https://localhost:8080/"
        },
        "id": "a43tmczGUaf4",
        "outputId": "ba4186e4-f29e-4ea4-a4f1-b015d735fae2"
      },
      "outputs": [
        {
          "output_type": "execute_result",
          "data": {
            "text/plain": [
              "_id                                     object\n",
              "landing_pages_group_id                  object\n",
              "campaign_id                             object\n",
              "landing_page_id                         object\n",
              "traffic_source_id                       object\n",
              "visitor_device_browser                  object\n",
              "visitor_device_hardware_family          object\n",
              "visitor_device_hardware_model           object\n",
              "visitor_device_hardware_vendor          object\n",
              "visitor_device_os_family                object\n",
              "visitor_device_os_vendor                object\n",
              "visitor_device_os_version               object\n",
              "visitor_device_type                     object\n",
              "visitor_geo_location_cityName           object\n",
              "visitor_geo_location_connection_type    object\n",
              "visitor_geo_location_countryCode        object\n",
              "visitor_geo_location_isp                object\n",
              "visitor_geo_location_regionName         object\n",
              "visitor_tokens_adh                      object\n",
              "visitor_tokens_cadid                    object\n",
              "visitor_tokens_adi                      object\n",
              "visitor_tokens_add                      object\n",
              "converted_yes                            int64\n",
              "converted_no                             int64\n",
              "dtype: object"
            ]
          },
          "metadata": {},
          "execution_count": 5
        }
      ],
      "source": [
        "df.dtypes"
      ]
    },
    {
      "cell_type": "code",
      "execution_count": null,
      "metadata": {
        "id": "AJKtQrTeFzz9"
      },
      "outputs": [],
      "source": [
        "df[\"visitor_device_hardware_family\"] = df[\"visitor_device_hardware_family\"].apply(str)\n",
        "df[\"visitor_device_hardware_model\"] = df[\"visitor_device_hardware_model\"].apply(str)\n",
        "df[\"visitor_device_os_version\"] = df[\"visitor_device_os_version\"].apply(str)\n",
        "df[\"visitor_device_hardware_family\"] = df[\"visitor_device_hardware_family\"].apply(str)\n",
        "df[\"visitor_device_hardware_model\"] = df[\"visitor_device_hardware_model\"].apply(str)\n",
        "df[\"visitor_device_os_version\"] = df[\"visitor_device_os_version\"].apply(str)\n",
        "df[\"visitor_tokens_adh\"] = df[\"visitor_tokens_adh\"].apply(str)\n",
        "df[\"visitor_tokens_cadid\"] = df[\"visitor_tokens_cadid\"].apply(str)\n",
        "df[\"converted_yes\"] = df[\"converted_yes\"].apply(str)\n",
        "df[\"converted_no\"] = df[\"converted_no\"].apply(str)"
      ]
    },
    {
      "cell_type": "code",
      "execution_count": null,
      "metadata": {
        "colab": {
          "base_uri": "https://localhost:8080/"
        },
        "id": "fbiWv_lfHobR",
        "outputId": "095bdb8a-6c9e-40a3-d73a-e6a2553712ca"
      },
      "outputs": [
        {
          "output_type": "execute_result",
          "data": {
            "text/plain": [
              "_id                                        0\n",
              "visitor_tokens_cadid                       0\n",
              "visitor_tokens_adh                         0\n",
              "visitor_device_type                        0\n",
              "converted_yes                              0\n",
              "visitor_device_os_vendor                   0\n",
              "visitor_device_os_family                   0\n",
              "visitor_device_hardware_vendor             0\n",
              "visitor_device_os_version                  0\n",
              "visitor_device_hardware_family             0\n",
              "visitor_device_browser                     0\n",
              "traffic_source_id                          0\n",
              "landing_page_id                            0\n",
              "campaign_id                                0\n",
              "landing_pages_group_id                     0\n",
              "visitor_device_hardware_model              0\n",
              "converted_no                               0\n",
              "visitor_geo_location_countryCode           2\n",
              "visitor_geo_location_regionName            2\n",
              "visitor_tokens_adi                         7\n",
              "visitor_geo_location_isp                 116\n",
              "visitor_geo_location_connection_type     120\n",
              "visitor_geo_location_cityName            184\n",
              "visitor_tokens_add                      8085\n",
              "dtype: int64"
            ]
          },
          "metadata": {},
          "execution_count": 7
        }
      ],
      "source": [
        "df.isna().sum().sort_values()"
      ]
    },
    {
      "cell_type": "code",
      "execution_count": null,
      "metadata": {
        "colab": {
          "base_uri": "https://localhost:8080/"
        },
        "id": "tdsNpuBiHoTN",
        "outputId": "83a71c6c-374a-42be-952d-e20f42efa2ae"
      },
      "outputs": [
        {
          "output_type": "execute_result",
          "data": {
            "text/plain": [
              "(8088, 24)"
            ]
          },
          "metadata": {},
          "execution_count": 8
        }
      ],
      "source": [
        "df.shape"
      ]
    },
    {
      "cell_type": "code",
      "execution_count": null,
      "metadata": {
        "id": "Oqgl8stx-Htu"
      },
      "outputs": [],
      "source": [
        "df = df.drop(['_id', 'landing_pages_group_id','visitor_tokens_add'], axis=1)"
      ]
    },
    {
      "cell_type": "code",
      "execution_count": null,
      "metadata": {
        "id": "t6kx6QeV-lK8"
      },
      "outputs": [],
      "source": [
        "df = df.drop_duplicates()"
      ]
    },
    {
      "cell_type": "code",
      "execution_count": null,
      "metadata": {
        "colab": {
          "base_uri": "https://localhost:8080/"
        },
        "id": "90e4B00u-o6N",
        "outputId": "c2d8e755-e89e-4a3e-deb2-d0968d78a1ba"
      },
      "outputs": [
        {
          "output_type": "execute_result",
          "data": {
            "text/plain": [
              "campaign_id                               0\n",
              "visitor_tokens_cadid                      0\n",
              "visitor_tokens_adh                        0\n",
              "converted_yes                             0\n",
              "visitor_device_os_version                 0\n",
              "visitor_device_os_vendor                  0\n",
              "visitor_device_os_family                  0\n",
              "visitor_device_type                       0\n",
              "visitor_device_hardware_model             0\n",
              "visitor_device_hardware_family            0\n",
              "visitor_device_browser                    0\n",
              "traffic_source_id                         0\n",
              "landing_page_id                           0\n",
              "visitor_device_hardware_vendor            0\n",
              "converted_no                              0\n",
              "visitor_geo_location_countryCode          2\n",
              "visitor_geo_location_regionName           2\n",
              "visitor_tokens_adi                        5\n",
              "visitor_geo_location_isp                 72\n",
              "visitor_geo_location_connection_type     76\n",
              "visitor_geo_location_cityName           181\n",
              "dtype: int64"
            ]
          },
          "metadata": {},
          "execution_count": 11
        }
      ],
      "source": [
        "df.isna().sum().sort_values()"
      ]
    },
    {
      "cell_type": "code",
      "execution_count": null,
      "metadata": {
        "id": "SnN5E_zP-vl1"
      },
      "outputs": [],
      "source": [
        "# Imputamos la variable \n",
        "df['visitor_geo_location_countryCode'].fillna(df['visitor_geo_location_countryCode'].mode()[0], inplace=True)\n",
        "df['visitor_geo_location_regionName'].fillna(df['visitor_geo_location_regionName'].mode()[0], inplace=True)\n",
        "df['visitor_tokens_adi'].fillna(df['visitor_tokens_adi'].mode()[0], inplace=True)\n",
        "df['visitor_geo_location_isp'].fillna(df['visitor_geo_location_isp'].mode()[0], inplace=True)\n",
        "df['visitor_geo_location_connection_type'].fillna(df['visitor_geo_location_connection_type'].mode()[0], inplace=True)\n",
        "df['visitor_geo_location_cityName'].fillna(df['visitor_geo_location_cityName'].mode()[0], inplace=True)"
      ]
    },
    {
      "cell_type": "code",
      "execution_count": null,
      "metadata": {
        "colab": {
          "base_uri": "https://localhost:8080/"
        },
        "id": "dKHWxTeQAQGm",
        "outputId": "9c916e03-8aee-4490-f474-e52d46ae8a1a"
      },
      "outputs": [
        {
          "output_type": "execute_result",
          "data": {
            "text/plain": [
              "(7833, 21)"
            ]
          },
          "metadata": {},
          "execution_count": 13
        }
      ],
      "source": [
        "df.shape"
      ]
    },
    {
      "cell_type": "code",
      "execution_count": null,
      "metadata": {
        "colab": {
          "base_uri": "https://localhost:8080/"
        },
        "id": "4a-cwd74Al92",
        "outputId": "b884b9a9-ab55-4f80-d121-348e6818fe86"
      },
      "outputs": [
        {
          "output_type": "execute_result",
          "data": {
            "text/plain": [
              "campaign_id                             0\n",
              "visitor_tokens_adi                      0\n",
              "visitor_tokens_cadid                    0\n",
              "visitor_tokens_adh                      0\n",
              "visitor_geo_location_regionName         0\n",
              "visitor_geo_location_isp                0\n",
              "visitor_geo_location_countryCode        0\n",
              "visitor_geo_location_connection_type    0\n",
              "visitor_geo_location_cityName           0\n",
              "converted_yes                           0\n",
              "visitor_device_type                     0\n",
              "visitor_device_os_vendor                0\n",
              "visitor_device_os_family                0\n",
              "visitor_device_hardware_vendor          0\n",
              "visitor_device_hardware_model           0\n",
              "visitor_device_hardware_family          0\n",
              "visitor_device_browser                  0\n",
              "traffic_source_id                       0\n",
              "landing_page_id                         0\n",
              "visitor_device_os_version               0\n",
              "converted_no                            0\n",
              "dtype: int64"
            ]
          },
          "metadata": {},
          "execution_count": 14
        }
      ],
      "source": [
        "df.isna().sum().sort_values()"
      ]
    },
    {
      "cell_type": "code",
      "execution_count": null,
      "metadata": {
        "colab": {
          "base_uri": "https://localhost:8080/"
        },
        "id": "caDEzLtDAw5b",
        "outputId": "ffb97234-494f-4661-ffff-d45dafc9b659"
      },
      "outputs": [
        {
          "output_type": "execute_result",
          "data": {
            "text/plain": [
              "Index(['campaign_id', 'landing_page_id', 'traffic_source_id',\n",
              "       'visitor_device_browser', 'visitor_device_hardware_family',\n",
              "       'visitor_device_hardware_model', 'visitor_device_hardware_vendor',\n",
              "       'visitor_device_os_family', 'visitor_device_os_vendor',\n",
              "       'visitor_device_os_version', 'visitor_device_type',\n",
              "       'visitor_geo_location_cityName', 'visitor_geo_location_connection_type',\n",
              "       'visitor_geo_location_countryCode', 'visitor_geo_location_isp',\n",
              "       'visitor_geo_location_regionName', 'visitor_tokens_adh',\n",
              "       'visitor_tokens_cadid', 'visitor_tokens_adi', 'converted_yes',\n",
              "       'converted_no'],\n",
              "      dtype='object')"
            ]
          },
          "metadata": {},
          "execution_count": 15
        }
      ],
      "source": [
        "df.columns"
      ]
    },
    {
      "cell_type": "code",
      "execution_count": null,
      "metadata": {
        "id": "-7YP24hjAzG6"
      },
      "outputs": [],
      "source": [
        "X = df[['campaign_id', 'traffic_source_id',\n",
        "       'visitor_device_browser', 'visitor_device_hardware_family',\n",
        "       'visitor_device_hardware_model', 'visitor_device_hardware_vendor',\n",
        "       'visitor_device_os_family', 'visitor_device_os_vendor',\n",
        "       'visitor_device_os_version', 'visitor_device_type',\n",
        "       'visitor_geo_location_cityName', 'visitor_geo_location_connection_type',\n",
        "       'visitor_geo_location_countryCode', 'visitor_geo_location_isp',\n",
        "       'visitor_geo_location_regionName', 'visitor_tokens_adh',\n",
        "       'visitor_tokens_cadid', 'visitor_tokens_adi', 'converted_yes',\n",
        "       'converted_no']]"
      ]
    },
    {
      "cell_type": "code",
      "execution_count": null,
      "metadata": {
        "id": "CBFyRWFvA7kF"
      },
      "outputs": [],
      "source": [
        "X = X.astype(str).to_numpy()"
      ]
    },
    {
      "cell_type": "code",
      "execution_count": null,
      "metadata": {
        "id": "dzjwZEbGAzOZ"
      },
      "outputs": [],
      "source": [
        "y = df[[\"landing_page_id\"]].to_numpy()"
      ]
    },
    {
      "cell_type": "code",
      "execution_count": null,
      "metadata": {
        "colab": {
          "base_uri": "https://localhost:8080/"
        },
        "id": "6xXt-zogA-dk",
        "outputId": "179dd289-2165-432e-b5bd-442e6d90b023"
      },
      "outputs": [
        {
          "output_type": "stream",
          "name": "stdout",
          "text": [
            "X shape: :  (7833, 20)\n"
          ]
        }
      ],
      "source": [
        "# encode string input values as integers\n",
        "encoded_x = None\n",
        "for i in range(0, X.shape[1]):\n",
        "    label_encoder = LabelEncoder()\n",
        "    feature = label_encoder.fit_transform(X[:,i])\n",
        "    feature = feature.reshape(X.shape[0], 1)\n",
        "    onehot_encoder = OrdinalEncoder()\n",
        "    feature = onehot_encoder.fit_transform(feature)\n",
        "    if encoded_x is None:\n",
        "        encoded_x = feature\n",
        "    else:\n",
        "        encoded_x = numpy.concatenate((encoded_x, feature), axis=1)\n",
        "print(\"X shape: : \", encoded_x.shape)\n"
      ]
    },
    {
      "cell_type": "code",
      "execution_count": null,
      "metadata": {
        "colab": {
          "base_uri": "https://localhost:8080/"
        },
        "id": "GE_WkiJPA-gK",
        "outputId": "427b6d6b-896a-47c3-8dd2-a974fc11fb45"
      },
      "outputs": [
        {
          "output_type": "execute_result",
          "data": {
            "text/plain": [
              "array([[ 3.,  0.,  4., ...,  1.,  1.,  0.],\n",
              "       [ 9.,  2.,  4., ...,  1.,  1.,  0.],\n",
              "       [ 9.,  2.,  4., ..., 10.,  0.,  1.],\n",
              "       ...,\n",
              "       [14.,  4., 30., ..., 16.,  1.,  0.],\n",
              "       [14.,  4., 30., ...,  1.,  1.,  0.],\n",
              "       [ 3.,  0.,  4., ...,  0.,  1.,  0.]])"
            ]
          },
          "metadata": {},
          "execution_count": 20
        }
      ],
      "source": [
        "encoded_x"
      ]
    },
    {
      "cell_type": "code",
      "execution_count": null,
      "metadata": {
        "colab": {
          "base_uri": "https://localhost:8080/"
        },
        "id": "sbTc56B2A-ik",
        "outputId": "4bc06b6f-04b8-4778-ceda-049ab3086f15"
      },
      "outputs": [
        {
          "output_type": "stream",
          "name": "stderr",
          "text": [
            "/usr/local/lib/python3.7/dist-packages/sklearn/preprocessing/_label.py:98: DataConversionWarning: A column-vector y was passed when a 1d array was expected. Please change the shape of y to (n_samples, ), for example using ravel().\n",
            "  y = column_or_1d(y, warn=True)\n",
            "/usr/local/lib/python3.7/dist-packages/sklearn/preprocessing/_label.py:133: DataConversionWarning: A column-vector y was passed when a 1d array was expected. Please change the shape of y to (n_samples, ), for example using ravel().\n",
            "  y = column_or_1d(y, warn=True)\n"
          ]
        }
      ],
      "source": [
        "# encode string class values as integers\n",
        "label_encoder = LabelEncoder()\n",
        "label_encoder = label_encoder.fit(y)\n",
        "label_encoded_y = label_encoder.transform(y)\n",
        "# convert integers to dummy variables (i.e. one hot encoded)\n",
        "dummy_y = np_utils.to_categorical(label_encoded_y)"
      ]
    },
    {
      "cell_type": "code",
      "execution_count": null,
      "metadata": {
        "colab": {
          "base_uri": "https://localhost:8080/"
        },
        "id": "IGjvfbs_eJKR",
        "outputId": "95a26628-6e6f-40a5-b6f7-9c643f54b36f"
      },
      "outputs": [
        {
          "output_type": "execute_result",
          "data": {
            "text/plain": [
              "array([0, 0, 2, ..., 1, 1, 2])"
            ]
          },
          "metadata": {},
          "execution_count": 22
        }
      ],
      "source": [
        "label_encoded_y"
      ]
    },
    {
      "cell_type": "code",
      "execution_count": null,
      "metadata": {
        "colab": {
          "base_uri": "https://localhost:8080/"
        },
        "id": "YnXC68vwYZew",
        "outputId": "cabd5768-a5f1-412a-fa73-5c23308d8481"
      },
      "outputs": [
        {
          "output_type": "execute_result",
          "data": {
            "text/plain": [
              "array([[1., 0., 0.],\n",
              "       [1., 0., 0.],\n",
              "       [0., 0., 1.],\n",
              "       ...,\n",
              "       [0., 1., 0.],\n",
              "       [0., 1., 0.],\n",
              "       [0., 0., 1.]], dtype=float32)"
            ]
          },
          "metadata": {},
          "execution_count": 23
        }
      ],
      "source": [
        "dummy_y"
      ]
    },
    {
      "cell_type": "code",
      "execution_count": null,
      "metadata": {
        "id": "jxLVfIDkA-kp"
      },
      "outputs": [],
      "source": [
        "# split data into train and test sets\n",
        "X_train, X_test, y_train, y_test = train_test_split(encoded_x, dummy_y, test_size=0.30, random_state=123)"
      ]
    },
    {
      "cell_type": "code",
      "execution_count": null,
      "metadata": {
        "id": "i56-v03TBYj0"
      },
      "outputs": [],
      "source": [
        "#from sklearn.preprocessing import StandardScaler\n",
        "scaler=StandardScaler()\n",
        "scaler.fit(X_train)\n",
        "X_train=scaler.transform(X_train)\n",
        "X_test=scaler.transform(X_test)"
      ]
    },
    {
      "cell_type": "code",
      "execution_count": null,
      "metadata": {
        "id": "WO4UbSPkBSYV"
      },
      "outputs": [],
      "source": [
        "# Definición del modelo\n",
        "def modelo_mlp(): \n",
        "    model = Sequential()\n",
        "    model.add(Dense(20, input_dim=X_train.shape[1], \n",
        "                kernel_initializer= 'he_uniform',\n",
        "                activation='relu', activity_regularizer=regularizers.l1(1e-4)))\n",
        "    model.add(Dropout(0.3))\n",
        "    model.add(BatchNormalization())\n",
        "    model.add(Dense(10, kernel_initializer= 'he_uniform',\n",
        "                activation='relu',activity_regularizer=regularizers.l1(1e-4)))\n",
        "    model.add(Dropout(0.3))\n",
        "    model.add(BatchNormalization())\n",
        "    model.add(Dense(5, kernel_initializer= 'he_uniform',\n",
        "                activation='relu',activity_regularizer=regularizers.l1(1e-4)))\n",
        "    model.add(Dropout(0.3))\n",
        "    model.add(BatchNormalization())  \n",
        "    model.add(Dense(3, kernel_initializer= 'he_uniform',\n",
        "                activation='softmax'))\n",
        "    model.compile(loss='categorical_crossentropy', optimizer='adam',\n",
        "                metrics=['accuracy'])\n",
        "    model.summary()\n",
        "    return model"
      ]
    },
    {
      "cell_type": "code",
      "source": [
        "# simple early stopping\n",
        "#es = EarlyStopping(monitor='val_loss', mode='min', verbose=1)\n",
        "#es = EarlyStopping()"
      ],
      "metadata": {
        "id": "v5QgrCE_4j3T"
      },
      "execution_count": null,
      "outputs": []
    },
    {
      "cell_type": "code",
      "execution_count": null,
      "metadata": {
        "colab": {
          "base_uri": "https://localhost:8080/"
        },
        "id": "I3HiwZHSUvnP",
        "outputId": "88b5c827-7927-4ee4-d181-0661e51aa8ad"
      },
      "outputs": [
        {
          "output_type": "stream",
          "name": "stdout",
          "text": [
            "Model: \"sequential\"\n",
            "_________________________________________________________________\n",
            " Layer (type)                Output Shape              Param #   \n",
            "=================================================================\n",
            " dense (Dense)               (None, 20)                420       \n",
            "                                                                 \n",
            " dropout (Dropout)           (None, 20)                0         \n",
            "                                                                 \n",
            " batch_normalization (BatchN  (None, 20)               80        \n",
            " ormalization)                                                   \n",
            "                                                                 \n",
            " dense_1 (Dense)             (None, 10)                210       \n",
            "                                                                 \n",
            " dropout_1 (Dropout)         (None, 10)                0         \n",
            "                                                                 \n",
            " batch_normalization_1 (Batc  (None, 10)               40        \n",
            " hNormalization)                                                 \n",
            "                                                                 \n",
            " dense_2 (Dense)             (None, 5)                 55        \n",
            "                                                                 \n",
            " dropout_2 (Dropout)         (None, 5)                 0         \n",
            "                                                                 \n",
            " batch_normalization_2 (Batc  (None, 5)                20        \n",
            " hNormalization)                                                 \n",
            "                                                                 \n",
            " dense_3 (Dense)             (None, 3)                 18        \n",
            "                                                                 \n",
            "=================================================================\n",
            "Total params: 843\n",
            "Trainable params: 773\n",
            "Non-trainable params: 70\n",
            "_________________________________________________________________\n"
          ]
        }
      ],
      "source": [
        "model = modelo_mlp()"
      ]
    },
    {
      "cell_type": "markdown",
      "source": [
        "#callbacks=[es]"
      ],
      "metadata": {
        "id": "oDyerp22Poh4"
      }
    },
    {
      "cell_type": "code",
      "execution_count": null,
      "metadata": {
        "colab": {
          "base_uri": "https://localhost:8080/"
        },
        "id": "NfffQIygUvuY",
        "outputId": "341dbf5b-8d1b-4dc3-9ee7-942f14154795"
      },
      "outputs": [
        {
          "output_type": "stream",
          "name": "stdout",
          "text": [
            "Epoch 1/100\n",
            "172/172 [==============================] - 5s 12ms/step - loss: 1.3841 - accuracy: 0.3347 - val_loss: 1.1345 - val_accuracy: 0.3515\n",
            "Epoch 2/100\n",
            "172/172 [==============================] - 1s 8ms/step - loss: 1.2137 - accuracy: 0.3361 - val_loss: 1.0959 - val_accuracy: 0.3579\n",
            "Epoch 3/100\n",
            "172/172 [==============================] - 1s 8ms/step - loss: 1.1566 - accuracy: 0.3494 - val_loss: 1.0845 - val_accuracy: 0.3736\n",
            "Epoch 4/100\n",
            "172/172 [==============================] - 1s 8ms/step - loss: 1.1182 - accuracy: 0.3644 - val_loss: 1.0790 - val_accuracy: 0.3940\n",
            "Epoch 5/100\n",
            "172/172 [==============================] - 1s 9ms/step - loss: 1.1116 - accuracy: 0.3649 - val_loss: 1.0740 - val_accuracy: 0.4094\n",
            "Epoch 6/100\n",
            "172/172 [==============================] - 1s 8ms/step - loss: 1.0977 - accuracy: 0.3648 - val_loss: 1.0698 - val_accuracy: 0.4170\n",
            "Epoch 7/100\n",
            "172/172 [==============================] - 2s 11ms/step - loss: 1.0923 - accuracy: 0.3803 - val_loss: 1.0671 - val_accuracy: 0.4260\n",
            "Epoch 8/100\n",
            "172/172 [==============================] - 2s 11ms/step - loss: 1.0870 - accuracy: 0.3794 - val_loss: 1.0621 - val_accuracy: 0.4328\n",
            "Epoch 9/100\n",
            "172/172 [==============================] - 2s 10ms/step - loss: 1.0772 - accuracy: 0.3899 - val_loss: 1.0551 - val_accuracy: 0.4289\n",
            "Epoch 10/100\n",
            "172/172 [==============================] - 2s 10ms/step - loss: 1.0721 - accuracy: 0.3967 - val_loss: 1.0513 - val_accuracy: 0.4260\n",
            "Epoch 11/100\n",
            "172/172 [==============================] - 2s 11ms/step - loss: 1.0760 - accuracy: 0.3916 - val_loss: 1.0487 - val_accuracy: 0.4311\n",
            "Epoch 12/100\n",
            "172/172 [==============================] - 1s 8ms/step - loss: 1.0716 - accuracy: 0.4009 - val_loss: 1.0459 - val_accuracy: 0.4260\n",
            "Epoch 13/100\n",
            "172/172 [==============================] - 1s 7ms/step - loss: 1.0639 - accuracy: 0.4040 - val_loss: 1.0420 - val_accuracy: 0.4255\n",
            "Epoch 14/100\n",
            "172/172 [==============================] - 2s 10ms/step - loss: 1.0676 - accuracy: 0.4047 - val_loss: 1.0402 - val_accuracy: 0.4255\n",
            "Epoch 15/100\n",
            "172/172 [==============================] - 1s 8ms/step - loss: 1.0640 - accuracy: 0.4102 - val_loss: 1.0376 - val_accuracy: 0.4243\n",
            "Epoch 16/100\n",
            "172/172 [==============================] - 1s 4ms/step - loss: 1.0634 - accuracy: 0.4082 - val_loss: 1.0369 - val_accuracy: 0.4281\n",
            "Epoch 17/100\n",
            "172/172 [==============================] - 1s 4ms/step - loss: 1.0629 - accuracy: 0.4118 - val_loss: 1.0353 - val_accuracy: 0.4251\n",
            "Epoch 18/100\n",
            "172/172 [==============================] - 1s 4ms/step - loss: 1.0591 - accuracy: 0.4135 - val_loss: 1.0330 - val_accuracy: 0.4306\n",
            "Epoch 19/100\n",
            "172/172 [==============================] - 1s 4ms/step - loss: 1.0538 - accuracy: 0.4206 - val_loss: 1.0311 - val_accuracy: 0.4332\n",
            "Epoch 20/100\n",
            "172/172 [==============================] - 1s 4ms/step - loss: 1.0594 - accuracy: 0.4144 - val_loss: 1.0295 - val_accuracy: 0.4340\n",
            "Epoch 21/100\n",
            "172/172 [==============================] - 1s 4ms/step - loss: 1.0514 - accuracy: 0.4193 - val_loss: 1.0280 - val_accuracy: 0.4323\n",
            "Epoch 22/100\n",
            "172/172 [==============================] - 1s 4ms/step - loss: 1.0539 - accuracy: 0.4231 - val_loss: 1.0264 - val_accuracy: 0.4349\n",
            "Epoch 23/100\n",
            "172/172 [==============================] - 1s 4ms/step - loss: 1.0532 - accuracy: 0.4220 - val_loss: 1.0255 - val_accuracy: 0.4357\n",
            "Epoch 24/100\n",
            "172/172 [==============================] - 1s 4ms/step - loss: 1.0487 - accuracy: 0.4310 - val_loss: 1.0243 - val_accuracy: 0.4374\n",
            "Epoch 25/100\n",
            "172/172 [==============================] - 1s 4ms/step - loss: 1.0511 - accuracy: 0.4253 - val_loss: 1.0226 - val_accuracy: 0.4421\n",
            "Epoch 26/100\n",
            "172/172 [==============================] - 1s 4ms/step - loss: 1.0473 - accuracy: 0.4186 - val_loss: 1.0223 - val_accuracy: 0.4502\n",
            "Epoch 27/100\n",
            "172/172 [==============================] - 1s 4ms/step - loss: 1.0519 - accuracy: 0.4237 - val_loss: 1.0228 - val_accuracy: 0.4370\n",
            "Epoch 28/100\n",
            "172/172 [==============================] - 1s 4ms/step - loss: 1.0451 - accuracy: 0.4313 - val_loss: 1.0202 - val_accuracy: 0.4404\n",
            "Epoch 29/100\n",
            "172/172 [==============================] - 1s 4ms/step - loss: 1.0489 - accuracy: 0.4171 - val_loss: 1.0195 - val_accuracy: 0.4430\n",
            "Epoch 30/100\n",
            "172/172 [==============================] - 1s 4ms/step - loss: 1.0358 - accuracy: 0.4260 - val_loss: 1.0167 - val_accuracy: 0.4426\n",
            "Epoch 31/100\n",
            "172/172 [==============================] - 1s 4ms/step - loss: 1.0361 - accuracy: 0.4394 - val_loss: 1.0142 - val_accuracy: 0.4430\n",
            "Epoch 32/100\n",
            "172/172 [==============================] - 1s 4ms/step - loss: 1.0368 - accuracy: 0.4421 - val_loss: 1.0149 - val_accuracy: 0.4417\n",
            "Epoch 33/100\n",
            "172/172 [==============================] - 1s 4ms/step - loss: 1.0384 - accuracy: 0.4326 - val_loss: 1.0140 - val_accuracy: 0.4443\n",
            "Epoch 34/100\n",
            "172/172 [==============================] - 1s 4ms/step - loss: 1.0435 - accuracy: 0.4401 - val_loss: 1.0140 - val_accuracy: 0.4421\n",
            "Epoch 35/100\n",
            "172/172 [==============================] - 1s 4ms/step - loss: 1.0345 - accuracy: 0.4355 - val_loss: 1.0113 - val_accuracy: 0.4417\n",
            "Epoch 36/100\n",
            "172/172 [==============================] - 1s 4ms/step - loss: 1.0331 - accuracy: 0.4468 - val_loss: 1.0093 - val_accuracy: 0.4362\n",
            "Epoch 37/100\n",
            "172/172 [==============================] - 1s 4ms/step - loss: 1.0331 - accuracy: 0.4355 - val_loss: 1.0081 - val_accuracy: 0.4413\n",
            "Epoch 38/100\n",
            "172/172 [==============================] - 1s 4ms/step - loss: 1.0358 - accuracy: 0.4262 - val_loss: 1.0055 - val_accuracy: 0.4409\n",
            "Epoch 39/100\n",
            "172/172 [==============================] - 1s 4ms/step - loss: 1.0281 - accuracy: 0.4321 - val_loss: 1.0038 - val_accuracy: 0.4387\n",
            "Epoch 40/100\n",
            "172/172 [==============================] - 1s 4ms/step - loss: 1.0351 - accuracy: 0.4239 - val_loss: 1.0036 - val_accuracy: 0.4370\n",
            "Epoch 41/100\n",
            "172/172 [==============================] - 1s 4ms/step - loss: 1.0276 - accuracy: 0.4366 - val_loss: 1.0006 - val_accuracy: 0.4426\n",
            "Epoch 42/100\n",
            "172/172 [==============================] - 1s 4ms/step - loss: 1.0318 - accuracy: 0.4348 - val_loss: 1.0011 - val_accuracy: 0.4464\n",
            "Epoch 43/100\n",
            "172/172 [==============================] - 1s 4ms/step - loss: 1.0252 - accuracy: 0.4434 - val_loss: 0.9985 - val_accuracy: 0.4511\n",
            "Epoch 44/100\n",
            "172/172 [==============================] - 1s 4ms/step - loss: 1.0253 - accuracy: 0.4415 - val_loss: 0.9976 - val_accuracy: 0.4498\n",
            "Epoch 45/100\n",
            "172/172 [==============================] - 1s 4ms/step - loss: 1.0322 - accuracy: 0.4410 - val_loss: 0.9978 - val_accuracy: 0.4468\n",
            "Epoch 46/100\n",
            "172/172 [==============================] - 1s 4ms/step - loss: 1.0221 - accuracy: 0.4394 - val_loss: 0.9957 - val_accuracy: 0.4511\n",
            "Epoch 47/100\n",
            "172/172 [==============================] - 1s 4ms/step - loss: 1.0259 - accuracy: 0.4499 - val_loss: 0.9941 - val_accuracy: 0.4464\n",
            "Epoch 48/100\n",
            "172/172 [==============================] - 1s 3ms/step - loss: 1.0286 - accuracy: 0.4461 - val_loss: 0.9943 - val_accuracy: 0.4579\n",
            "Epoch 49/100\n",
            "172/172 [==============================] - 1s 4ms/step - loss: 1.0254 - accuracy: 0.4461 - val_loss: 0.9910 - val_accuracy: 0.4660\n",
            "Epoch 50/100\n",
            "172/172 [==============================] - 1s 4ms/step - loss: 1.0233 - accuracy: 0.4436 - val_loss: 0.9890 - val_accuracy: 0.4668\n",
            "Epoch 51/100\n",
            "172/172 [==============================] - 1s 4ms/step - loss: 1.0243 - accuracy: 0.4357 - val_loss: 0.9892 - val_accuracy: 0.4728\n",
            "Epoch 52/100\n",
            "172/172 [==============================] - 1s 4ms/step - loss: 1.0241 - accuracy: 0.4472 - val_loss: 0.9901 - val_accuracy: 0.4728\n",
            "Epoch 53/100\n",
            "172/172 [==============================] - 1s 4ms/step - loss: 1.0166 - accuracy: 0.4545 - val_loss: 0.9894 - val_accuracy: 0.4613\n",
            "Epoch 54/100\n",
            "172/172 [==============================] - 1s 3ms/step - loss: 1.0131 - accuracy: 0.4594 - val_loss: 0.9840 - val_accuracy: 0.4694\n",
            "Epoch 55/100\n",
            "172/172 [==============================] - 1s 4ms/step - loss: 1.0238 - accuracy: 0.4534 - val_loss: 0.9867 - val_accuracy: 0.4706\n",
            "Epoch 56/100\n",
            "172/172 [==============================] - 1s 4ms/step - loss: 1.0131 - accuracy: 0.4616 - val_loss: 0.9846 - val_accuracy: 0.4630\n",
            "Epoch 57/100\n",
            "172/172 [==============================] - 1s 4ms/step - loss: 1.0165 - accuracy: 0.4574 - val_loss: 0.9826 - val_accuracy: 0.4591\n",
            "Epoch 58/100\n",
            "172/172 [==============================] - 1s 4ms/step - loss: 1.0191 - accuracy: 0.4457 - val_loss: 0.9826 - val_accuracy: 0.4719\n",
            "Epoch 59/100\n",
            "172/172 [==============================] - 1s 3ms/step - loss: 1.0181 - accuracy: 0.4496 - val_loss: 0.9841 - val_accuracy: 0.4579\n",
            "Epoch 60/100\n",
            "172/172 [==============================] - 1s 4ms/step - loss: 1.0137 - accuracy: 0.4536 - val_loss: 0.9816 - val_accuracy: 0.4621\n",
            "Epoch 61/100\n",
            "172/172 [==============================] - 1s 4ms/step - loss: 1.0191 - accuracy: 0.4569 - val_loss: 0.9807 - val_accuracy: 0.4689\n",
            "Epoch 62/100\n",
            "172/172 [==============================] - 1s 4ms/step - loss: 1.0185 - accuracy: 0.4521 - val_loss: 0.9787 - val_accuracy: 0.4664\n",
            "Epoch 63/100\n",
            "172/172 [==============================] - 1s 4ms/step - loss: 1.0135 - accuracy: 0.4539 - val_loss: 0.9785 - val_accuracy: 0.4655\n",
            "Epoch 64/100\n",
            "172/172 [==============================] - 1s 4ms/step - loss: 1.0144 - accuracy: 0.4432 - val_loss: 0.9815 - val_accuracy: 0.4672\n",
            "Epoch 65/100\n",
            "172/172 [==============================] - 1s 4ms/step - loss: 1.0166 - accuracy: 0.4419 - val_loss: 0.9804 - val_accuracy: 0.4604\n",
            "Epoch 66/100\n",
            "172/172 [==============================] - 1s 4ms/step - loss: 1.0146 - accuracy: 0.4614 - val_loss: 0.9785 - val_accuracy: 0.4626\n",
            "Epoch 67/100\n",
            "172/172 [==============================] - 1s 4ms/step - loss: 1.0165 - accuracy: 0.4501 - val_loss: 0.9798 - val_accuracy: 0.4634\n",
            "Epoch 68/100\n",
            "172/172 [==============================] - 1s 4ms/step - loss: 1.0086 - accuracy: 0.4605 - val_loss: 0.9786 - val_accuracy: 0.4630\n",
            "Epoch 69/100\n",
            "172/172 [==============================] - 1s 4ms/step - loss: 1.0135 - accuracy: 0.4530 - val_loss: 0.9790 - val_accuracy: 0.4626\n",
            "Epoch 70/100\n",
            "172/172 [==============================] - 1s 4ms/step - loss: 1.0144 - accuracy: 0.4560 - val_loss: 0.9796 - val_accuracy: 0.4791\n",
            "Epoch 71/100\n",
            "172/172 [==============================] - 1s 4ms/step - loss: 1.0121 - accuracy: 0.4561 - val_loss: 0.9775 - val_accuracy: 0.4596\n",
            "Epoch 72/100\n",
            "172/172 [==============================] - 1s 4ms/step - loss: 1.0116 - accuracy: 0.4623 - val_loss: 0.9780 - val_accuracy: 0.4728\n",
            "Epoch 73/100\n",
            "172/172 [==============================] - 1s 4ms/step - loss: 1.0104 - accuracy: 0.4629 - val_loss: 0.9776 - val_accuracy: 0.4630\n",
            "Epoch 74/100\n",
            "172/172 [==============================] - 1s 4ms/step - loss: 1.0123 - accuracy: 0.4457 - val_loss: 0.9760 - val_accuracy: 0.4651\n",
            "Epoch 75/100\n",
            "172/172 [==============================] - 1s 4ms/step - loss: 1.0054 - accuracy: 0.4631 - val_loss: 0.9759 - val_accuracy: 0.4604\n",
            "Epoch 76/100\n",
            "172/172 [==============================] - 1s 4ms/step - loss: 1.0086 - accuracy: 0.4620 - val_loss: 0.9750 - val_accuracy: 0.4706\n",
            "Epoch 77/100\n",
            "172/172 [==============================] - 1s 4ms/step - loss: 1.0077 - accuracy: 0.4534 - val_loss: 0.9739 - val_accuracy: 0.4715\n",
            "Epoch 78/100\n",
            "172/172 [==============================] - 1s 4ms/step - loss: 1.0093 - accuracy: 0.4477 - val_loss: 0.9779 - val_accuracy: 0.4651\n",
            "Epoch 79/100\n",
            "172/172 [==============================] - 1s 4ms/step - loss: 1.0136 - accuracy: 0.4463 - val_loss: 0.9789 - val_accuracy: 0.4626\n",
            "Epoch 80/100\n",
            "172/172 [==============================] - 1s 4ms/step - loss: 1.0090 - accuracy: 0.4607 - val_loss: 0.9769 - val_accuracy: 0.4655\n",
            "Epoch 81/100\n",
            "172/172 [==============================] - 1s 3ms/step - loss: 1.0092 - accuracy: 0.4459 - val_loss: 0.9773 - val_accuracy: 0.4600\n",
            "Epoch 82/100\n",
            "172/172 [==============================] - 1s 4ms/step - loss: 1.0147 - accuracy: 0.4574 - val_loss: 0.9784 - val_accuracy: 0.4600\n",
            "Epoch 83/100\n",
            "172/172 [==============================] - 1s 3ms/step - loss: 1.0056 - accuracy: 0.4601 - val_loss: 0.9756 - val_accuracy: 0.4732\n",
            "Epoch 84/100\n",
            "172/172 [==============================] - 1s 4ms/step - loss: 1.0076 - accuracy: 0.4684 - val_loss: 0.9756 - val_accuracy: 0.4770\n",
            "Epoch 85/100\n",
            "172/172 [==============================] - 1s 4ms/step - loss: 0.9980 - accuracy: 0.4643 - val_loss: 0.9726 - val_accuracy: 0.4706\n",
            "Epoch 86/100\n",
            "172/172 [==============================] - 1s 4ms/step - loss: 1.0007 - accuracy: 0.4704 - val_loss: 0.9723 - val_accuracy: 0.4753\n",
            "Epoch 87/100\n",
            "172/172 [==============================] - 1s 4ms/step - loss: 1.0060 - accuracy: 0.4594 - val_loss: 0.9726 - val_accuracy: 0.4753\n",
            "Epoch 88/100\n",
            "172/172 [==============================] - 1s 4ms/step - loss: 1.0081 - accuracy: 0.4574 - val_loss: 0.9740 - val_accuracy: 0.4753\n",
            "Epoch 89/100\n",
            "172/172 [==============================] - 1s 3ms/step - loss: 1.0032 - accuracy: 0.4576 - val_loss: 0.9741 - val_accuracy: 0.4753\n",
            "Epoch 90/100\n",
            "172/172 [==============================] - 1s 4ms/step - loss: 1.0086 - accuracy: 0.4521 - val_loss: 0.9749 - val_accuracy: 0.4698\n",
            "Epoch 91/100\n",
            "172/172 [==============================] - 1s 4ms/step - loss: 1.0041 - accuracy: 0.4642 - val_loss: 0.9724 - val_accuracy: 0.4766\n",
            "Epoch 92/100\n",
            "172/172 [==============================] - 1s 4ms/step - loss: 1.0052 - accuracy: 0.4726 - val_loss: 0.9728 - val_accuracy: 0.4668\n",
            "Epoch 93/100\n",
            "172/172 [==============================] - 1s 4ms/step - loss: 1.0089 - accuracy: 0.4696 - val_loss: 0.9757 - val_accuracy: 0.4698\n",
            "Epoch 94/100\n",
            "172/172 [==============================] - 1s 4ms/step - loss: 1.0009 - accuracy: 0.4647 - val_loss: 0.9715 - val_accuracy: 0.4685\n",
            "Epoch 95/100\n",
            "172/172 [==============================] - 1s 4ms/step - loss: 1.0011 - accuracy: 0.4612 - val_loss: 0.9709 - val_accuracy: 0.4770\n",
            "Epoch 96/100\n",
            "172/172 [==============================] - 1s 4ms/step - loss: 0.9971 - accuracy: 0.4727 - val_loss: 0.9725 - val_accuracy: 0.4626\n",
            "Epoch 97/100\n",
            "172/172 [==============================] - 1s 4ms/step - loss: 1.0043 - accuracy: 0.4705 - val_loss: 0.9726 - val_accuracy: 0.4630\n",
            "Epoch 98/100\n",
            "172/172 [==============================] - 1s 4ms/step - loss: 1.0033 - accuracy: 0.4592 - val_loss: 0.9738 - val_accuracy: 0.4643\n",
            "Epoch 99/100\n",
            "172/172 [==============================] - 1s 4ms/step - loss: 1.0002 - accuracy: 0.4642 - val_loss: 0.9703 - val_accuracy: 0.4732\n",
            "Epoch 100/100\n",
            "172/172 [==============================] - 1s 4ms/step - loss: 1.0004 - accuracy: 0.4726 - val_loss: 0.9696 - val_accuracy: 0.4677\n"
          ]
        }
      ],
      "source": [
        "# Entrenamos el modelo con el dataset\n",
        "history=model.fit(X_train, y_train, epochs=100, batch_size=32, validation_data=(X_test, y_test), shuffle=False)"
      ]
    },
    {
      "cell_type": "code",
      "execution_count": null,
      "metadata": {
        "colab": {
          "base_uri": "https://localhost:8080/"
        },
        "id": "KWug_BRZUvxN",
        "outputId": "cab0c3bb-5737-42e5-af39-14f56b1f5feb"
      },
      "outputs": [
        {
          "output_type": "stream",
          "name": "stdout",
          "text": [
            "Precisión Entrenamiento: 0.4959\n",
            "Precisión Prueba:  0.4677\n"
          ]
        }
      ],
      "source": [
        "loss, accuracy = model.evaluate(X_train, y_train, verbose=False)\n",
        "print(\"Precisión Entrenamiento: {:.4f}\".format(accuracy))\n",
        "loss, accuracy = model.evaluate(X_test, y_test, verbose=False)\n",
        "print(\"Precisión Prueba:  {:.4f}\".format(accuracy))"
      ]
    },
    {
      "cell_type": "code",
      "execution_count": null,
      "metadata": {
        "colab": {
          "base_uri": "https://localhost:8080/",
          "height": 295
        },
        "id": "H0yK_NpgKPeP",
        "outputId": "77e949f7-9164-4296-c3a9-4f8437226c4b"
      },
      "outputs": [
        {
          "output_type": "display_data",
          "data": {
            "text/plain": [
              "<Figure size 432x288 with 1 Axes>"
            ],
            "image/png": "[encoded data removed]"
          },
          "metadata": {
            "needs_background": "light"
          }
        }
      ],
      "source": [
        "from matplotlib import pyplot\n",
        "from numpy import array\n",
        "# plot train and validation loss\n",
        "pyplot.plot(history.history['loss'])\n",
        "pyplot.plot(history.history['val_loss'])\n",
        "pyplot.title('model train vs validation loss')\n",
        "pyplot.ylabel('loss')\n",
        "pyplot.xlabel('epoch')\n",
        "pyplot.legend(['train', 'validation'], loc='upper right')\n",
        "pyplot.show()"
      ]
    },
    {
      "cell_type": "code",
      "execution_count": null,
      "metadata": {
        "id": "rP0iEOChQCiO"
      },
      "outputs": [],
      "source": [
        "#Making confusion matrix that checks accuracy of the model\n",
        "from sklearn.metrics import confusion_matrix\n",
        "from sklearn.metrics import ConfusionMatrixDisplay"
      ]
    },
    {
      "cell_type": "code",
      "execution_count": null,
      "metadata": {
        "colab": {
          "base_uri": "https://localhost:8080/",
          "height": 296
        },
        "id": "vUai4GqqA2_T",
        "outputId": "12fd902c-3e08-48d3-d688-de8a9f26fe35"
      },
      "outputs": [
        {
          "output_type": "stream",
          "name": "stdout",
          "text": [
            "74/74 [==============================] - 0s 2ms/step\n"
          ]
        },
        {
          "output_type": "display_data",
          "data": {
            "text/plain": [
              "<Figure size 432x288 with 2 Axes>"
            ],
            "image/png": "[encoded data removed]"
          },
          "metadata": {
            "needs_background": "light"
          }
        }
      ],
      "source": [
        "y_pred=model.predict(X_test) \n",
        "y_pred=np.argmax(y_pred, axis=1)\n",
        "y_test=np.argmax(y_test, axis=1)\n",
        "cm = confusion_matrix(y_test, y_pred)\n",
        "disp = ConfusionMatrixDisplay(confusion_matrix=cm)\n",
        "disp.plot()\n",
        "\n",
        "plt.show()"
      ]
    },
    {
      "cell_type": "code",
      "execution_count": null,
      "metadata": {
        "colab": {
          "base_uri": "https://localhost:8080/"
        },
        "id": "Lmp-3IkiA9--",
        "outputId": "8a319c72-6f85-4c7f-8dcd-f210e167d340"
      },
      "outputs": [
        {
          "output_type": "stream",
          "name": "stdout",
          "text": [
            "              precision    recall  f1-score   support\n",
            "\n",
            "           0       0.60      0.62      0.61       740\n",
            "           1       0.40      0.18      0.25       835\n",
            "           2       0.41      0.63      0.49       775\n",
            "\n",
            "    accuracy                           0.47      2350\n",
            "   macro avg       0.47      0.48      0.45      2350\n",
            "weighted avg       0.46      0.47      0.44      2350\n",
            "\n"
          ]
        }
      ],
      "source": [
        "from sklearn.metrics import classification_report\n",
        "report = classification_report(y_test, y_pred)\n",
        "print(report)"
      ]
    },
    {
      "cell_type": "code",
      "execution_count": null,
      "metadata": {
        "colab": {
          "base_uri": "https://localhost:8080/"
        },
        "id": "JOR3BdY4LCFC",
        "outputId": "6354daed-381c-4de0-c5b5-8812c1bf2f72"
      },
      "outputs": [
        {
          "output_type": "stream",
          "name": "stdout",
          "text": [
            "1/1 [==============================] - 0s 18ms/step\n"
          ]
        },
        {
          "output_type": "execute_result",
          "data": {
            "text/plain": [
              "array([[0.36814213, 0.309337  , 0.32252085]], dtype=float32)"
            ]
          },
          "metadata": {},
          "execution_count": 35
        }
      ],
      "source": [
        "# make class predictions with the model\n",
        "predictions = (model.predict(X_test[1:2]))\n",
        "predictions"
      ]
    },
    {
      "cell_type": "code",
      "execution_count": null,
      "metadata": {
        "colab": {
          "base_uri": "https://localhost:8080/"
        },
        "id": "eZq5E3MnhgQ9",
        "outputId": "c5f4cf64-24ee-4872-a581-51eefcd96778"
      },
      "outputs": [
        {
          "output_type": "stream",
          "name": "stdout",
          "text": [
            "1/1 [==============================] - 0s 21ms/step\n"
          ]
        },
        {
          "output_type": "execute_result",
          "data": {
            "text/plain": [
              "array([0])"
            ]
          },
          "metadata": {},
          "execution_count": 36
        }
      ],
      "source": [
        "# make class predictions with the model\n",
        "predictions = (model.predict(X_test[1:2])).argmax(1)\n",
        "predictions"
      ]
    },
    {
      "cell_type": "code",
      "execution_count": null,
      "metadata": {
        "colab": {
          "base_uri": "https://localhost:8080/"
        },
        "id": "3SvSOUGfhxnL",
        "outputId": "b12c8578-c783-4de7-b3c0-f83c36b79eea"
      },
      "outputs": [
        {
          "output_type": "stream",
          "name": "stdout",
          "text": [
            "['62566aa432b19a0164d802be']\n"
          ]
        }
      ],
      "source": [
        "print(label_encoder.inverse_transform(predictions))"
      ]
    },
    {
      "cell_type": "code",
      "execution_count": null,
      "metadata": {
        "id": "72H7mN_Thz0q"
      },
      "outputs": [],
      "source": [
        "from keras.models import load_model \n",
        "model.save(\"LPG_631d8277776f1d001a21e6eb.h5\") \n",
        "loaded_model = load_model(\"LPG_631d8277776f1d001a21e6eb.h5\")"
      ]
    },
    {
      "cell_type": "code",
      "execution_count": null,
      "metadata": {
        "colab": {
          "base_uri": "https://localhost:8080/"
        },
        "id": "iM4dyHQNjnTy",
        "outputId": "c918960a-40a9-42ee-a7fa-f246b8a4da5c"
      },
      "outputs": [
        {
          "output_type": "stream",
          "name": "stdout",
          "text": [
            "1/1 [==============================] - 0s 19ms/step\n"
          ]
        },
        {
          "output_type": "execute_result",
          "data": {
            "text/plain": [
              "array([[0.36814213, 0.309337  , 0.32252085]], dtype=float32)"
            ]
          },
          "metadata": {},
          "execution_count": 39
        }
      ],
      "source": [
        "# make class predictions with the model\n",
        "predictions = (model.predict(X_test[1:2]))\n",
        "predictions"
      ]
    },
    {
      "cell_type": "code",
      "execution_count": null,
      "metadata": {
        "colab": {
          "base_uri": "https://localhost:8080/"
        },
        "id": "ObPqe76thz8i",
        "outputId": "a55a029c-20a7-4b42-9d7e-3320c8001abc"
      },
      "outputs": [
        {
          "output_type": "stream",
          "name": "stdout",
          "text": [
            "1/1 [==============================] - 0s 158ms/step\n"
          ]
        },
        {
          "output_type": "execute_result",
          "data": {
            "text/plain": [
              "array([0])"
            ]
          },
          "metadata": {},
          "execution_count": 40
        }
      ],
      "source": [
        "# make class predictions with the model\n",
        "predictions = (loaded_model.predict(X_test[1:2])).argmax(1)\n",
        "predictions"
      ]
    },
    {
      "cell_type": "code",
      "execution_count": null,
      "metadata": {
        "colab": {
          "base_uri": "https://localhost:8080/"
        },
        "id": "vaF7mFxPhz_v",
        "outputId": "6c36d2c6-ac2b-4161-be02-aaf0208f7a38"
      },
      "outputs": [
        {
          "output_type": "stream",
          "name": "stdout",
          "text": [
            "['62566aa432b19a0164d802be']\n"
          ]
        }
      ],
      "source": [
        "print(label_encoder.inverse_transform(predictions))"
      ]
    }
  ],
  "metadata": {
    "colab": {
      "provenance": [],
      "include_colab_link": true
    },
    "kernelspec": {
      "display_name": "Python 3",
      "name": "python3"
    },
    "language_info": {
      "name": "python"
    }
  },
  "nbformat": 4,
  "nbformat_minor": 0
}