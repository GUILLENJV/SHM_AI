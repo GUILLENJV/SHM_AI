{
  "nbformat": 4,
  "nbformat_minor": 0,
  "metadata": {
    "colab": {
      "provenance": [],
      "include_colab_link": true
    },
    "kernelspec": {
      "name": "python3",
      "display_name": "Python 3"
    },
    "language_info": {
      "name": "python"
    }
  },
  "cells": [
    {
      "cell_type": "markdown",
      "metadata": {
        "id": "view-in-github",
        "colab_type": "text"
      },
      "source": [
        "<a href=\"https://colab.research.google.com/github/GUILLENJV/SHM_AI/blob/master/Hyperparameters_by_Bayesian_optimization.ipynb\" target=\"_parent\"><img src=\"https://colab.research.google.com/assets/colab-badge.svg\" alt=\"Open In Colab\"/></a>"
      ]
    },
    {
      "cell_type": "markdown",
      "source": [
        "# Bayesian Optimization"
      ],
      "metadata": {
        "id": "ndwgPlN4HEto"
      }
    },
    {
      "cell_type": "markdown",
      "source": [
        "Como recordatorio rápido, el ajuste de hiperparámetros es una parte fundamental de un proyecto de aprendizaje automático. Hay dos tipos de hiperparámetros:\n",
        "\n",
        "1. Hiperparámetros estructurales : definen la arquitectura general de un modelo (por ejemplo, número de unidades ocultas , número de capas )\n",
        "\n",
        "2. Hiperparámetros del optimizador: influyen en la velocidad y la calidad del entrenamiento (por ejemplo , tasa de aprendizaje y tipo de optimizador , tamaño del lote , número de épocas )"
      ],
      "metadata": {
        "id": "T2MS4Rn4bULh"
      }
    },
    {
      "cell_type": "markdown",
      "source": [
        "Afortunadamente, el sintonizador Keras proporciona un sintonizador de optimización bayesiana . En lugar de buscar todas las combinaciones posibles, el sintonizador de optimización bayesiana sigue un proceso iterativo, en el que elige las primeras al azar. Luego, en función del rendimiento de esos hiperparámetros, el sintonizador bayesiano selecciona el siguiente mejor posible.\n",
        "\n",
        "Así, cada elección de hiperparámetros depende de los intentos previos. El número de iteraciones para elegir el siguiente conjunto de hiperparámetros en función del historial y la evaluación del rendimiento continúa hasta que el sintonizador encuentra la mejor combinación o agota el número máximo de intentos . Podemos configurar esto con el argumento ' max_trials '.\n"
      ],
      "metadata": {
        "id": "WiQZfUKCbdfi"
      }
    },
    {
      "cell_type": "code",
      "source": [
        "# example of learned embedding encoding for a neural network\n",
        "from numpy import unique\n",
        "import numpy\n",
        "from numpy import array\n",
        "import pandas as pd\n",
        "import datetime \n",
        "from time import sleep\n",
        "from tqdm import tqdm\n",
        "import os\n",
        "from pandas import read_csv\n",
        "from sklearn.model_selection import train_test_split\n",
        "import json\n",
        "import tensorflow as tf\n",
        "from tensorflow import keras\n",
        "from keras.utils import np_utils\n",
        "import requests\n",
        "import numpy as np\n",
        "from sklearn.preprocessing import LabelEncoder\n",
        "from sklearn.preprocessing import OneHotEncoder\n",
        "from sklearn.preprocessing import OrdinalEncoder\n",
        "from tensorflow.keras.layers import BatchNormalization\n",
        "from sklearn.preprocessing import StandardScaler\n",
        "from keras.regularizers import l1\n",
        "from keras.regularizers import l2\n",
        "from tensorflow.keras.layers import Dense, Dropout, Flatten\n",
        "from tensorflow.keras.callbacks import EarlyStopping\n",
        "from keras.utils.vis_utils import plot_model\n",
        "from keras.models import Sequential\n",
        "import tensorflow as tf\n",
        "from tensorflow import keras\n",
        "from tensorflow.keras import regularizers\n",
        "from keras.utils.vis_utils import plot_model\n",
        "from matplotlib import pyplot\n",
        "import matplotlib.pyplot as plt\n",
        "import seaborn as sns\n",
        "# Use scikit-learn to grid search the batch size and epochs\n",
        "from sklearn.model_selection import GridSearchCV\n",
        "from keras.wrappers.scikit_learn import KerasClassifier"
      ],
      "metadata": {
        "id": "YEN_sUdX19iW"
      },
      "execution_count": null,
      "outputs": []
    },
    {
      "cell_type": "code",
      "source": [
        "# carga los datos\n",
        "df = pd.read_csv('631d8277776f1d001a21e6eb.csv') \n",
        "df = df.drop_duplicates()\n",
        "\n",
        "df[\"visitor_device_hardware_family\"] = df[\"visitor_device_hardware_family\"].apply(str)\n",
        "df[\"visitor_device_hardware_model\"] = df[\"visitor_device_hardware_model\"].apply(str)\n",
        "df[\"visitor_device_os_version\"] = df[\"visitor_device_os_version\"].apply(str)\n",
        "df[\"visitor_device_hardware_family\"] = df[\"visitor_device_hardware_family\"].apply(str)\n",
        "df[\"visitor_device_hardware_model\"] = df[\"visitor_device_hardware_model\"].apply(str)\n",
        "df[\"visitor_device_os_version\"] = df[\"visitor_device_os_version\"].apply(str)\n",
        "df[\"visitor_tokens_adh\"] = df[\"visitor_tokens_adh\"].apply(str)\n",
        "df[\"visitor_tokens_cadid\"] = df[\"visitor_tokens_cadid\"].apply(str)\n",
        "df[\"converted_yes\"] = df[\"converted_yes\"].apply(str)\n",
        "df[\"converted_no\"] = df[\"converted_no\"].apply(str)\n",
        "\n",
        "# Imputamos la variable \n",
        "df['visitor_device_os_vendor'].fillna(df['visitor_device_os_vendor'].mode()[0], inplace=True)\n",
        "df['campaign_id'].fillna(df['campaign_id'].mode()[0], inplace=True)\n",
        "df['visitor_device_hardware_vendor'].fillna(df['visitor_device_hardware_vendor'].mode()[0], inplace=True)\n",
        "df['visitor_device_browser'].fillna(df['visitor_device_browser'].mode()[0], inplace=True)\n",
        "df['traffic_source_id'].fillna(df['traffic_source_id'].mode()[0], inplace=True)\n",
        "df['landing_page_id'].fillna(df['landing_page_id'].mode()[0], inplace=True)\n",
        "df['visitor_device_os_family'].fillna(df['visitor_device_os_family'].mode()[0], inplace=True)\n",
        "df['visitor_device_type'].fillna(df['visitor_device_type'].mode()[0], inplace=True)\n",
        "df['visitor_geo_location_countryCode'].fillna(df['visitor_geo_location_countryCode'].mode()[0], inplace=True)\n",
        "df['visitor_geo_location_regionName'].fillna(df['visitor_geo_location_regionName'].mode()[0], inplace=True)\n",
        "df['visitor_tokens_adi'].fillna(df['visitor_tokens_adi'].mode()[0], inplace=True)\n",
        "df['visitor_geo_location_isp'].fillna(df['visitor_geo_location_isp'].mode()[0], inplace=True)\n",
        "df['visitor_geo_location_connection_type'].fillna(df['visitor_geo_location_connection_type'].mode()[0], inplace=True)\n",
        "df['visitor_geo_location_cityName'].fillna(df['visitor_geo_location_cityName'].mode()[0], inplace=True)\n",
        "\n",
        "df = df.drop(['landing_pages_group_id','visitor_tokens_add'], axis=1)\n",
        "\n",
        "X = df[['campaign_id', 'traffic_source_id',\n",
        "       'visitor_device_browser', 'visitor_device_hardware_family',\n",
        "       'visitor_device_hardware_model', 'visitor_device_hardware_vendor',\n",
        "       'visitor_device_os_family', 'visitor_device_os_vendor',\n",
        "       'visitor_device_os_version', 'visitor_device_type',\n",
        "       'visitor_geo_location_cityName', 'visitor_geo_location_connection_type',\n",
        "       'visitor_geo_location_countryCode', 'visitor_geo_location_isp',\n",
        "       'visitor_geo_location_regionName', 'visitor_tokens_adh',\n",
        "       'visitor_tokens_cadid', 'visitor_tokens_adi', 'converted_yes',\n",
        "       'converted_no']]\n",
        "\n",
        "X = X.astype(str).to_numpy()\n",
        "y = df[[\"landing_page_id\"]].to_numpy()\n",
        "\n",
        "# encode string input values as integers\n",
        "encoded_x = None\n",
        "for i in range(0, X.shape[1]):\n",
        "    label_encoder = LabelEncoder()\n",
        "    feature = label_encoder.fit_transform(X[:,i])\n",
        "    feature = feature.reshape(X.shape[0], 1)\n",
        "    onehot_encoder = OrdinalEncoder()\n",
        "    feature = onehot_encoder.fit_transform(feature)\n",
        "    if encoded_x is None:\n",
        "        encoded_x = feature\n",
        "    else:\n",
        "        encoded_x = numpy.concatenate((encoded_x, feature), axis=1)\n",
        "#print(\"X shape: : \", encoded_x.shape)\n",
        "\n",
        "# encode string class values as integers\n",
        "label_encoder = LabelEncoder()\n",
        "label_encoder = label_encoder.fit(y)\n",
        "label_encoded_y = label_encoder.transform(y)\n",
        "dummy_y = np_utils.to_categorical(label_encoded_y)\n",
        "\n",
        "# split data into train and test sets\n",
        "X_train, X_test, y_train, y_test = train_test_split(encoded_x, dummy_y, test_size=0.30, random_state=123)\n",
        "\n",
        "scaler=StandardScaler()\n",
        "scaler.fit(X_train)\n",
        "X_train=scaler.transform(X_train)\n",
        "X_test=scaler.transform(X_test)\n",
        "\n",
        "# fix random seed for reproducibility\n",
        "seed = 7\n",
        "numpy.random.seed(seed)"
      ],
      "metadata": {
        "id": "34_vwhTyHQ3l",
        "colab": {
          "base_uri": "https://localhost:8080/"
        },
        "outputId": "7fcf434a-319a-4159-e75a-b554b69649e4"
      },
      "execution_count": null,
      "outputs": [
        {
          "output_type": "stream",
          "name": "stderr",
          "text": [
            "/usr/local/lib/python3.7/dist-packages/sklearn/preprocessing/_label.py:98: DataConversionWarning: A column-vector y was passed when a 1d array was expected. Please change the shape of y to (n_samples, ), for example using ravel().\n",
            "  y = column_or_1d(y, warn=True)\n",
            "/usr/local/lib/python3.7/dist-packages/sklearn/preprocessing/_label.py:133: DataConversionWarning: A column-vector y was passed when a 1d array was expected. Please change the shape of y to (n_samples, ), for example using ravel().\n",
            "  y = column_or_1d(y, warn=True)\n"
          ]
        }
      ]
    },
    {
      "cell_type": "code",
      "source": [
        "df[\"landing_page_id\"].value_counts()"
      ],
      "metadata": {
        "colab": {
          "base_uri": "https://localhost:8080/"
        },
        "id": "cjUqq-8BzL7C",
        "outputId": "e1f8b2c6-e6b6-422d-bd83-c3ee898d3e7a"
      },
      "execution_count": null,
      "outputs": [
        {
          "output_type": "execute_result",
          "data": {
            "text/plain": [
              "631d72ff99ba21001a8503fa    2624\n",
              "631d779999ba21001a850416    2618\n",
              "62566aa432b19a0164d802be    2598\n",
              "Name: landing_page_id, dtype: int64"
            ]
          },
          "metadata": {},
          "execution_count": 22
        }
      ]
    },
    {
      "cell_type": "code",
      "source": [
        "df.shape"
      ],
      "metadata": {
        "colab": {
          "base_uri": "https://localhost:8080/"
        },
        "id": "TQNf8hxqm1s3",
        "outputId": "79b38b25-02b9-4a5e-8bd3-44664f9b38ab"
      },
      "execution_count": null,
      "outputs": [
        {
          "output_type": "execute_result",
          "data": {
            "text/plain": [
              "(7840, 21)"
            ]
          },
          "metadata": {},
          "execution_count": 9
        }
      ]
    },
    {
      "cell_type": "markdown",
      "source": [
        "# Generando el primer modelo sin optimizar los hiperparametros"
      ],
      "metadata": {
        "id": "VajQJMIipjHF"
      }
    },
    {
      "cell_type": "markdown",
      "source": [
        "# 1. Batch Size and Number of Epochs"
      ],
      "metadata": {
        "id": "Glnxs5qc9bka"
      }
    },
    {
      "cell_type": "code",
      "source": [
        "# Definición del modelo\n",
        "def modelo_mlp(): \n",
        "    model = Sequential()\n",
        "    model.add(Dense(20, input_dim=X_train.shape[1], activation='relu'))\n",
        "    model.add(Dense(3, activation='softmax'))\n",
        "    model.compile(loss='categorical_crossentropy', optimizer='adam', metrics=['accuracy'])  \n",
        "    model.summary()\n",
        "    return model"
      ],
      "metadata": {
        "id": "53H2PhhOCR7v"
      },
      "execution_count": null,
      "outputs": []
    },
    {
      "cell_type": "code",
      "source": [
        "model = modelo_mlp()"
      ],
      "metadata": {
        "colab": {
          "base_uri": "https://localhost:8080/"
        },
        "id": "V9H706zwz_3B",
        "outputId": "2078d2d5-8894-44c4-c73b-802133cdc6ee"
      },
      "execution_count": null,
      "outputs": [
        {
          "output_type": "stream",
          "name": "stdout",
          "text": [
            "Model: \"sequential\"\n",
            "_________________________________________________________________\n",
            " Layer (type)                Output Shape              Param #   \n",
            "=================================================================\n",
            " dense (Dense)               (None, 20)                420       \n",
            "                                                                 \n",
            " dense_1 (Dense)             (None, 3)                 63        \n",
            "                                                                 \n",
            "=================================================================\n",
            "Total params: 483\n",
            "Trainable params: 483\n",
            "Non-trainable params: 0\n",
            "_________________________________________________________________\n"
          ]
        }
      ]
    },
    {
      "cell_type": "code",
      "source": [
        "# Entrenamos el modelo con el dataset\n",
        "history=model.fit(X_train, y_train, epochs=100, batch_size=32, validation_data=(X_test, y_test), shuffle=False)"
      ],
      "metadata": {
        "colab": {
          "base_uri": "https://localhost:8080/"
        },
        "id": "eg-2_QQC0C74",
        "outputId": "2d87e973-b7e4-4a18-aaef-a0089e532ea0"
      },
      "execution_count": null,
      "outputs": [
        {
          "output_type": "stream",
          "name": "stdout",
          "text": [
            "Epoch 1/100\n",
            "172/172 [==============================] - 1s 3ms/step - loss: 1.0686 - accuracy: 0.4233 - val_loss: 0.9053 - val_accuracy: 0.5480\n",
            "Epoch 2/100\n",
            "172/172 [==============================] - 0s 3ms/step - loss: 0.8326 - accuracy: 0.5621 - val_loss: 0.7627 - val_accuracy: 0.5906\n",
            "Epoch 3/100\n",
            "172/172 [==============================] - 0s 3ms/step - loss: 0.7343 - accuracy: 0.5878 - val_loss: 0.6999 - val_accuracy: 0.6033\n",
            "Epoch 4/100\n",
            "172/172 [==============================] - 0s 3ms/step - loss: 0.6912 - accuracy: 0.5977 - val_loss: 0.6708 - val_accuracy: 0.6139\n",
            "Epoch 5/100\n",
            "172/172 [==============================] - 0s 3ms/step - loss: 0.6684 - accuracy: 0.6077 - val_loss: 0.6529 - val_accuracy: 0.6101\n",
            "Epoch 6/100\n",
            "172/172 [==============================] - 0s 2ms/step - loss: 0.6521 - accuracy: 0.6113 - val_loss: 0.6395 - val_accuracy: 0.6148\n",
            "Epoch 7/100\n",
            "172/172 [==============================] - 0s 3ms/step - loss: 0.6386 - accuracy: 0.6142 - val_loss: 0.6284 - val_accuracy: 0.6131\n",
            "Epoch 8/100\n",
            "172/172 [==============================] - 0s 3ms/step - loss: 0.6266 - accuracy: 0.6197 - val_loss: 0.6186 - val_accuracy: 0.6178\n",
            "Epoch 9/100\n",
            "172/172 [==============================] - 0s 2ms/step - loss: 0.6158 - accuracy: 0.6248 - val_loss: 0.6097 - val_accuracy: 0.6220\n",
            "Epoch 10/100\n",
            "172/172 [==============================] - 1s 3ms/step - loss: 0.6060 - accuracy: 0.6292 - val_loss: 0.6016 - val_accuracy: 0.6233\n",
            "Epoch 11/100\n",
            "172/172 [==============================] - 0s 2ms/step - loss: 0.5971 - accuracy: 0.6347 - val_loss: 0.5942 - val_accuracy: 0.6237\n",
            "Epoch 12/100\n",
            "172/172 [==============================] - 0s 3ms/step - loss: 0.5888 - accuracy: 0.6387 - val_loss: 0.5874 - val_accuracy: 0.6271\n",
            "Epoch 13/100\n",
            "172/172 [==============================] - 0s 2ms/step - loss: 0.5813 - accuracy: 0.6461 - val_loss: 0.5811 - val_accuracy: 0.6267\n",
            "Epoch 14/100\n",
            "172/172 [==============================] - 0s 2ms/step - loss: 0.5745 - accuracy: 0.6496 - val_loss: 0.5754 - val_accuracy: 0.6297\n",
            "Epoch 15/100\n",
            "172/172 [==============================] - 0s 2ms/step - loss: 0.5683 - accuracy: 0.6514 - val_loss: 0.5703 - val_accuracy: 0.6348\n",
            "Epoch 16/100\n",
            "172/172 [==============================] - 0s 3ms/step - loss: 0.5629 - accuracy: 0.6583 - val_loss: 0.5655 - val_accuracy: 0.6412\n",
            "Epoch 17/100\n",
            "172/172 [==============================] - 0s 3ms/step - loss: 0.5581 - accuracy: 0.6591 - val_loss: 0.5613 - val_accuracy: 0.6424\n",
            "Epoch 18/100\n",
            "172/172 [==============================] - 0s 2ms/step - loss: 0.5540 - accuracy: 0.6624 - val_loss: 0.5578 - val_accuracy: 0.6450\n",
            "Epoch 19/100\n",
            "172/172 [==============================] - 0s 3ms/step - loss: 0.5501 - accuracy: 0.6644 - val_loss: 0.5545 - val_accuracy: 0.6463\n",
            "Epoch 20/100\n",
            "172/172 [==============================] - 0s 2ms/step - loss: 0.5464 - accuracy: 0.6658 - val_loss: 0.5514 - val_accuracy: 0.6433\n",
            "Epoch 21/100\n",
            "172/172 [==============================] - 0s 2ms/step - loss: 0.5432 - accuracy: 0.6711 - val_loss: 0.5489 - val_accuracy: 0.6454\n",
            "Epoch 22/100\n",
            "172/172 [==============================] - 0s 3ms/step - loss: 0.5403 - accuracy: 0.6687 - val_loss: 0.5468 - val_accuracy: 0.6463\n",
            "Epoch 23/100\n",
            "172/172 [==============================] - 1s 3ms/step - loss: 0.5377 - accuracy: 0.6691 - val_loss: 0.5448 - val_accuracy: 0.6475\n",
            "Epoch 24/100\n",
            "172/172 [==============================] - 0s 3ms/step - loss: 0.5354 - accuracy: 0.6702 - val_loss: 0.5430 - val_accuracy: 0.6471\n",
            "Epoch 25/100\n",
            "172/172 [==============================] - 0s 3ms/step - loss: 0.5334 - accuracy: 0.6709 - val_loss: 0.5416 - val_accuracy: 0.6446\n",
            "Epoch 26/100\n",
            "172/172 [==============================] - 0s 3ms/step - loss: 0.5315 - accuracy: 0.6740 - val_loss: 0.5402 - val_accuracy: 0.6450\n",
            "Epoch 27/100\n",
            "172/172 [==============================] - 0s 3ms/step - loss: 0.5298 - accuracy: 0.6753 - val_loss: 0.5390 - val_accuracy: 0.6471\n",
            "Epoch 28/100\n",
            "172/172 [==============================] - 0s 2ms/step - loss: 0.5282 - accuracy: 0.6764 - val_loss: 0.5379 - val_accuracy: 0.6501\n",
            "Epoch 29/100\n",
            "172/172 [==============================] - 0s 2ms/step - loss: 0.5267 - accuracy: 0.6775 - val_loss: 0.5370 - val_accuracy: 0.6526\n",
            "Epoch 30/100\n",
            "172/172 [==============================] - 0s 3ms/step - loss: 0.5254 - accuracy: 0.6778 - val_loss: 0.5360 - val_accuracy: 0.6509\n",
            "Epoch 31/100\n",
            "172/172 [==============================] - 0s 3ms/step - loss: 0.5241 - accuracy: 0.6786 - val_loss: 0.5351 - val_accuracy: 0.6514\n",
            "Epoch 32/100\n",
            "172/172 [==============================] - 0s 2ms/step - loss: 0.5229 - accuracy: 0.6778 - val_loss: 0.5343 - val_accuracy: 0.6501\n",
            "Epoch 33/100\n",
            "172/172 [==============================] - 0s 3ms/step - loss: 0.5218 - accuracy: 0.6786 - val_loss: 0.5336 - val_accuracy: 0.6471\n",
            "Epoch 34/100\n",
            "172/172 [==============================] - 0s 3ms/step - loss: 0.5208 - accuracy: 0.6777 - val_loss: 0.5329 - val_accuracy: 0.6475\n",
            "Epoch 35/100\n",
            "172/172 [==============================] - 0s 3ms/step - loss: 0.5198 - accuracy: 0.6782 - val_loss: 0.5323 - val_accuracy: 0.6471\n",
            "Epoch 36/100\n",
            "172/172 [==============================] - 0s 3ms/step - loss: 0.5189 - accuracy: 0.6780 - val_loss: 0.5319 - val_accuracy: 0.6441\n",
            "Epoch 37/100\n",
            "172/172 [==============================] - 0s 3ms/step - loss: 0.5181 - accuracy: 0.6808 - val_loss: 0.5316 - val_accuracy: 0.6463\n",
            "Epoch 38/100\n",
            "172/172 [==============================] - 0s 3ms/step - loss: 0.5173 - accuracy: 0.6809 - val_loss: 0.5313 - val_accuracy: 0.6446\n",
            "Epoch 39/100\n",
            "172/172 [==============================] - 0s 3ms/step - loss: 0.5166 - accuracy: 0.6813 - val_loss: 0.5310 - val_accuracy: 0.6454\n",
            "Epoch 40/100\n",
            "172/172 [==============================] - 0s 2ms/step - loss: 0.5159 - accuracy: 0.6831 - val_loss: 0.5307 - val_accuracy: 0.6467\n",
            "Epoch 41/100\n",
            "172/172 [==============================] - 0s 3ms/step - loss: 0.5152 - accuracy: 0.6831 - val_loss: 0.5306 - val_accuracy: 0.6480\n",
            "Epoch 42/100\n",
            "172/172 [==============================] - 0s 2ms/step - loss: 0.5146 - accuracy: 0.6822 - val_loss: 0.5304 - val_accuracy: 0.6480\n",
            "Epoch 43/100\n",
            "172/172 [==============================] - 0s 2ms/step - loss: 0.5140 - accuracy: 0.6817 - val_loss: 0.5302 - val_accuracy: 0.6480\n",
            "Epoch 44/100\n",
            "172/172 [==============================] - 0s 3ms/step - loss: 0.5134 - accuracy: 0.6815 - val_loss: 0.5302 - val_accuracy: 0.6475\n",
            "Epoch 45/100\n",
            "172/172 [==============================] - 0s 3ms/step - loss: 0.5129 - accuracy: 0.6817 - val_loss: 0.5299 - val_accuracy: 0.6488\n",
            "Epoch 46/100\n",
            "172/172 [==============================] - 0s 2ms/step - loss: 0.5122 - accuracy: 0.6824 - val_loss: 0.5296 - val_accuracy: 0.6471\n",
            "Epoch 47/100\n",
            "172/172 [==============================] - 0s 2ms/step - loss: 0.5117 - accuracy: 0.6839 - val_loss: 0.5295 - val_accuracy: 0.6458\n",
            "Epoch 48/100\n",
            "172/172 [==============================] - 0s 3ms/step - loss: 0.5113 - accuracy: 0.6844 - val_loss: 0.5294 - val_accuracy: 0.6454\n",
            "Epoch 49/100\n",
            "172/172 [==============================] - 1s 3ms/step - loss: 0.5107 - accuracy: 0.6826 - val_loss: 0.5294 - val_accuracy: 0.6454\n",
            "Epoch 50/100\n",
            "172/172 [==============================] - 0s 3ms/step - loss: 0.5102 - accuracy: 0.6829 - val_loss: 0.5294 - val_accuracy: 0.6441\n",
            "Epoch 51/100\n",
            "172/172 [==============================] - 0s 3ms/step - loss: 0.5097 - accuracy: 0.6829 - val_loss: 0.5293 - val_accuracy: 0.6454\n",
            "Epoch 52/100\n",
            "172/172 [==============================] - 0s 3ms/step - loss: 0.5092 - accuracy: 0.6826 - val_loss: 0.5294 - val_accuracy: 0.6458\n",
            "Epoch 53/100\n",
            "172/172 [==============================] - 0s 2ms/step - loss: 0.5087 - accuracy: 0.6831 - val_loss: 0.5294 - val_accuracy: 0.6450\n",
            "Epoch 54/100\n",
            "172/172 [==============================] - 0s 2ms/step - loss: 0.5082 - accuracy: 0.6835 - val_loss: 0.5294 - val_accuracy: 0.6429\n",
            "Epoch 55/100\n",
            "172/172 [==============================] - 1s 3ms/step - loss: 0.5077 - accuracy: 0.6837 - val_loss: 0.5294 - val_accuracy: 0.6416\n",
            "Epoch 56/100\n",
            "172/172 [==============================] - 0s 3ms/step - loss: 0.5073 - accuracy: 0.6848 - val_loss: 0.5293 - val_accuracy: 0.6441\n",
            "Epoch 57/100\n",
            "172/172 [==============================] - 0s 3ms/step - loss: 0.5068 - accuracy: 0.6846 - val_loss: 0.5293 - val_accuracy: 0.6437\n",
            "Epoch 58/100\n",
            "172/172 [==============================] - 1s 3ms/step - loss: 0.5064 - accuracy: 0.6853 - val_loss: 0.5293 - val_accuracy: 0.6433\n",
            "Epoch 59/100\n",
            "172/172 [==============================] - 0s 3ms/step - loss: 0.5059 - accuracy: 0.6862 - val_loss: 0.5292 - val_accuracy: 0.6420\n",
            "Epoch 60/100\n",
            "172/172 [==============================] - 0s 3ms/step - loss: 0.5055 - accuracy: 0.6862 - val_loss: 0.5291 - val_accuracy: 0.6441\n",
            "Epoch 61/100\n",
            "172/172 [==============================] - 0s 3ms/step - loss: 0.5051 - accuracy: 0.6864 - val_loss: 0.5291 - val_accuracy: 0.6437\n",
            "Epoch 62/100\n",
            "172/172 [==============================] - 0s 2ms/step - loss: 0.5047 - accuracy: 0.6868 - val_loss: 0.5291 - val_accuracy: 0.6437\n",
            "Epoch 63/100\n",
            "172/172 [==============================] - 0s 2ms/step - loss: 0.5043 - accuracy: 0.6870 - val_loss: 0.5291 - val_accuracy: 0.6446\n",
            "Epoch 64/100\n",
            "172/172 [==============================] - 1s 3ms/step - loss: 0.5039 - accuracy: 0.6879 - val_loss: 0.5292 - val_accuracy: 0.6433\n",
            "Epoch 65/100\n",
            "172/172 [==============================] - 1s 3ms/step - loss: 0.5035 - accuracy: 0.6888 - val_loss: 0.5291 - val_accuracy: 0.6420\n",
            "Epoch 66/100\n",
            "172/172 [==============================] - 0s 2ms/step - loss: 0.5032 - accuracy: 0.6902 - val_loss: 0.5291 - val_accuracy: 0.6416\n",
            "Epoch 67/100\n",
            "172/172 [==============================] - 0s 2ms/step - loss: 0.5028 - accuracy: 0.6886 - val_loss: 0.5292 - val_accuracy: 0.6420\n",
            "Epoch 68/100\n",
            "172/172 [==============================] - 0s 2ms/step - loss: 0.5024 - accuracy: 0.6906 - val_loss: 0.5292 - val_accuracy: 0.6429\n",
            "Epoch 69/100\n",
            "172/172 [==============================] - 0s 2ms/step - loss: 0.5020 - accuracy: 0.6904 - val_loss: 0.5293 - val_accuracy: 0.6416\n",
            "Epoch 70/100\n",
            "172/172 [==============================] - 0s 3ms/step - loss: 0.5016 - accuracy: 0.6902 - val_loss: 0.5290 - val_accuracy: 0.6407\n",
            "Epoch 71/100\n",
            "172/172 [==============================] - 0s 3ms/step - loss: 0.5013 - accuracy: 0.6897 - val_loss: 0.5291 - val_accuracy: 0.6412\n",
            "Epoch 72/100\n",
            "172/172 [==============================] - 0s 3ms/step - loss: 0.5009 - accuracy: 0.6902 - val_loss: 0.5292 - val_accuracy: 0.6420\n",
            "Epoch 73/100\n",
            "172/172 [==============================] - 0s 2ms/step - loss: 0.5006 - accuracy: 0.6908 - val_loss: 0.5292 - val_accuracy: 0.6403\n",
            "Epoch 74/100\n",
            "172/172 [==============================] - 0s 3ms/step - loss: 0.5002 - accuracy: 0.6921 - val_loss: 0.5292 - val_accuracy: 0.6399\n",
            "Epoch 75/100\n",
            "172/172 [==============================] - 0s 3ms/step - loss: 0.4999 - accuracy: 0.6915 - val_loss: 0.5292 - val_accuracy: 0.6403\n",
            "Epoch 76/100\n",
            "172/172 [==============================] - 0s 3ms/step - loss: 0.4996 - accuracy: 0.6919 - val_loss: 0.5293 - val_accuracy: 0.6399\n",
            "Epoch 77/100\n",
            "172/172 [==============================] - 0s 3ms/step - loss: 0.4992 - accuracy: 0.6919 - val_loss: 0.5293 - val_accuracy: 0.6382\n",
            "Epoch 78/100\n",
            "172/172 [==============================] - 0s 3ms/step - loss: 0.4988 - accuracy: 0.6922 - val_loss: 0.5292 - val_accuracy: 0.6390\n",
            "Epoch 79/100\n",
            "172/172 [==============================] - 0s 3ms/step - loss: 0.4986 - accuracy: 0.6939 - val_loss: 0.5291 - val_accuracy: 0.6395\n",
            "Epoch 80/100\n",
            "172/172 [==============================] - 1s 3ms/step - loss: 0.4982 - accuracy: 0.6937 - val_loss: 0.5291 - val_accuracy: 0.6403\n",
            "Epoch 81/100\n",
            "172/172 [==============================] - 0s 3ms/step - loss: 0.4979 - accuracy: 0.6939 - val_loss: 0.5290 - val_accuracy: 0.6399\n",
            "Epoch 82/100\n",
            "172/172 [==============================] - 0s 3ms/step - loss: 0.4976 - accuracy: 0.6959 - val_loss: 0.5290 - val_accuracy: 0.6386\n",
            "Epoch 83/100\n",
            "172/172 [==============================] - 0s 3ms/step - loss: 0.4973 - accuracy: 0.6948 - val_loss: 0.5289 - val_accuracy: 0.6412\n",
            "Epoch 84/100\n",
            "172/172 [==============================] - 0s 3ms/step - loss: 0.4971 - accuracy: 0.6952 - val_loss: 0.5288 - val_accuracy: 0.6403\n",
            "Epoch 85/100\n",
            "172/172 [==============================] - 0s 2ms/step - loss: 0.4967 - accuracy: 0.6933 - val_loss: 0.5290 - val_accuracy: 0.6412\n",
            "Epoch 86/100\n",
            "172/172 [==============================] - 0s 2ms/step - loss: 0.4964 - accuracy: 0.6935 - val_loss: 0.5289 - val_accuracy: 0.6416\n",
            "Epoch 87/100\n",
            "172/172 [==============================] - 0s 3ms/step - loss: 0.4962 - accuracy: 0.6933 - val_loss: 0.5289 - val_accuracy: 0.6420\n",
            "Epoch 88/100\n",
            "172/172 [==============================] - 0s 2ms/step - loss: 0.4959 - accuracy: 0.6944 - val_loss: 0.5288 - val_accuracy: 0.6412\n",
            "Epoch 89/100\n",
            "172/172 [==============================] - 0s 2ms/step - loss: 0.4956 - accuracy: 0.6941 - val_loss: 0.5289 - val_accuracy: 0.6399\n",
            "Epoch 90/100\n",
            "172/172 [==============================] - 0s 3ms/step - loss: 0.4954 - accuracy: 0.6948 - val_loss: 0.5289 - val_accuracy: 0.6373\n",
            "Epoch 91/100\n",
            "172/172 [==============================] - 0s 3ms/step - loss: 0.4951 - accuracy: 0.6952 - val_loss: 0.5288 - val_accuracy: 0.6373\n",
            "Epoch 92/100\n",
            "172/172 [==============================] - 0s 3ms/step - loss: 0.4948 - accuracy: 0.6961 - val_loss: 0.5290 - val_accuracy: 0.6386\n",
            "Epoch 93/100\n",
            "172/172 [==============================] - 0s 2ms/step - loss: 0.4946 - accuracy: 0.6959 - val_loss: 0.5290 - val_accuracy: 0.6382\n",
            "Epoch 94/100\n",
            "172/172 [==============================] - 0s 2ms/step - loss: 0.4943 - accuracy: 0.6970 - val_loss: 0.5291 - val_accuracy: 0.6373\n",
            "Epoch 95/100\n",
            "172/172 [==============================] - 0s 3ms/step - loss: 0.4941 - accuracy: 0.6972 - val_loss: 0.5292 - val_accuracy: 0.6373\n",
            "Epoch 96/100\n",
            "172/172 [==============================] - 0s 3ms/step - loss: 0.4939 - accuracy: 0.6968 - val_loss: 0.5293 - val_accuracy: 0.6369\n",
            "Epoch 97/100\n",
            "172/172 [==============================] - 0s 3ms/step - loss: 0.4936 - accuracy: 0.6953 - val_loss: 0.5294 - val_accuracy: 0.6382\n",
            "Epoch 98/100\n",
            "172/172 [==============================] - 0s 2ms/step - loss: 0.4934 - accuracy: 0.6968 - val_loss: 0.5293 - val_accuracy: 0.6386\n",
            "Epoch 99/100\n",
            "172/172 [==============================] - 0s 2ms/step - loss: 0.4932 - accuracy: 0.6959 - val_loss: 0.5295 - val_accuracy: 0.6395\n",
            "Epoch 100/100\n",
            "172/172 [==============================] - 0s 3ms/step - loss: 0.4929 - accuracy: 0.6970 - val_loss: 0.5295 - val_accuracy: 0.6386\n"
          ]
        }
      ]
    },
    {
      "cell_type": "code",
      "source": [
        "loss, accuracy = model.evaluate(X_train, y_train, verbose=False)\n",
        "print(\"Precisión Entrenamiento: {:.4f}\".format(accuracy))\n",
        "loss, accuracy = model.evaluate(X_test, y_test, verbose=False)\n",
        "print(\"Precisión Prueba:  {:.4f}\".format(accuracy))"
      ],
      "metadata": {
        "colab": {
          "base_uri": "https://localhost:8080/"
        },
        "id": "Xrxc9-tF0zyI",
        "outputId": "e333d227-2d96-469b-9f0b-691567b403c3"
      },
      "execution_count": null,
      "outputs": [
        {
          "output_type": "stream",
          "name": "stdout",
          "text": [
            "Precisión Entrenamiento: 0.7032\n",
            "Precisión Prueba:  0.6386\n"
          ]
        }
      ]
    },
    {
      "cell_type": "code",
      "source": [
        "from matplotlib import pyplot\n",
        "from numpy import array\n",
        "# plot train and validation loss\n",
        "pyplot.plot(history.history['loss'])\n",
        "pyplot.plot(history.history['val_loss'])\n",
        "pyplot.title('model train vs validation loss')\n",
        "pyplot.ylabel('loss')\n",
        "pyplot.xlabel('epoch')\n",
        "pyplot.legend(['train', 'validation'], loc='upper right')\n",
        "pyplot.show()"
      ],
      "metadata": {
        "colab": {
          "base_uri": "https://localhost:8080/",
          "height": 295
        },
        "id": "a-wqYGpz027I",
        "outputId": "35aea84f-027f-4439-e46b-e9bdbcc6d786"
      },
      "execution_count": null,
      "outputs": [
        {
          "output_type": "display_data",
          "data": {
            "text/plain": [
              "<Figure size 432x288 with 1 Axes>"
            ],
            "image/png": "[encoded data removed]"
          },
          "metadata": {
            "needs_background": "light"
          }
        }
      ]
    },
    {
      "cell_type": "markdown",
      "source": [
        "# Generando el primer modelo optimizando los hiperparametros"
      ],
      "metadata": {
        "id": "VqTcEZBq1DMf"
      }
    },
    {
      "cell_type": "code",
      "source": [
        "!pip install keras-tuner"
      ],
      "metadata": {
        "colab": {
          "base_uri": "https://localhost:8080/"
        },
        "id": "RXiarNGO7Pim",
        "outputId": "13b23e10-1714-47e1-fc92-49fac9afe946"
      },
      "execution_count": null,
      "outputs": [
        {
          "output_type": "stream",
          "name": "stdout",
          "text": [
            "Looking in indexes: https://pypi.org/simple, https://us-python.pkg.dev/colab-wheels/public/simple/\n",
            "Collecting keras-tuner\n",
            "  Downloading keras_tuner-1.1.3-py3-none-any.whl (135 kB)\n",
            "\u001b[K     |████████████████████████████████| 135 kB 6.4 MB/s \n",
            "\u001b[?25hRequirement already satisfied: ipython in /usr/local/lib/python3.7/dist-packages (from keras-tuner) (7.9.0)\n",
            "Requirement already satisfied: requests in /usr/local/lib/python3.7/dist-packages (from keras-tuner) (2.23.0)\n",
            "Requirement already satisfied: tensorboard in /usr/local/lib/python3.7/dist-packages (from keras-tuner) (2.9.1)\n",
            "Collecting kt-legacy\n",
            "  Downloading kt_legacy-1.0.4-py3-none-any.whl (9.6 kB)\n",
            "Requirement already satisfied: numpy in /usr/local/lib/python3.7/dist-packages (from keras-tuner) (1.21.6)\n",
            "Requirement already satisfied: packaging in /usr/local/lib/python3.7/dist-packages (from keras-tuner) (21.3)\n",
            "Requirement already satisfied: backcall in /usr/local/lib/python3.7/dist-packages (from ipython->keras-tuner) (0.2.0)\n",
            "Requirement already satisfied: pickleshare in /usr/local/lib/python3.7/dist-packages (from ipython->keras-tuner) (0.7.5)\n",
            "Requirement already satisfied: pexpect in /usr/local/lib/python3.7/dist-packages (from ipython->keras-tuner) (4.8.0)\n",
            "Requirement already satisfied: decorator in /usr/local/lib/python3.7/dist-packages (from ipython->keras-tuner) (4.4.2)\n",
            "Requirement already satisfied: pygments in /usr/local/lib/python3.7/dist-packages (from ipython->keras-tuner) (2.6.1)\n",
            "Requirement already satisfied: prompt-toolkit<2.1.0,>=2.0.0 in /usr/local/lib/python3.7/dist-packages (from ipython->keras-tuner) (2.0.10)\n",
            "Collecting jedi>=0.10\n",
            "  Downloading jedi-0.18.1-py2.py3-none-any.whl (1.6 MB)\n",
            "\u001b[K     |████████████████████████████████| 1.6 MB 44.8 MB/s \n",
            "\u001b[?25hRequirement already satisfied: setuptools>=18.5 in /usr/local/lib/python3.7/dist-packages (from ipython->keras-tuner) (57.4.0)\n",
            "Requirement already satisfied: traitlets>=4.2 in /usr/local/lib/python3.7/dist-packages (from ipython->keras-tuner) (5.1.1)\n",
            "Requirement already satisfied: parso<0.9.0,>=0.8.0 in /usr/local/lib/python3.7/dist-packages (from jedi>=0.10->ipython->keras-tuner) (0.8.3)\n",
            "Requirement already satisfied: wcwidth in /usr/local/lib/python3.7/dist-packages (from prompt-toolkit<2.1.0,>=2.0.0->ipython->keras-tuner) (0.2.5)\n",
            "Requirement already satisfied: six>=1.9.0 in /usr/local/lib/python3.7/dist-packages (from prompt-toolkit<2.1.0,>=2.0.0->ipython->keras-tuner) (1.15.0)\n",
            "Requirement already satisfied: pyparsing!=3.0.5,>=2.0.2 in /usr/local/lib/python3.7/dist-packages (from packaging->keras-tuner) (3.0.9)\n",
            "Requirement already satisfied: ptyprocess>=0.5 in /usr/local/lib/python3.7/dist-packages (from pexpect->ipython->keras-tuner) (0.7.0)\n",
            "Requirement already satisfied: idna<3,>=2.5 in /usr/local/lib/python3.7/dist-packages (from requests->keras-tuner) (2.10)\n",
            "Requirement already satisfied: certifi>=2017.4.17 in /usr/local/lib/python3.7/dist-packages (from requests->keras-tuner) (2022.9.24)\n",
            "Requirement already satisfied: urllib3!=1.25.0,!=1.25.1,<1.26,>=1.21.1 in /usr/local/lib/python3.7/dist-packages (from requests->keras-tuner) (1.24.3)\n",
            "Requirement already satisfied: chardet<4,>=3.0.2 in /usr/local/lib/python3.7/dist-packages (from requests->keras-tuner) (3.0.4)\n",
            "Requirement already satisfied: google-auth-oauthlib<0.5,>=0.4.1 in /usr/local/lib/python3.7/dist-packages (from tensorboard->keras-tuner) (0.4.6)\n",
            "Requirement already satisfied: absl-py>=0.4 in /usr/local/lib/python3.7/dist-packages (from tensorboard->keras-tuner) (1.3.0)\n",
            "Requirement already satisfied: protobuf<3.20,>=3.9.2 in /usr/local/lib/python3.7/dist-packages (from tensorboard->keras-tuner) (3.19.6)\n",
            "Requirement already satisfied: tensorboard-data-server<0.7.0,>=0.6.0 in /usr/local/lib/python3.7/dist-packages (from tensorboard->keras-tuner) (0.6.1)\n",
            "Requirement already satisfied: werkzeug>=1.0.1 in /usr/local/lib/python3.7/dist-packages (from tensorboard->keras-tuner) (1.0.1)\n",
            "Requirement already satisfied: markdown>=2.6.8 in /usr/local/lib/python3.7/dist-packages (from tensorboard->keras-tuner) (3.4.1)\n",
            "Requirement already satisfied: wheel>=0.26 in /usr/local/lib/python3.7/dist-packages (from tensorboard->keras-tuner) (0.38.3)\n",
            "Requirement already satisfied: google-auth<3,>=1.6.3 in /usr/local/lib/python3.7/dist-packages (from tensorboard->keras-tuner) (2.14.1)\n",
            "Requirement already satisfied: grpcio>=1.24.3 in /usr/local/lib/python3.7/dist-packages (from tensorboard->keras-tuner) (1.50.0)\n",
            "Requirement already satisfied: tensorboard-plugin-wit>=1.6.0 in /usr/local/lib/python3.7/dist-packages (from tensorboard->keras-tuner) (1.8.1)\n",
            "Requirement already satisfied: cachetools<6.0,>=2.0.0 in /usr/local/lib/python3.7/dist-packages (from google-auth<3,>=1.6.3->tensorboard->keras-tuner) (5.2.0)\n",
            "Requirement already satisfied: rsa<5,>=3.1.4 in /usr/local/lib/python3.7/dist-packages (from google-auth<3,>=1.6.3->tensorboard->keras-tuner) (4.9)\n",
            "Requirement already satisfied: pyasn1-modules>=0.2.1 in /usr/local/lib/python3.7/dist-packages (from google-auth<3,>=1.6.3->tensorboard->keras-tuner) (0.2.8)\n",
            "Requirement already satisfied: requests-oauthlib>=0.7.0 in /usr/local/lib/python3.7/dist-packages (from google-auth-oauthlib<0.5,>=0.4.1->tensorboard->keras-tuner) (1.3.1)\n",
            "Requirement already satisfied: importlib-metadata>=4.4 in /usr/local/lib/python3.7/dist-packages (from markdown>=2.6.8->tensorboard->keras-tuner) (4.13.0)\n",
            "Requirement already satisfied: zipp>=0.5 in /usr/local/lib/python3.7/dist-packages (from importlib-metadata>=4.4->markdown>=2.6.8->tensorboard->keras-tuner) (3.10.0)\n",
            "Requirement already satisfied: typing-extensions>=3.6.4 in /usr/local/lib/python3.7/dist-packages (from importlib-metadata>=4.4->markdown>=2.6.8->tensorboard->keras-tuner) (4.1.1)\n",
            "Requirement already satisfied: pyasn1<0.5.0,>=0.4.6 in /usr/local/lib/python3.7/dist-packages (from pyasn1-modules>=0.2.1->google-auth<3,>=1.6.3->tensorboard->keras-tuner) (0.4.8)\n",
            "Requirement already satisfied: oauthlib>=3.0.0 in /usr/local/lib/python3.7/dist-packages (from requests-oauthlib>=0.7.0->google-auth-oauthlib<0.5,>=0.4.1->tensorboard->keras-tuner) (3.2.2)\n",
            "Installing collected packages: jedi, kt-legacy, keras-tuner\n",
            "Successfully installed jedi-0.18.1 keras-tuner-1.1.3 kt-legacy-1.0.4\n"
          ]
        }
      ]
    },
    {
      "cell_type": "code",
      "source": [
        "#Destroy Old Oracle\n",
        "!rm -rf tuning-mlp"
      ],
      "metadata": {
        "id": "JTxzF1F18SJt"
      },
      "execution_count": null,
      "outputs": []
    },
    {
      "cell_type": "code",
      "source": [
        "import tensorflow as tf\n",
        "import pandas as pd\n",
        "import numpy as np\n",
        "import matplotlib.pyplot as plt\n",
        "from sklearn.model_selection import train_test_split\n",
        "from tensorflow.keras import backend as K \n",
        "from tensorflow.keras.layers import Input, Dense, Conv2D, MaxPooling2D,Flatten, Dropout \n",
        "from tensorflow.keras.models import Model, Sequential \n",
        "from tensorflow.keras.optimizers import SGD, RMSprop, Adam\n",
        "from tensorflow.keras.utils import to_categorical\n",
        "from tensorflow.random import set_seed\n",
        "from tensorflow.keras.callbacks import EarlyStopping, ModelCheckpoint, ReduceLROnPlateau\n",
        "from sklearn.metrics import confusion_matrix\n",
        "from sklearn.utils.multiclass import unique_labels\n",
        "import pickle\n",
        "import kerastuner as kt"
      ],
      "metadata": {
        "colab": {
          "base_uri": "https://localhost:8080/"
        },
        "id": "BMD2UH2K-IO0",
        "outputId": "cf8184e3-64d1-48d6-d1a5-d6668f246f11"
      },
      "execution_count": null,
      "outputs": [
        {
          "output_type": "stream",
          "name": "stderr",
          "text": [
            "/usr/local/lib/python3.7/dist-packages/ipykernel_launcher.py:16: DeprecationWarning: `import kerastuner` is deprecated, please use `import keras_tuner`.\n",
            "  app.launch_new_instance()\n"
          ]
        }
      ]
    },
    {
      "cell_type": "code",
      "source": [
        "### Tunable Model\n",
        "def mlp_model_builder(hp):\n",
        "  model = Sequential()\n",
        " \n",
        "  \n",
        "  model.add(Dense(units = hp.Int('dense-bot', min_value=1, max_value=25, step=16), input_shape=(20,), activation='relu'))\n",
        "  for i in range(hp.Int('num_dense_layers', 1, 2)):\n",
        "    model.add(Dense(units=hp.Int('dense_' + str(i), min_value=50, max_value=100, step=25), activation='relu'))\n",
        "    model.add(Dropout(hp.Choice('dropout_'+ str(i), values=[0.0, 0.1, 0.2])))\n",
        "  model.add(Dense(3,activation=\"softmax\"))\n",
        "\n",
        "  hp_optimizer=hp.Choice('Optimizer', values=['Adam', 'SGD'])\n",
        "\n",
        "  if hp_optimizer == 'Adam':\n",
        "      hp_learning_rate = hp.Choice('learning_rate', values=[1e-1, 1e-2, 1e-3])\n",
        "  elif hp_optimizer == 'SGD':\n",
        "      hp_learning_rate = hp.Choice('learning_rate', values=[1e-1, 1e-2, 1e-3])\n",
        "      nesterov=True\n",
        "      momentum=0.9\n",
        "\n",
        "  model.compile( optimizer=hp_optimizer,loss='categorical_crossentropy', metrics=['accuracy'])\n",
        "  return model"
      ],
      "metadata": {
        "id": "bKnQH0Um09__"
      },
      "execution_count": null,
      "outputs": []
    },
    {
      "cell_type": "code",
      "source": [
        "# set random seed\n",
        "random_seed = 8\n",
        "tf.random.set_seed = random_seed\n",
        "np.random.seed(random_seed)"
      ],
      "metadata": {
        "id": "W0Fda4Jc-crr"
      },
      "execution_count": null,
      "outputs": []
    },
    {
      "cell_type": "code",
      "source": [
        "# Overload arguments with our custom metric.\n",
        "tuner_mlp = kt.tuners.BayesianOptimization(\n",
        "    mlp_model_builder,\n",
        "    seed=random_seed,\n",
        "    objective='val_loss',\n",
        "    max_trials=30,\n",
        "    directory='.',\n",
        "    project_name='tuning-mlp')"
      ],
      "metadata": {
        "id": "9leiCzmA-Ort"
      },
      "execution_count": null,
      "outputs": []
    },
    {
      "cell_type": "code",
      "source": [
        "### Search Space \n",
        "tuner_mlp.search(X_train, y_train, epochs=100, batch_size=32, validation_data=(X_test, y_test), shuffle=False)"
      ],
      "metadata": {
        "colab": {
          "base_uri": "https://localhost:8080/"
        },
        "id": "k1CzNxXx-frc",
        "outputId": "1cd94429-09bd-4f9b-dca9-4a66206e1555"
      },
      "execution_count": null,
      "outputs": [
        {
          "output_type": "stream",
          "name": "stdout",
          "text": [
            "Trial 30 Complete [00h 01m 23s]\n",
            "val_loss: 0.5317756533622742\n",
            "\n",
            "Best val_loss So Far: 0.5106295943260193\n",
            "Total elapsed time: 00h 36m 17s\n"
          ]
        }
      ]
    },
    {
      "cell_type": "code",
      "source": [
        "best_mlp_hyperparameters = tuner_mlp.get_best_hyperparameters(1)[0]\n",
        "print(\"Best Hyper-parameters\")\n",
        "best_mlp_hyperparameters.values"
      ],
      "metadata": {
        "colab": {
          "base_uri": "https://localhost:8080/"
        },
        "id": "bl7iMuCg-oSg",
        "outputId": "16a23347-0d08-4f7d-b5cc-c19f43d85455"
      },
      "execution_count": null,
      "outputs": [
        {
          "output_type": "stream",
          "name": "stdout",
          "text": [
            "Best Hyper-parameters\n"
          ]
        },
        {
          "output_type": "execute_result",
          "data": {
            "text/plain": [
              "{'dense-bot': 17,\n",
              " 'num_dense_layers': 2,\n",
              " 'dense_0': 50,\n",
              " 'dropout_0': 0.2,\n",
              " 'Optimizer': 'Adam',\n",
              " 'learning_rate': 0.001,\n",
              " 'dense_1': 100,\n",
              " 'dropout_1': 0.0}"
            ]
          },
          "metadata": {},
          "execution_count": 43
        }
      ]
    },
    {
      "cell_type": "code",
      "source": [
        "model_mlp = Sequential()\n",
        "model_mlp.add(Dense(best_mlp_hyperparameters['dense-bot'], input_shape=(20,), activation='relu'))\n",
        "for i in range(best_mlp_hyperparameters['num_dense_layers']):\n",
        "  model_mlp.add(Dense(units=best_mlp_hyperparameters['dense_' +str(i)], activation='relu'))\n",
        "  model_mlp.add(Dropout(rate=best_mlp_hyperparameters['dropout_' +str(i)]))\n",
        "model_mlp.add(Dense(3,activation=\"softmax\"))\n",
        "\n",
        "model_mlp.compile(optimizer=best_mlp_hyperparameters['Optimizer'], \n",
        "                                                 loss='categorical_crossentropy', \n",
        "                                                 metrics=['accuracy'])\n",
        "history_mlp= model_mlp.fit(X_train, y_train, epochs=100, batch_size=32, validation_data=(X_test, y_test), shuffle=False)"
      ],
      "metadata": {
        "colab": {
          "base_uri": "https://localhost:8080/"
        },
        "id": "n_Onw5RVIOcD",
        "outputId": "a56834eb-6565-4ada-f428-a4b9b2d8e8b6"
      },
      "execution_count": null,
      "outputs": [
        {
          "output_type": "stream",
          "name": "stdout",
          "text": [
            "Epoch 1/100\n",
            "172/172 [==============================] - 1s 4ms/step - loss: 0.9112 - accuracy: 0.4971 - val_loss: 0.6849 - val_accuracy: 0.6093\n",
            "Epoch 2/100\n",
            "172/172 [==============================] - 1s 3ms/step - loss: 0.6689 - accuracy: 0.6115 - val_loss: 0.6200 - val_accuracy: 0.6284\n",
            "Epoch 3/100\n",
            "172/172 [==============================] - 1s 4ms/step - loss: 0.6318 - accuracy: 0.6217 - val_loss: 0.5998 - val_accuracy: 0.6233\n",
            "Epoch 4/100\n",
            "172/172 [==============================] - 1s 4ms/step - loss: 0.6098 - accuracy: 0.6226 - val_loss: 0.5835 - val_accuracy: 0.6378\n",
            "Epoch 5/100\n",
            "172/172 [==============================] - 1s 4ms/step - loss: 0.5896 - accuracy: 0.6306 - val_loss: 0.5720 - val_accuracy: 0.6314\n",
            "Epoch 6/100\n",
            "172/172 [==============================] - 1s 4ms/step - loss: 0.5751 - accuracy: 0.6383 - val_loss: 0.5595 - val_accuracy: 0.6424\n",
            "Epoch 7/100\n",
            "172/172 [==============================] - 1s 4ms/step - loss: 0.5609 - accuracy: 0.6498 - val_loss: 0.5504 - val_accuracy: 0.6514\n",
            "Epoch 8/100\n",
            "172/172 [==============================] - 1s 3ms/step - loss: 0.5455 - accuracy: 0.6587 - val_loss: 0.5398 - val_accuracy: 0.6446\n",
            "Epoch 9/100\n",
            "172/172 [==============================] - 1s 3ms/step - loss: 0.5340 - accuracy: 0.6625 - val_loss: 0.5311 - val_accuracy: 0.6509\n",
            "Epoch 10/100\n",
            "172/172 [==============================] - 1s 3ms/step - loss: 0.5290 - accuracy: 0.6640 - val_loss: 0.5224 - val_accuracy: 0.6535\n",
            "Epoch 11/100\n",
            "172/172 [==============================] - 1s 4ms/step - loss: 0.5194 - accuracy: 0.6696 - val_loss: 0.5184 - val_accuracy: 0.6424\n",
            "Epoch 12/100\n",
            "172/172 [==============================] - 1s 4ms/step - loss: 0.5142 - accuracy: 0.6680 - val_loss: 0.5128 - val_accuracy: 0.6582\n",
            "Epoch 13/100\n",
            "172/172 [==============================] - 1s 4ms/step - loss: 0.5090 - accuracy: 0.6798 - val_loss: 0.5118 - val_accuracy: 0.6552\n",
            "Epoch 14/100\n",
            "172/172 [==============================] - 1s 3ms/step - loss: 0.5044 - accuracy: 0.6757 - val_loss: 0.5118 - val_accuracy: 0.6535\n",
            "Epoch 15/100\n",
            "172/172 [==============================] - 1s 4ms/step - loss: 0.4993 - accuracy: 0.6804 - val_loss: 0.5092 - val_accuracy: 0.6501\n",
            "Epoch 16/100\n",
            "172/172 [==============================] - 1s 4ms/step - loss: 0.5000 - accuracy: 0.6786 - val_loss: 0.5089 - val_accuracy: 0.6480\n",
            "Epoch 17/100\n",
            "172/172 [==============================] - 1s 3ms/step - loss: 0.4966 - accuracy: 0.6815 - val_loss: 0.5096 - val_accuracy: 0.6543\n",
            "Epoch 18/100\n",
            "172/172 [==============================] - 1s 3ms/step - loss: 0.4946 - accuracy: 0.6839 - val_loss: 0.5079 - val_accuracy: 0.6522\n",
            "Epoch 19/100\n",
            "172/172 [==============================] - 1s 3ms/step - loss: 0.4912 - accuracy: 0.6902 - val_loss: 0.5093 - val_accuracy: 0.6535\n",
            "Epoch 20/100\n",
            "172/172 [==============================] - 1s 3ms/step - loss: 0.4937 - accuracy: 0.6786 - val_loss: 0.5086 - val_accuracy: 0.6518\n",
            "Epoch 21/100\n",
            "172/172 [==============================] - 1s 3ms/step - loss: 0.4915 - accuracy: 0.6875 - val_loss: 0.5086 - val_accuracy: 0.6514\n",
            "Epoch 22/100\n",
            "172/172 [==============================] - 1s 4ms/step - loss: 0.4882 - accuracy: 0.6882 - val_loss: 0.5061 - val_accuracy: 0.6531\n",
            "Epoch 23/100\n",
            "172/172 [==============================] - 1s 4ms/step - loss: 0.4911 - accuracy: 0.6855 - val_loss: 0.5092 - val_accuracy: 0.6582\n",
            "Epoch 24/100\n",
            "172/172 [==============================] - 1s 4ms/step - loss: 0.4888 - accuracy: 0.6853 - val_loss: 0.5055 - val_accuracy: 0.6531\n",
            "Epoch 25/100\n",
            "172/172 [==============================] - 1s 4ms/step - loss: 0.4857 - accuracy: 0.6884 - val_loss: 0.5088 - val_accuracy: 0.6518\n",
            "Epoch 26/100\n",
            "172/172 [==============================] - 1s 4ms/step - loss: 0.4850 - accuracy: 0.6950 - val_loss: 0.5081 - val_accuracy: 0.6531\n",
            "Epoch 27/100\n",
            "172/172 [==============================] - 1s 4ms/step - loss: 0.4846 - accuracy: 0.6868 - val_loss: 0.5098 - val_accuracy: 0.6484\n",
            "Epoch 28/100\n",
            "172/172 [==============================] - 1s 4ms/step - loss: 0.4837 - accuracy: 0.6906 - val_loss: 0.5104 - val_accuracy: 0.6454\n",
            "Epoch 29/100\n",
            "172/172 [==============================] - 1s 4ms/step - loss: 0.4784 - accuracy: 0.6950 - val_loss: 0.5120 - val_accuracy: 0.6514\n",
            "Epoch 30/100\n",
            "172/172 [==============================] - 1s 4ms/step - loss: 0.4805 - accuracy: 0.6988 - val_loss: 0.5117 - val_accuracy: 0.6488\n",
            "Epoch 31/100\n",
            "172/172 [==============================] - 1s 4ms/step - loss: 0.4807 - accuracy: 0.6952 - val_loss: 0.5124 - val_accuracy: 0.6531\n",
            "Epoch 32/100\n",
            "172/172 [==============================] - 1s 4ms/step - loss: 0.4808 - accuracy: 0.6915 - val_loss: 0.5119 - val_accuracy: 0.6488\n",
            "Epoch 33/100\n",
            "172/172 [==============================] - 1s 5ms/step - loss: 0.4775 - accuracy: 0.6966 - val_loss: 0.5136 - val_accuracy: 0.6573\n",
            "Epoch 34/100\n",
            "172/172 [==============================] - 1s 4ms/step - loss: 0.4790 - accuracy: 0.6933 - val_loss: 0.5103 - val_accuracy: 0.6586\n",
            "Epoch 35/100\n",
            "172/172 [==============================] - 1s 4ms/step - loss: 0.4756 - accuracy: 0.7024 - val_loss: 0.5136 - val_accuracy: 0.6552\n",
            "Epoch 36/100\n",
            "172/172 [==============================] - 1s 4ms/step - loss: 0.4782 - accuracy: 0.6983 - val_loss: 0.5141 - val_accuracy: 0.6505\n",
            "Epoch 37/100\n",
            "172/172 [==============================] - 1s 4ms/step - loss: 0.4752 - accuracy: 0.6990 - val_loss: 0.5133 - val_accuracy: 0.6539\n",
            "Epoch 38/100\n",
            "172/172 [==============================] - 1s 4ms/step - loss: 0.4709 - accuracy: 0.7065 - val_loss: 0.5204 - val_accuracy: 0.6573\n",
            "Epoch 39/100\n",
            "172/172 [==============================] - 1s 4ms/step - loss: 0.4736 - accuracy: 0.7019 - val_loss: 0.5185 - val_accuracy: 0.6416\n",
            "Epoch 40/100\n",
            "172/172 [==============================] - 1s 4ms/step - loss: 0.4725 - accuracy: 0.7066 - val_loss: 0.5204 - val_accuracy: 0.6539\n",
            "Epoch 41/100\n",
            "172/172 [==============================] - 1s 3ms/step - loss: 0.4727 - accuracy: 0.6995 - val_loss: 0.5294 - val_accuracy: 0.6505\n",
            "Epoch 42/100\n",
            "172/172 [==============================] - 1s 4ms/step - loss: 0.4742 - accuracy: 0.7010 - val_loss: 0.5187 - val_accuracy: 0.6484\n",
            "Epoch 43/100\n",
            "172/172 [==============================] - 1s 3ms/step - loss: 0.4705 - accuracy: 0.7032 - val_loss: 0.5252 - val_accuracy: 0.6556\n",
            "Epoch 44/100\n",
            "172/172 [==============================] - 1s 3ms/step - loss: 0.4692 - accuracy: 0.7028 - val_loss: 0.5222 - val_accuracy: 0.6514\n",
            "Epoch 45/100\n",
            "172/172 [==============================] - 1s 4ms/step - loss: 0.4696 - accuracy: 0.7035 - val_loss: 0.5217 - val_accuracy: 0.6501\n",
            "Epoch 46/100\n",
            "172/172 [==============================] - 1s 4ms/step - loss: 0.4697 - accuracy: 0.7050 - val_loss: 0.5245 - val_accuracy: 0.6475\n",
            "Epoch 47/100\n",
            "172/172 [==============================] - 1s 3ms/step - loss: 0.4685 - accuracy: 0.7139 - val_loss: 0.5216 - val_accuracy: 0.6552\n",
            "Epoch 48/100\n",
            "172/172 [==============================] - 1s 3ms/step - loss: 0.4685 - accuracy: 0.7139 - val_loss: 0.5273 - val_accuracy: 0.6480\n",
            "Epoch 49/100\n",
            "172/172 [==============================] - 1s 3ms/step - loss: 0.4666 - accuracy: 0.7037 - val_loss: 0.5300 - val_accuracy: 0.6531\n",
            "Epoch 50/100\n",
            "172/172 [==============================] - 1s 4ms/step - loss: 0.4645 - accuracy: 0.7154 - val_loss: 0.5312 - val_accuracy: 0.6603\n",
            "Epoch 51/100\n",
            "172/172 [==============================] - 1s 4ms/step - loss: 0.4681 - accuracy: 0.7083 - val_loss: 0.5280 - val_accuracy: 0.6577\n",
            "Epoch 52/100\n",
            "172/172 [==============================] - 1s 4ms/step - loss: 0.4664 - accuracy: 0.7136 - val_loss: 0.5260 - val_accuracy: 0.6582\n",
            "Epoch 53/100\n",
            "172/172 [==============================] - 1s 4ms/step - loss: 0.4632 - accuracy: 0.7170 - val_loss: 0.5310 - val_accuracy: 0.6552\n",
            "Epoch 54/100\n",
            "172/172 [==============================] - 1s 4ms/step - loss: 0.4622 - accuracy: 0.7165 - val_loss: 0.5308 - val_accuracy: 0.6509\n",
            "Epoch 55/100\n",
            "172/172 [==============================] - 1s 4ms/step - loss: 0.4620 - accuracy: 0.7121 - val_loss: 0.5303 - val_accuracy: 0.6497\n",
            "Epoch 56/100\n",
            "172/172 [==============================] - 1s 4ms/step - loss: 0.4635 - accuracy: 0.7143 - val_loss: 0.5327 - val_accuracy: 0.6522\n",
            "Epoch 57/100\n",
            "172/172 [==============================] - 1s 4ms/step - loss: 0.4617 - accuracy: 0.7198 - val_loss: 0.5368 - val_accuracy: 0.6603\n",
            "Epoch 58/100\n",
            "172/172 [==============================] - 1s 3ms/step - loss: 0.4633 - accuracy: 0.7179 - val_loss: 0.5377 - val_accuracy: 0.6548\n",
            "Epoch 59/100\n",
            "172/172 [==============================] - 1s 3ms/step - loss: 0.4608 - accuracy: 0.7167 - val_loss: 0.5385 - val_accuracy: 0.6518\n",
            "Epoch 60/100\n",
            "172/172 [==============================] - 1s 3ms/step - loss: 0.4646 - accuracy: 0.7125 - val_loss: 0.5356 - val_accuracy: 0.6590\n",
            "Epoch 61/100\n",
            "172/172 [==============================] - 1s 4ms/step - loss: 0.4587 - accuracy: 0.7254 - val_loss: 0.5394 - val_accuracy: 0.6509\n",
            "Epoch 62/100\n",
            "172/172 [==============================] - 1s 3ms/step - loss: 0.4581 - accuracy: 0.7203 - val_loss: 0.5388 - val_accuracy: 0.6522\n",
            "Epoch 63/100\n",
            "172/172 [==============================] - 1s 4ms/step - loss: 0.4533 - accuracy: 0.7294 - val_loss: 0.5481 - val_accuracy: 0.6556\n",
            "Epoch 64/100\n",
            "172/172 [==============================] - 1s 3ms/step - loss: 0.4560 - accuracy: 0.7227 - val_loss: 0.5460 - val_accuracy: 0.6552\n",
            "Epoch 65/100\n",
            "172/172 [==============================] - 1s 3ms/step - loss: 0.4561 - accuracy: 0.7199 - val_loss: 0.5472 - val_accuracy: 0.6552\n",
            "Epoch 66/100\n",
            "172/172 [==============================] - 1s 3ms/step - loss: 0.4590 - accuracy: 0.7230 - val_loss: 0.5480 - val_accuracy: 0.6633\n",
            "Epoch 67/100\n",
            "172/172 [==============================] - 1s 4ms/step - loss: 0.4567 - accuracy: 0.7254 - val_loss: 0.5443 - val_accuracy: 0.6505\n",
            "Epoch 68/100\n",
            "172/172 [==============================] - 1s 4ms/step - loss: 0.4511 - accuracy: 0.7283 - val_loss: 0.5492 - val_accuracy: 0.6497\n",
            "Epoch 69/100\n",
            "172/172 [==============================] - 1s 4ms/step - loss: 0.4530 - accuracy: 0.7261 - val_loss: 0.5530 - val_accuracy: 0.6475\n",
            "Epoch 70/100\n",
            "172/172 [==============================] - 1s 3ms/step - loss: 0.4507 - accuracy: 0.7287 - val_loss: 0.5582 - val_accuracy: 0.6467\n",
            "Epoch 71/100\n",
            "172/172 [==============================] - 1s 3ms/step - loss: 0.4541 - accuracy: 0.7267 - val_loss: 0.5528 - val_accuracy: 0.6509\n",
            "Epoch 72/100\n",
            "172/172 [==============================] - 1s 3ms/step - loss: 0.4517 - accuracy: 0.7241 - val_loss: 0.5496 - val_accuracy: 0.6518\n",
            "Epoch 73/100\n",
            "172/172 [==============================] - 1s 4ms/step - loss: 0.4506 - accuracy: 0.7270 - val_loss: 0.5526 - val_accuracy: 0.6484\n",
            "Epoch 74/100\n",
            "172/172 [==============================] - 1s 4ms/step - loss: 0.4504 - accuracy: 0.7351 - val_loss: 0.5606 - val_accuracy: 0.6492\n",
            "Epoch 75/100\n",
            "172/172 [==============================] - 1s 4ms/step - loss: 0.4481 - accuracy: 0.7312 - val_loss: 0.5646 - val_accuracy: 0.6505\n",
            "Epoch 76/100\n",
            "172/172 [==============================] - 1s 3ms/step - loss: 0.4493 - accuracy: 0.7343 - val_loss: 0.5636 - val_accuracy: 0.6467\n",
            "Epoch 77/100\n",
            "172/172 [==============================] - 1s 4ms/step - loss: 0.4493 - accuracy: 0.7341 - val_loss: 0.5647 - val_accuracy: 0.6484\n",
            "Epoch 78/100\n",
            "172/172 [==============================] - 1s 3ms/step - loss: 0.4465 - accuracy: 0.7327 - val_loss: 0.5719 - val_accuracy: 0.6450\n",
            "Epoch 79/100\n",
            "172/172 [==============================] - 1s 3ms/step - loss: 0.4454 - accuracy: 0.7332 - val_loss: 0.5667 - val_accuracy: 0.6535\n",
            "Epoch 80/100\n",
            "172/172 [==============================] - 1s 3ms/step - loss: 0.4486 - accuracy: 0.7327 - val_loss: 0.5646 - val_accuracy: 0.6548\n",
            "Epoch 81/100\n",
            "172/172 [==============================] - 1s 3ms/step - loss: 0.4474 - accuracy: 0.7392 - val_loss: 0.5740 - val_accuracy: 0.6518\n",
            "Epoch 82/100\n",
            "172/172 [==============================] - 1s 4ms/step - loss: 0.4437 - accuracy: 0.7336 - val_loss: 0.5740 - val_accuracy: 0.6505\n",
            "Epoch 83/100\n",
            "172/172 [==============================] - 1s 4ms/step - loss: 0.4464 - accuracy: 0.7338 - val_loss: 0.5842 - val_accuracy: 0.6526\n",
            "Epoch 84/100\n",
            "172/172 [==============================] - 1s 3ms/step - loss: 0.4407 - accuracy: 0.7351 - val_loss: 0.5740 - val_accuracy: 0.6603\n",
            "Epoch 85/100\n",
            "172/172 [==============================] - 1s 3ms/step - loss: 0.4451 - accuracy: 0.7398 - val_loss: 0.5786 - val_accuracy: 0.6526\n",
            "Epoch 86/100\n",
            "172/172 [==============================] - 1s 3ms/step - loss: 0.4425 - accuracy: 0.7378 - val_loss: 0.5850 - val_accuracy: 0.6552\n",
            "Epoch 87/100\n",
            "172/172 [==============================] - 1s 4ms/step - loss: 0.4451 - accuracy: 0.7332 - val_loss: 0.5799 - val_accuracy: 0.6518\n",
            "Epoch 88/100\n",
            "172/172 [==============================] - 1s 4ms/step - loss: 0.4445 - accuracy: 0.7363 - val_loss: 0.5794 - val_accuracy: 0.6522\n",
            "Epoch 89/100\n",
            "172/172 [==============================] - 1s 3ms/step - loss: 0.4395 - accuracy: 0.7480 - val_loss: 0.5772 - val_accuracy: 0.6522\n",
            "Epoch 90/100\n",
            "172/172 [==============================] - 1s 3ms/step - loss: 0.4378 - accuracy: 0.7374 - val_loss: 0.5850 - val_accuracy: 0.6543\n",
            "Epoch 91/100\n",
            "172/172 [==============================] - 1s 3ms/step - loss: 0.4424 - accuracy: 0.7374 - val_loss: 0.5860 - val_accuracy: 0.6535\n",
            "Epoch 92/100\n",
            "172/172 [==============================] - 1s 3ms/step - loss: 0.4388 - accuracy: 0.7409 - val_loss: 0.5927 - val_accuracy: 0.6437\n",
            "Epoch 93/100\n",
            "172/172 [==============================] - 1s 3ms/step - loss: 0.4386 - accuracy: 0.7436 - val_loss: 0.5878 - val_accuracy: 0.6463\n",
            "Epoch 94/100\n",
            "172/172 [==============================] - 1s 4ms/step - loss: 0.4395 - accuracy: 0.7438 - val_loss: 0.5976 - val_accuracy: 0.6437\n",
            "Epoch 95/100\n",
            "172/172 [==============================] - 1s 4ms/step - loss: 0.4422 - accuracy: 0.7434 - val_loss: 0.5803 - val_accuracy: 0.6535\n",
            "Epoch 96/100\n",
            "172/172 [==============================] - 1s 3ms/step - loss: 0.4388 - accuracy: 0.7411 - val_loss: 0.5810 - val_accuracy: 0.6492\n",
            "Epoch 97/100\n",
            "172/172 [==============================] - 1s 3ms/step - loss: 0.4384 - accuracy: 0.7400 - val_loss: 0.5847 - val_accuracy: 0.6454\n",
            "Epoch 98/100\n",
            "172/172 [==============================] - 1s 3ms/step - loss: 0.4369 - accuracy: 0.7438 - val_loss: 0.5919 - val_accuracy: 0.6454\n",
            "Epoch 99/100\n",
            "172/172 [==============================] - 1s 4ms/step - loss: 0.4357 - accuracy: 0.7409 - val_loss: 0.5919 - val_accuracy: 0.6450\n",
            "Epoch 100/100\n",
            "172/172 [==============================] - 1s 4ms/step - loss: 0.4447 - accuracy: 0.7405 - val_loss: 0.5967 - val_accuracy: 0.6369\n"
          ]
        }
      ]
    },
    {
      "cell_type": "code",
      "source": [
        "loss, accuracy = model.evaluate(X_train, y_train, verbose=False)\n",
        "print(\"Precisión Entrenamiento: {:.4f}\".format(accuracy))\n",
        "loss, accuracy = model.evaluate(X_test, y_test, verbose=False)\n",
        "print(\"Precisión Prueba:  {:.4f}\".format(accuracy))"
      ],
      "metadata": {
        "colab": {
          "base_uri": "https://localhost:8080/"
        },
        "id": "1y4w7VVZIOkD",
        "outputId": "9b548f83-e6f7-4899-9849-3a016d3f7c21"
      },
      "execution_count": null,
      "outputs": [
        {
          "output_type": "stream",
          "name": "stdout",
          "text": [
            "Precisión Entrenamiento: 0.7032\n",
            "Precisión Prueba:  0.6386\n"
          ]
        }
      ]
    },
    {
      "cell_type": "code",
      "source": [
        "print(model_mlp.summary())"
      ],
      "metadata": {
        "colab": {
          "base_uri": "https://localhost:8080/"
        },
        "id": "kT3Oemx4IOng",
        "outputId": "da25a89b-e5e7-46f2-bf0c-19835b468ccb"
      },
      "execution_count": null,
      "outputs": [
        {
          "output_type": "stream",
          "name": "stdout",
          "text": [
            "Model: \"sequential_1\"\n",
            "_________________________________________________________________\n",
            " Layer (type)                Output Shape              Param #   \n",
            "=================================================================\n",
            " dense_3 (Dense)             (None, 17)                357       \n",
            "                                                                 \n",
            " dense_4 (Dense)             (None, 50)                900       \n",
            "                                                                 \n",
            " dropout_1 (Dropout)         (None, 50)                0         \n",
            "                                                                 \n",
            " dense_5 (Dense)             (None, 100)               5100      \n",
            "                                                                 \n",
            " dropout_2 (Dropout)         (None, 100)               0         \n",
            "                                                                 \n",
            " dense_6 (Dense)             (None, 3)                 303       \n",
            "                                                                 \n",
            "=================================================================\n",
            "Total params: 6,660\n",
            "Trainable params: 6,660\n",
            "Non-trainable params: 0\n",
            "_________________________________________________________________\n",
            "None\n"
          ]
        }
      ]
    },
    {
      "cell_type": "code",
      "source": [
        "import matplotlib.pyplot as plt"
      ],
      "metadata": {
        "id": "VoeZQTkDKWoQ"
      },
      "execution_count": null,
      "outputs": []
    },
    {
      "cell_type": "code",
      "source": [
        "from matplotlib.pyplot import *"
      ],
      "metadata": {
        "id": "7Ds4n6OgMmcH"
      },
      "execution_count": null,
      "outputs": []
    },
    {
      "cell_type": "code",
      "source": [
        "from matplotlib import *"
      ],
      "metadata": {
        "id": "dsCdk5iTLioK"
      },
      "execution_count": null,
      "outputs": []
    },
    {
      "cell_type": "code",
      "source": [
        "import matplotlib"
      ],
      "metadata": {
        "id": "cIMg4RQ6Sko-"
      },
      "execution_count": null,
      "outputs": []
    },
    {
      "cell_type": "code",
      "source": [
        "from matplotlib.pyplot import *"
      ],
      "metadata": {
        "id": "x7QbVNvXqmqC"
      },
      "execution_count": null,
      "outputs": []
    },
    {
      "cell_type": "code",
      "source": [
        "history_mlp"
      ],
      "metadata": {
        "colab": {
          "base_uri": "https://localhost:8080/"
        },
        "id": "FizcKX34PBFe",
        "outputId": "bedb8683-b84d-4553-ef6c-05513f5c0d72"
      },
      "execution_count": null,
      "outputs": [
        {
          "output_type": "execute_result",
          "data": {
            "text/plain": [
              "<keras.callbacks.History at 0x7fe5484bca10>"
            ]
          },
          "metadata": {},
          "execution_count": 79
        }
      ]
    },
    {
      "cell_type": "code",
      "source": [
        "plt(\n",
        "    hs={\n",
        "        'Best MLP': history_mlp\n",
        "    },\n",
        "    epochs=25,\n",
        "    loss='loss')\n",
        "\n",
        "plt(\n",
        "    hs={\n",
        "        'Best MLP': history_mlp\n",
        "    },\n",
        "    epochs=25, \n",
        "    metrics='accuracy')"
      ],
      "metadata": {
        "id": "Cu8-jrt2IOrL"
      },
      "execution_count": null,
      "outputs": []
    },
    {
      "cell_type": "code",
      "source": [
        "#Calculate accuracies\n",
        "mlp_train_loss, mlp_train_acc = model_mlp.evaluate(X_train,  y_train, verbose=2)\n",
        "print('\\nTrain accuracy:', mlp_train_acc)\n",
        "\n",
        "mlp_dev_loss, mlp_dev_acc = model_mlp.evaluate(X_train,  y_train, verbose=2)\n",
        "print('\\nValidation accuracy:', mlp_dev_acc)\n",
        "\n",
        "mlp_test_loss, mlp_test_acc = model_mlp.evaluate(X_test,  y_test, verbose=2)\n",
        "print('\\nTest accuracy:', mlp_test_acc)"
      ],
      "metadata": {
        "colab": {
          "base_uri": "https://localhost:8080/"
        },
        "id": "OP6jY3hLJo2q",
        "outputId": "b1d3ec6d-f3de-418f-9ffa-f93c0a87d909"
      },
      "execution_count": null,
      "outputs": [
        {
          "output_type": "stream",
          "name": "stdout",
          "text": [
            "172/172 - 0s - loss: 0.4088 - accuracy: 0.7748 - 229ms/epoch - 1ms/step\n",
            "\n",
            "Train accuracy: 0.774781346321106\n",
            "172/172 - 0s - loss: 0.4088 - accuracy: 0.7748 - 233ms/epoch - 1ms/step\n",
            "\n",
            "Validation accuracy: 0.774781346321106\n",
            "74/74 - 0s - loss: 0.5967 - accuracy: 0.6369 - 135ms/epoch - 2ms/step\n",
            "\n",
            "Test accuracy: 0.636904776096344\n"
          ]
        }
      ]
    },
    {
      "cell_type": "code",
      "source": [
        "best_mlp_hyperparameters = tuner_mlp.get_best_hyperparameters(1)[0]\n",
        "print(\"Best Hyper-parameters\")\n",
        "best_mlp_hyperparameters.values"
      ],
      "metadata": {
        "id": "QmhLkNudv5LD",
        "outputId": "bc0add0f-a08a-4b6d-a6f4-62dd3506a142",
        "colab": {
          "base_uri": "https://localhost:8080/"
        }
      },
      "execution_count": null,
      "outputs": [
        {
          "output_type": "stream",
          "name": "stdout",
          "text": [
            "Best Hyper-parameters\n"
          ]
        },
        {
          "output_type": "execute_result",
          "data": {
            "text/plain": [
              "{'dense-bot': 17,\n",
              " 'num_dense_layers': 2,\n",
              " 'dense_0': 50,\n",
              " 'dropout_0': 0.2,\n",
              " 'Optimizer': 'Adam',\n",
              " 'learning_rate': 0.001,\n",
              " 'dense_1': 100,\n",
              " 'dropout_1': 0.0}"
            ]
          },
          "metadata": {},
          "execution_count": 91
        }
      ]
    },
    {
      "cell_type": "code",
      "source": [
        "from sklearn.metrics import classification_report\n",
        "from sklearn.metrics import confusion_matrix\n",
        "from sklearn.metrics import ConfusionMatrixDisplay\n",
        "from matplotlib import pyplot as plt"
      ],
      "metadata": {
        "id": "DYKhs-3WUeWX"
      },
      "execution_count": null,
      "outputs": []
    },
    {
      "cell_type": "code",
      "source": [
        "from sklearn.metrics import plot_confusion_matrix"
      ],
      "metadata": {
        "id": "T6eCLsxdUmKv"
      },
      "execution_count": null,
      "outputs": []
    },
    {
      "cell_type": "code",
      "source": [
        "class_names = ['631d72ff99ba21001a8503fa', '631d779999ba21001a850416', '62566aa432b19a0164d802be']"
      ],
      "metadata": {
        "id": "gichzf3bVILf"
      },
      "execution_count": null,
      "outputs": []
    },
    {
      "cell_type": "code",
      "source": [
        "predictions=model_mlp.predict(X_test)\n",
        "\n",
        "plot_confusion_matrix(tf.argmax(predictions, axis = 1).numpy(), tf.argmax(y_test, axis = 1).numpy(),  classes=class_names, title='Confusion matrix on best MLP results')\n",
        "plt.show()"
      ],
      "metadata": {
        "id": "yVdx1o4kJo6Q"
      },
      "execution_count": null,
      "outputs": []
    },
    {
      "cell_type": "code",
      "source": [
        "631d72ff99ba21001a8503fa    2624\n",
        "631d779999ba21001a850416    2618\n",
        "62566aa432b19a0164d802be "
      ],
      "metadata": {
        "id": "8uDjRvETJo9f"
      },
      "execution_count": null,
      "outputs": []
    },
    {
      "cell_type": "code",
      "source": [
        "y_pred=model.predict(X_test) \n",
        "y_pred=np.argmax(y_pred, axis=1)\n",
        "y_test=np.argmax(y_test, axis=1)\n",
        "cm = confusion_matrix(y_test, y_pred)\n",
        "disp = ConfusionMatrixDisplay(confusion_matrix=cm)\n",
        "disp.plot()\n",
        "\n",
        "plt.show()"
      ],
      "metadata": {
        "colab": {
          "base_uri": "https://localhost:8080/",
          "height": 296
        },
        "id": "Jiii6bMFJpAK",
        "outputId": "fc6f317d-e935-4d28-b586-a97fb7705d28"
      },
      "execution_count": null,
      "outputs": [
        {
          "output_type": "stream",
          "name": "stdout",
          "text": [
            "74/74 [==============================] - 0s 1ms/step\n"
          ]
        },
        {
          "output_type": "display_data",
          "data": {
            "text/plain": [
              "<Figure size 432x288 with 2 Axes>"
            ],
            "image/png": "[encoded data removed]"
          },
          "metadata": {
            "needs_background": "light"
          }
        }
      ]
    },
    {
      "cell_type": "code",
      "source": [
        "from sklearn.metrics import classification_report\n",
        "report = classification_report(y_test, y_pred)\n",
        "print(report)"
      ],
      "metadata": {
        "colab": {
          "base_uri": "https://localhost:8080/"
        },
        "id": "qJ8CejV0-oVd",
        "outputId": "6ca47461-a874-468b-e094-39e0a19e44e3"
      },
      "execution_count": null,
      "outputs": [
        {
          "output_type": "stream",
          "name": "stdout",
          "text": [
            "              precision    recall  f1-score   support\n",
            "\n",
            "           0       0.96      0.99      0.97       786\n",
            "           1       0.47      0.40      0.43       789\n",
            "           2       0.47      0.53      0.50       777\n",
            "\n",
            "    accuracy                           0.64      2352\n",
            "   macro avg       0.63      0.64      0.63      2352\n",
            "weighted avg       0.63      0.64      0.63      2352\n",
            "\n"
          ]
        }
      ]
    }
  ]
}