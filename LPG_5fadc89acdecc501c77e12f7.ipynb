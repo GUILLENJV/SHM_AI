{
  "cells": [
    {
      "cell_type": "markdown",
      "metadata": {
        "id": "view-in-github",
        "colab_type": "text"
      },
      "source": [
        "<a href=\"https://colab.research.google.com/github/GUILLENJV/SHM_AI/blob/master/LPG_5fadc89acdecc501c77e12f7.ipynb\" target=\"_parent\"><img src=\"https://colab.research.google.com/assets/colab-badge.svg\" alt=\"Open In Colab\"/></a>"
      ]
    },
    {
      "cell_type": "markdown",
      "source": [
        "# Model LPG_5fadc89acdecc501c77e12f7"
      ],
      "metadata": {
        "id": "MPhpds9t2Bh1"
      }
    },
    {
      "cell_type": "code",
      "execution_count": 1,
      "metadata": {
        "id": "T_RKpy4whR5f"
      },
      "outputs": [],
      "source": [
        "#learned embedding encoding for a neural network\n",
        "from numpy import unique\n",
        "import numpy\n",
        "from numpy import array\n",
        "import pandas as pd\n",
        "import datetime \n",
        "from time import sleep\n",
        "from tqdm import tqdm\n",
        "import os\n",
        "from pandas import read_csv\n",
        "import json\n",
        "import tensorflow as tf\n",
        "from tensorflow import keras\n",
        "from keras.utils import np_utils\n",
        "import requests\n",
        "import numpy as np\n",
        "from sklearn.model_selection import train_test_split\n",
        "from sklearn.preprocessing import LabelEncoder\n",
        "from sklearn.preprocessing import OneHotEncoder\n",
        "from sklearn.preprocessing import OrdinalEncoder\n",
        "from tensorflow.keras.layers import BatchNormalization\n",
        "from keras.regularizers import l1\n",
        "from keras.regularizers import l2\n",
        "from tensorflow.keras.layers import Dense, Dropout, Flatten\n",
        "from tensorflow.keras.callbacks import EarlyStopping\n",
        "from keras.utils.vis_utils import plot_model\n",
        "from keras.models import Sequential\n",
        "from keras.layers import Dense\n",
        "from tensorflow.keras import regularizers\n",
        "from matplotlib import pyplot\n",
        "import matplotlib.pyplot as plt\n",
        "import seaborn as sns\n",
        "#from predict import model \n",
        "from sklearn import preprocessing\n",
        "from collections import defaultdict\n",
        "from sklearn.preprocessing import StandardScaler\n",
        "from sklearn.neural_network import MLPClassifier\n",
        "from sklearn.metrics import classification_report\n",
        "from sklearn.metrics import confusion_matrix\n",
        "from sklearn.metrics import ConfusionMatrixDisplay\n",
        "from matplotlib import pyplot as plt"
      ]
    },
    {
      "cell_type": "code",
      "execution_count": 2,
      "metadata": {
        "id": "V8PQOTills5S",
        "colab": {
          "base_uri": "https://localhost:8080/",
          "height": 1000
        },
        "outputId": "443581ca-f6fb-4de0-83b1-dd080a20d647"
      },
      "outputs": [
        {
          "output_type": "stream",
          "name": "stderr",
          "text": [
            "/usr/local/lib/python3.8/dist-packages/IPython/core/interactiveshell.py:3326: DtypeWarning: Columns (21) have mixed types.Specify dtype option on import or set low_memory=False.\n",
            "  exec(code_obj, self.user_global_ns, self.user_ns)\n",
            "/usr/local/lib/python3.8/dist-packages/pandas/core/generic.py:6392: SettingWithCopyWarning: \n",
            "A value is trying to be set on a copy of a slice from a DataFrame\n",
            "\n",
            "See the caveats in the documentation: https://pandas.pydata.org/pandas-docs/stable/user_guide/indexing.html#returning-a-view-versus-a-copy\n",
            "  return self._update_inplace(result)\n"
          ]
        },
        {
          "output_type": "stream",
          "name": "stdout",
          "text": [
            "X shape: :  (62398, 20)\n",
            "Model: \"sequential\"\n",
            "_________________________________________________________________\n",
            " Layer (type)                Output Shape              Param #   \n",
            "=================================================================\n",
            " dense (Dense)               (None, 32)                672       \n",
            "                                                                 \n",
            " dense_1 (Dense)             (None, 32)                1056      \n",
            "                                                                 \n",
            " dropout (Dropout)           (None, 32)                0         \n",
            "                                                                 \n",
            " dense_2 (Dense)             (None, 3)                 99        \n",
            "                                                                 \n",
            "=================================================================\n",
            "Total params: 1,827\n",
            "Trainable params: 1,827\n",
            "Non-trainable params: 0\n",
            "_________________________________________________________________\n"
          ]
        },
        {
          "output_type": "stream",
          "name": "stderr",
          "text": [
            "/usr/local/lib/python3.8/dist-packages/sklearn/preprocessing/_label.py:98: DataConversionWarning: A column-vector y was passed when a 1d array was expected. Please change the shape of y to (n_samples, ), for example using ravel().\n",
            "  y = column_or_1d(y, warn=True)\n",
            "/usr/local/lib/python3.8/dist-packages/sklearn/preprocessing/_label.py:133: DataConversionWarning: A column-vector y was passed when a 1d array was expected. Please change the shape of y to (n_samples, ), for example using ravel().\n",
            "  y = column_or_1d(y, warn=True)\n"
          ]
        },
        {
          "output_type": "stream",
          "name": "stdout",
          "text": [
            "Epoch 1/40\n",
            "1365/1365 [==============================] - 4s 3ms/step - loss: 0.8696 - accuracy: 0.5496 - val_loss: 0.7445 - val_accuracy: 0.5969\n",
            "Epoch 2/40\n",
            "1365/1365 [==============================] - 4s 3ms/step - loss: 0.7506 - accuracy: 0.5986 - val_loss: 0.7099 - val_accuracy: 0.6079\n",
            "Epoch 3/40\n",
            "1365/1365 [==============================] - 4s 3ms/step - loss: 0.7223 - accuracy: 0.6109 - val_loss: 0.6920 - val_accuracy: 0.6148\n",
            "Epoch 4/40\n",
            "1365/1365 [==============================] - 4s 3ms/step - loss: 0.7035 - accuracy: 0.6252 - val_loss: 0.6786 - val_accuracy: 0.6239\n",
            "Epoch 5/40\n",
            "1365/1365 [==============================] - 3s 2ms/step - loss: 0.6918 - accuracy: 0.6319 - val_loss: 0.6697 - val_accuracy: 0.6288\n",
            "Epoch 6/40\n",
            "1365/1365 [==============================] - 4s 3ms/step - loss: 0.6807 - accuracy: 0.6351 - val_loss: 0.6614 - val_accuracy: 0.6327\n",
            "Epoch 7/40\n",
            "1365/1365 [==============================] - 3s 2ms/step - loss: 0.6743 - accuracy: 0.6396 - val_loss: 0.6559 - val_accuracy: 0.6407\n",
            "Epoch 8/40\n",
            "1365/1365 [==============================] - 4s 3ms/step - loss: 0.6699 - accuracy: 0.6429 - val_loss: 0.6536 - val_accuracy: 0.6388\n",
            "Epoch 9/40\n",
            "1365/1365 [==============================] - 4s 3ms/step - loss: 0.6647 - accuracy: 0.6453 - val_loss: 0.6468 - val_accuracy: 0.6438\n",
            "Epoch 10/40\n",
            "1365/1365 [==============================] - 4s 3ms/step - loss: 0.6615 - accuracy: 0.6449 - val_loss: 0.6454 - val_accuracy: 0.6456\n",
            "Epoch 11/40\n",
            "1365/1365 [==============================] - 4s 3ms/step - loss: 0.6582 - accuracy: 0.6463 - val_loss: 0.6451 - val_accuracy: 0.6418\n",
            "Epoch 12/40\n",
            "1365/1365 [==============================] - 3s 2ms/step - loss: 0.6582 - accuracy: 0.6482 - val_loss: 0.6424 - val_accuracy: 0.6448\n",
            "Epoch 13/40\n",
            "1365/1365 [==============================] - 5s 4ms/step - loss: 0.6555 - accuracy: 0.6497 - val_loss: 0.6415 - val_accuracy: 0.6427\n",
            "Epoch 14/40\n",
            "1365/1365 [==============================] - 3s 3ms/step - loss: 0.6535 - accuracy: 0.6494 - val_loss: 0.6408 - val_accuracy: 0.6448\n",
            "Epoch 15/40\n",
            "1365/1365 [==============================] - 3s 2ms/step - loss: 0.6518 - accuracy: 0.6500 - val_loss: 0.6389 - val_accuracy: 0.6534\n",
            "Epoch 16/40\n",
            "1365/1365 [==============================] - 4s 3ms/step - loss: 0.6507 - accuracy: 0.6485 - val_loss: 0.6380 - val_accuracy: 0.6471\n",
            "Epoch 17/40\n",
            "1365/1365 [==============================] - 4s 3ms/step - loss: 0.6498 - accuracy: 0.6491 - val_loss: 0.6354 - val_accuracy: 0.6494\n",
            "Epoch 18/40\n",
            "1365/1365 [==============================] - 4s 3ms/step - loss: 0.6485 - accuracy: 0.6517 - val_loss: 0.6342 - val_accuracy: 0.6501\n",
            "Epoch 19/40\n",
            "1365/1365 [==============================] - 3s 2ms/step - loss: 0.6472 - accuracy: 0.6505 - val_loss: 0.6341 - val_accuracy: 0.6511\n",
            "Epoch 20/40\n",
            "1365/1365 [==============================] - 3s 2ms/step - loss: 0.6443 - accuracy: 0.6531 - val_loss: 0.6346 - val_accuracy: 0.6529\n",
            "Epoch 21/40\n",
            "1365/1365 [==============================] - 3s 2ms/step - loss: 0.6454 - accuracy: 0.6510 - val_loss: 0.6324 - val_accuracy: 0.6530\n",
            "Epoch 22/40\n",
            "1365/1365 [==============================] - 4s 3ms/step - loss: 0.6444 - accuracy: 0.6521 - val_loss: 0.6331 - val_accuracy: 0.6497\n",
            "Epoch 23/40\n",
            "1365/1365 [==============================] - 4s 3ms/step - loss: 0.6447 - accuracy: 0.6531 - val_loss: 0.6329 - val_accuracy: 0.6548\n",
            "Epoch 24/40\n",
            "1365/1365 [==============================] - 4s 3ms/step - loss: 0.6439 - accuracy: 0.6520 - val_loss: 0.6321 - val_accuracy: 0.6507\n",
            "Epoch 25/40\n",
            "1365/1365 [==============================] - 4s 3ms/step - loss: 0.6418 - accuracy: 0.6529 - val_loss: 0.6310 - val_accuracy: 0.6513\n",
            "Epoch 26/40\n",
            "1365/1365 [==============================] - 3s 2ms/step - loss: 0.6414 - accuracy: 0.6521 - val_loss: 0.6309 - val_accuracy: 0.6535\n",
            "Epoch 27/40\n",
            "1365/1365 [==============================] - 4s 3ms/step - loss: 0.6423 - accuracy: 0.6551 - val_loss: 0.6315 - val_accuracy: 0.6533\n",
            "Epoch 28/40\n",
            "1365/1365 [==============================] - 3s 2ms/step - loss: 0.6403 - accuracy: 0.6566 - val_loss: 0.6310 - val_accuracy: 0.6527\n",
            "Epoch 29/40\n",
            "1365/1365 [==============================] - 3s 2ms/step - loss: 0.6403 - accuracy: 0.6548 - val_loss: 0.6305 - val_accuracy: 0.6521\n",
            "Epoch 30/40\n",
            "1365/1365 [==============================] - 4s 3ms/step - loss: 0.6394 - accuracy: 0.6540 - val_loss: 0.6303 - val_accuracy: 0.6540\n",
            "Epoch 31/40\n",
            "1365/1365 [==============================] - 4s 3ms/step - loss: 0.6403 - accuracy: 0.6542 - val_loss: 0.6300 - val_accuracy: 0.6543\n",
            "Epoch 32/40\n",
            "1365/1365 [==============================] - 3s 2ms/step - loss: 0.6391 - accuracy: 0.6534 - val_loss: 0.6291 - val_accuracy: 0.6548\n",
            "Epoch 33/40\n",
            "1365/1365 [==============================] - 3s 2ms/step - loss: 0.6381 - accuracy: 0.6552 - val_loss: 0.6290 - val_accuracy: 0.6541\n",
            "Epoch 34/40\n",
            "1365/1365 [==============================] - 3s 2ms/step - loss: 0.6383 - accuracy: 0.6553 - val_loss: 0.6298 - val_accuracy: 0.6501\n",
            "Epoch 35/40\n",
            "1365/1365 [==============================] - 4s 3ms/step - loss: 0.6383 - accuracy: 0.6560 - val_loss: 0.6293 - val_accuracy: 0.6535\n",
            "Epoch 36/40\n",
            "1365/1365 [==============================] - 3s 2ms/step - loss: 0.6383 - accuracy: 0.6541 - val_loss: 0.6279 - val_accuracy: 0.6544\n",
            "Epoch 37/40\n",
            "1365/1365 [==============================] - 4s 3ms/step - loss: 0.6377 - accuracy: 0.6564 - val_loss: 0.6300 - val_accuracy: 0.6526\n",
            "Epoch 38/40\n",
            "1365/1365 [==============================] - 3s 2ms/step - loss: 0.6373 - accuracy: 0.6551 - val_loss: 0.6292 - val_accuracy: 0.6525\n",
            "Epoch 39/40\n",
            "1365/1365 [==============================] - 4s 3ms/step - loss: 0.6363 - accuracy: 0.6565 - val_loss: 0.6293 - val_accuracy: 0.6522\n",
            "Epoch 40/40\n",
            "1365/1365 [==============================] - 4s 3ms/step - loss: 0.6376 - accuracy: 0.6559 - val_loss: 0.6275 - val_accuracy: 0.6529\n",
            "Precisión Entrenamiento: 0.6606\n",
            "Precisión Prueba:  0.6529\n"
          ]
        },
        {
          "output_type": "display_data",
          "data": {
            "text/plain": [
              "<Figure size 432x288 with 1 Axes>"
            ],
            "image/png": "[encoded data removed]"
          },
          "metadata": {
            "needs_background": "light"
          }
        },
        {
          "output_type": "stream",
          "name": "stdout",
          "text": [
            "585/585 [==============================] - 1s 1ms/step\n"
          ]
        },
        {
          "output_type": "display_data",
          "data": {
            "text/plain": [
              "<Figure size 432x288 with 2 Axes>"
            ],
            "image/png": "[encoded data removed]"
          },
          "metadata": {
            "needs_background": "light"
          }
        },
        {
          "output_type": "stream",
          "name": "stdout",
          "text": [
            "              precision    recall  f1-score   support\n",
            "\n",
            "           0       0.87      0.82      0.84      6518\n",
            "           1       0.53      0.35      0.42      6164\n",
            "           2       0.56      0.78      0.65      6038\n",
            "\n",
            "    accuracy                           0.65     18720\n",
            "   macro avg       0.65      0.65      0.64     18720\n",
            "weighted avg       0.66      0.65      0.64     18720\n",
            "\n"
          ]
        }
      ],
      "source": [
        "# carga los datos\n",
        "df = pd.read_csv('LPG_5fadc89acdecc501c77e12f7.csv')\n",
        "\n",
        "# Convertir los variables en string\n",
        "df[\"visitor_device_hardware_family\"] = df[\"visitor_device_hardware_family\"].apply(str)\n",
        "df[\"visitor_device_hardware_model\"] = df[\"visitor_device_hardware_model\"].apply(str)\n",
        "df[\"visitor_device_os_version\"] = df[\"visitor_device_os_version\"].apply(str)\n",
        "df[\"visitor_device_hardware_family\"] = df[\"visitor_device_hardware_family\"].apply(str)\n",
        "df[\"visitor_device_hardware_model\"] = df[\"visitor_device_hardware_model\"].apply(str)\n",
        "df[\"visitor_device_os_version\"] = df[\"visitor_device_os_version\"].apply(str)\n",
        "df[\"visitor_tokens_adh\"] = df[\"visitor_tokens_adh\"].apply(str)\n",
        "df[\"visitor_tokens_cadid\"] = df[\"visitor_tokens_cadid\"].apply(str)\n",
        "df[\"converted_yes\"] = df[\"converted_yes\"].apply(str)\n",
        "df[\"converted_no\"] = df[\"converted_no\"].apply(str)\n",
        "\n",
        "# Eliminamos las variables que no van dentro del modelo\n",
        "df = df.drop(['landing_pages_group_id','visitor_tokens_add', '_id'], axis=1)\n",
        "\n",
        "# Eliminamos los valores duplicados\n",
        "df = df.drop_duplicates()\n",
        "\n",
        "# Imputamos la variable \n",
        "df['visitor_geo_location_countryCode'].fillna(df['visitor_geo_location_countryCode'].mode()[0], inplace=True)\n",
        "df['visitor_geo_location_regionName'].fillna(df['visitor_geo_location_regionName'].mode()[0], inplace=True)\n",
        "df['visitor_tokens_adi'].fillna(df['visitor_tokens_adi'].mode()[0], inplace=True)\n",
        "df['visitor_geo_location_isp'].fillna(df['visitor_geo_location_isp'].mode()[0], inplace=True)\n",
        "df['visitor_geo_location_connection_type'].fillna(df['visitor_geo_location_connection_type'].mode()[0], inplace=True)\n",
        "df['visitor_geo_location_cityName'].fillna(df['visitor_geo_location_cityName'].mode()[0], inplace=True)\n",
        "\n",
        "# Seleccionamos nuestras variables de entrda\n",
        "X = df[['campaign_id', 'traffic_source_id',\n",
        "       'visitor_device_browser', 'visitor_device_hardware_family',\n",
        "       'visitor_device_hardware_model', 'visitor_device_hardware_vendor',\n",
        "       'visitor_device_os_family', 'visitor_device_os_vendor',\n",
        "       'visitor_device_os_version', 'visitor_device_type',\n",
        "       'visitor_geo_location_cityName', 'visitor_geo_location_connection_type',\n",
        "       'visitor_geo_location_countryCode', 'visitor_geo_location_isp',\n",
        "       'visitor_geo_location_regionName', 'visitor_tokens_adh',\n",
        "       'visitor_tokens_cadid', 'visitor_tokens_adi', 'converted_yes',\n",
        "       'converted_no']]\n",
        "# Covertimos laas variables en numpy\n",
        "X = X.astype(str).to_numpy()\n",
        "y = df[[\"landing_page_id\"]].to_numpy()\n",
        "\n",
        "# Aplicamos un encoder a las X\n",
        "encoded_x = None\n",
        "for i in range(0, X.shape[1]):\n",
        "    label_encoder = LabelEncoder()\n",
        "    feature = label_encoder.fit_transform(X[:,i])\n",
        "    feature = feature.reshape(X.shape[0], 1)\n",
        "    onehot_encoder = OrdinalEncoder()\n",
        "    feature = onehot_encoder.fit_transform(feature)\n",
        "    if encoded_x is None:\n",
        "        encoded_x = feature\n",
        "    else:\n",
        "        encoded_x = numpy.concatenate((encoded_x, feature), axis=1)\n",
        "print(\"X shape: : \", encoded_x.shape)\n",
        "\n",
        "# Aplicamos un encoder a y\n",
        "label_encoder = LabelEncoder()\n",
        "label_encoder = label_encoder.fit(y)\n",
        "label_encoded_y = label_encoder.transform(y)\n",
        "# convert integers to dummy variables (i.e. one hot encoded)\n",
        "dummy_y = np_utils.to_categorical(label_encoded_y)\n",
        "\n",
        "# split data into train and test sets\n",
        "X_train, X_test, y_train, y_test = train_test_split(encoded_x, dummy_y, test_size=0.30, random_state=123)\n",
        "\n",
        "# Alicamos una trasformacion a nuestras vaiables\n",
        "scaler=StandardScaler()\n",
        "scaler.fit(X_train)\n",
        "X_train=scaler.transform(X_train)\n",
        "X_test=scaler.transform(X_test)\n",
        "\n",
        "# Definición del modelo\n",
        "def modelo_mlp(): \n",
        "    model = Sequential()\n",
        "    model.add(Dense(32, input_dim=X_train.shape[1], \n",
        "                kernel_initializer= 'he_uniform',\n",
        "                activation='relu', activity_regularizer=regularizers.l1(1e-4)))\n",
        "    model.add(Dense(32, kernel_initializer= 'he_uniform',\n",
        "                activation='relu',activity_regularizer=regularizers.l1(1e-4)))\n",
        "    model.add(Dropout(0.2))  \n",
        "    model.add(Dense(3, kernel_initializer= 'he_uniform',\n",
        "                activation='softmax'))\n",
        "    model.compile(loss='categorical_crossentropy', optimizer='adam',\n",
        "                metrics=['accuracy'])\n",
        "    model.summary()\n",
        "    return model\n",
        "\n",
        "model = modelo_mlp()\n",
        "\n",
        "# Entrenamos el modelo con el dataset\n",
        "history=model.fit(X_train, y_train, epochs=40, batch_size=32, validation_data=(X_test, y_test), shuffle=False)\n",
        "\n",
        "# Obtenemos el accuaracy tanto para los datos de entrenamientos como los de prueba\n",
        "loss, accuracy = model.evaluate(X_train, y_train, verbose=False)\n",
        "print(\"Precisión Entrenamiento: {:.4f}\".format(accuracy))\n",
        "loss, accuracy = model.evaluate(X_test, y_test, verbose=False)\n",
        "print(\"Precisión Prueba:  {:.4f}\".format(accuracy))\n",
        "\n",
        "# Obtenemos la curva de aprendizaje del modelo\n",
        "# plot train and validation loss\n",
        "pyplot.plot(history.history['loss'])\n",
        "pyplot.plot(history.history['val_loss'])\n",
        "pyplot.title('model train vs validation loss')\n",
        "pyplot.ylabel('loss')\n",
        "pyplot.xlabel('epoch')\n",
        "pyplot.legend(['train', 'validation'], loc='upper right')\n",
        "pyplot.show()\n",
        "\n",
        "# Se obtiene la matriz de confusión\n",
        "y_pred=model.predict(X_test) \n",
        "y_pred=np.argmax(y_pred, axis=1)\n",
        "y_test=np.argmax(y_test, axis=1)\n",
        "cm = confusion_matrix(y_test, y_pred)\n",
        "disp = ConfusionMatrixDisplay(confusion_matrix=cm)\n",
        "disp.plot()\n",
        "\n",
        "plt.show()\n",
        "# Se obtiene las metricas de evaluación del modelo\n",
        "from sklearn.metrics import classification_report\n",
        "report = classification_report(y_test, y_pred)\n",
        "print(report)"
      ]
    },
    {
      "cell_type": "code",
      "execution_count": 3,
      "metadata": {
        "colab": {
          "base_uri": "https://localhost:8080/"
        },
        "id": "JOR3BdY4LCFC",
        "outputId": "6ad6062d-2a29-4bf8-8966-4c0d1485a9a8"
      },
      "outputs": [
        {
          "output_type": "stream",
          "name": "stdout",
          "text": [
            "1/1 [==============================] - 0s 69ms/step\n",
            "1/1 [==============================] - 0s 17ms/step\n",
            "['5f08c303ea59c0001367aa96']\n"
          ]
        }
      ],
      "source": [
        "# make class predictions with the model\n",
        "predictions = (model.predict(X_test[1:2]))\n",
        "predictions\n",
        "# make class predictions with the model\n",
        "predictions = (model.predict(X_test[1:2])).argmax(1)\n",
        "predictions\n",
        "print(label_encoder.inverse_transform(predictions))"
      ]
    },
    {
      "cell_type": "code",
      "execution_count": 4,
      "metadata": {
        "id": "72H7mN_Thz0q"
      },
      "outputs": [],
      "source": [
        "# Guardamos el modelo generado\n",
        "from keras.models import load_model \n",
        "model.save(\"LPG_5fadc89acdecc501c77e12f7.h5\") \n",
        "loaded_model = load_model(\"LPG_5fadc89acdecc501c77e12f7.h5\")"
      ]
    },
    {
      "cell_type": "code",
      "source": [
        "# make class predictions with the model\n",
        "predictions = (model.predict(X_test[1:2]))\n",
        "predictions"
      ],
      "metadata": {
        "colab": {
          "base_uri": "https://localhost:8080/"
        },
        "id": "yPlo4CrVZRvK",
        "outputId": "cd27166d-430d-47c2-dbb0-74d59e8a2ad8"
      },
      "execution_count": 5,
      "outputs": [
        {
          "output_type": "stream",
          "name": "stdout",
          "text": [
            "1/1 [==============================] - 0s 42ms/step\n"
          ]
        },
        {
          "output_type": "execute_result",
          "data": {
            "text/plain": [
              "array([[0.25205144, 0.7359179 , 0.01203062]], dtype=float32)"
            ]
          },
          "metadata": {},
          "execution_count": 5
        }
      ]
    },
    {
      "cell_type": "code",
      "source": [
        "# make class predictions with the model\n",
        "predictions = (loaded_model.predict(X_test[1:2])).argmax(1)\n",
        "predictions"
      ],
      "metadata": {
        "colab": {
          "base_uri": "https://localhost:8080/"
        },
        "id": "vBhqsV8CZTs7",
        "outputId": "7440290e-834d-4798-a560-ddaa213a54d5"
      },
      "execution_count": 6,
      "outputs": [
        {
          "output_type": "stream",
          "name": "stdout",
          "text": [
            "1/1 [==============================] - 0s 138ms/step\n"
          ]
        },
        {
          "output_type": "execute_result",
          "data": {
            "text/plain": [
              "array([1])"
            ]
          },
          "metadata": {},
          "execution_count": 6
        }
      ]
    },
    {
      "cell_type": "code",
      "source": [
        "print(label_encoder.inverse_transform(predictions))"
      ],
      "metadata": {
        "colab": {
          "base_uri": "https://localhost:8080/"
        },
        "id": "i42p4IU7ZYXR",
        "outputId": "c3bf8466-4af7-4ea0-ea39-650444cb1f24"
      },
      "execution_count": 7,
      "outputs": [
        {
          "output_type": "stream",
          "name": "stdout",
          "text": [
            "['5f08c303ea59c0001367aa96']\n"
          ]
        }
      ]
    }
  ],
  "metadata": {
    "colab": {
      "provenance": [],
      "include_colab_link": true
    },
    "kernelspec": {
      "display_name": "Python 3",
      "name": "python3"
    },
    "language_info": {
      "name": "python"
    }
  },
  "nbformat": 4,
  "nbformat_minor": 0
}