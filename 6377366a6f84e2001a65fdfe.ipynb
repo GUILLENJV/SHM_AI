{
  "cells": [
    {
      "cell_type": "markdown",
      "metadata": {
        "id": "view-in-github",
        "colab_type": "text"
      },
      "source": [
        "<a href=\"https://colab.research.google.com/github/GUILLENJV/SHM_AI/blob/master/6377366a6f84e2001a65fdfe.ipynb\" target=\"_parent\"><img src=\"https://colab.research.google.com/assets/colab-badge.svg\" alt=\"Open In Colab\"/></a>"
      ]
    },
    {
      "cell_type": "code",
      "execution_count": null,
      "metadata": {
        "id": "T_RKpy4whR5f"
      },
      "outputs": [],
      "source": [
        "#learned embedding encoding for a neural network\n",
        "from numpy import unique\n",
        "import numpy\n",
        "from numpy import array\n",
        "import pandas as pd\n",
        "import datetime \n",
        "from time import sleep\n",
        "from tqdm import tqdm\n",
        "import os\n",
        "from pandas import read_csv\n",
        "import json\n",
        "import tensorflow as tf\n",
        "from tensorflow import keras\n",
        "from keras.utils import np_utils\n",
        "import requests\n",
        "import numpy as np\n",
        "from sklearn.model_selection import train_test_split\n",
        "from sklearn.preprocessing import LabelEncoder\n",
        "from sklearn.preprocessing import OneHotEncoder\n",
        "from sklearn.preprocessing import OrdinalEncoder\n",
        "from tensorflow.keras.layers import BatchNormalization\n",
        "from keras.regularizers import l1\n",
        "from keras.regularizers import l2\n",
        "from tensorflow.keras.layers import Dense, Dropout, Flatten\n",
        "from tensorflow.keras.callbacks import EarlyStopping\n",
        "from keras.utils.vis_utils import plot_model\n",
        "from keras.models import Sequential\n",
        "from keras.layers import Dense\n",
        "from tensorflow.keras import regularizers\n",
        "from matplotlib import pyplot\n",
        "import matplotlib.pyplot as plt\n",
        "import seaborn as sns\n",
        "#from predict import model \n",
        "from sklearn import preprocessing\n",
        "from collections import defaultdict\n",
        "from sklearn.preprocessing import StandardScaler\n",
        "from sklearn.neural_network import MLPClassifier\n",
        "from sklearn.metrics import classification_report\n",
        "from sklearn.metrics import confusion_matrix\n",
        "from sklearn.metrics import ConfusionMatrixDisplay\n",
        "from matplotlib import pyplot as plt"
      ]
    },
    {
      "cell_type": "code",
      "execution_count": null,
      "metadata": {
        "id": "V8PQOTills5S"
      },
      "outputs": [],
      "source": [
        "# carga los datos\n",
        "#df = pd.read_excel('631d8277776f1d001a21e6eb.xlsx') \n",
        "df = pd.read_csv('6377366a6f84e2001a65fdfe.csv')"
      ]
    },
    {
      "cell_type": "code",
      "execution_count": null,
      "metadata": {
        "colab": {
          "base_uri": "https://localhost:8080/"
        },
        "id": "_hbIK-LFRFPX",
        "outputId": "db4b6d51-2f92-4f68-f730-7a9eb711c1bd"
      },
      "outputs": [
        {
          "output_type": "execute_result",
          "data": {
            "text/plain": [
              "637735d9b20e47001a2057c1    579\n",
              "6377333cb20e47001a2057c0    579\n",
              "637739596f84e2001a65fdff    579\n",
              "63773a936f84e2001a65fe00    579\n",
              "637739d9b20e47001a205808    579\n",
              "62566aa432b19a0164d802be    579\n",
              "Name: landing_page_id, dtype: int64"
            ]
          },
          "metadata": {},
          "execution_count": 3
        }
      ],
      "source": [
        "df[\"landing_page_id\"].value_counts()"
      ]
    },
    {
      "cell_type": "code",
      "execution_count": null,
      "metadata": {
        "colab": {
          "base_uri": "https://localhost:8080/",
          "height": 525
        },
        "id": "9jp8L3ComC5l",
        "outputId": "4dd0695b-e213-470d-83b9-5b76ea0ca053"
      },
      "outputs": [
        {
          "output_type": "execute_result",
          "data": {
            "text/plain": [
              "                                    _id    landing_pages_group_id  \\\n",
              "0  9fbf431f-e1c1-47c5-ac31-d319b0faf084  6377366a6f84e2001a65fdfe   \n",
              "1  b87e9ec4-254d-4af0-a4c2-6f86ede42faa  6377366a6f84e2001a65fdfe   \n",
              "2  6d3d8639-8fa6-49ea-9273-59a21a42e6dc  6377366a6f84e2001a65fdfe   \n",
              "3  7198b1ef-31a2-4498-b684-d173017d53e4  6377366a6f84e2001a65fdfe   \n",
              "4  faffb31f-19ed-40d7-9ce8-54e8eb30983c  6377366a6f84e2001a65fdfe   \n",
              "\n",
              "                campaign_id           landing_page_id  \\\n",
              "0  626da13a732b314391fd5bea  637735d9b20e47001a2057c1   \n",
              "1  626da13a732b314391fd5bea  637735d9b20e47001a2057c1   \n",
              "2  627ef657a3ff612aae102cfc  6377333cb20e47001a2057c0   \n",
              "3  626da13a732b314391fd5bea  637739596f84e2001a65fdff   \n",
              "4  6361a8d24cd8140019c68ad1  63773a936f84e2001a65fe00   \n",
              "\n",
              "          traffic_source_id visitor_device_browser  \\\n",
              "0  57dfdf25d6bed1662f3cfcaa          Chrome Mobile   \n",
              "1  57dfdf25d6bed1662f3cfcaa          Chrome Mobile   \n",
              "2  58939c5eeb1b39e23f2044bb          Chrome Mobile   \n",
              "3  57dfdf25d6bed1662f3cfcaa          Chrome Mobile   \n",
              "4  58939c5eeb1b39e23f2044bb          Chrome Mobile   \n",
              "\n",
              "  visitor_device_hardware_family visitor_device_hardware_model  \\\n",
              "0                       G8 ThinQ                      LM-G820V   \n",
              "1                      Q3 Pro 5G                       RMX2205   \n",
              "2                     Nokia X100                    Nokia X100   \n",
              "3                   Galaxy Note8                      SM-N950N   \n",
              "4                    Galaxy View                      SM-T677A   \n",
              "\n",
              "  visitor_device_hardware_vendor visitor_device_os_family  ...  \\\n",
              "0                             LG                  Android  ...   \n",
              "1                         Realme                  Android  ...   \n",
              "2                     HMD Global                  Android  ...   \n",
              "3                        Samsung                  Android  ...   \n",
              "4                        Samsung                  Android  ...   \n",
              "\n",
              "  visitor_geo_location_connection_type visitor_geo_location_countryCode  \\\n",
              "0                            Cable/DSL                               US   \n",
              "1                            Cable/DSL                               US   \n",
              "2                             Cellular                               US   \n",
              "3                             Cellular                               US   \n",
              "4                            Cable/DSL                               US   \n",
              "\n",
              "  visitor_geo_location_isp visitor_geo_location_regionName visitor_tokens_adh  \\\n",
              "0            Comcast Cable                         Florida         hoswitsurp   \n",
              "1             AT&T U-verse                       Louisiana    hoareswitctosol   \n",
              "2             T-Mobile USA                      California   regwillcovzipnov   \n",
              "3             T-Mobile USA                      New Jersey  socredsavehoebill   \n",
              "4              CenturyLink                         Arizona   regwillcovzipnov   \n",
              "\n",
              "  visitor_tokens_cadid visitor_tokens_adi visitor_tokens_add converted_yes  \\\n",
              "0           Hq0LNjPqDq         solarstrip                NaN             0   \n",
              "1          XuwcsofXK1B   meter-sidebyside                NaN             0   \n",
              "2            yV7hd2zvn        blondejudge                NaN             1   \n",
              "3            JligWddhq         tswallbatt                NaN             0   \n",
              "4           I3d1ypdj6S       manroofsolar                NaN             1   \n",
              "\n",
              "  converted_no  \n",
              "0            1  \n",
              "1            1  \n",
              "2            0  \n",
              "3            1  \n",
              "4            0  \n",
              "\n",
              "[5 rows x 24 columns]"
            ],
            "text/html": [
              "\n",
              "  <div id=\"df-7997eed9-5fed-4141-b175-afb1742b49e5\">\n",
              "    <div class=\"colab-df-container\">\n",
              "      <div>\n",
              "<style scoped>\n",
              "    .dataframe tbody tr th:only-of-type {\n",
              "        vertical-align: middle;\n",
              "    }\n",
              "\n",
              "    .dataframe tbody tr th {\n",
              "        vertical-align: top;\n",
              "    }\n",
              "\n",
              "    .dataframe thead th {\n",
              "        text-align: right;\n",
              "    }\n",
              "</style>\n",
              "<table border=\"1\" class=\"dataframe\">\n",
              "  <thead>\n",
              "    <tr style=\"text-align: right;\">\n",
              "      <th></th>\n",
              "      <th>_id</th>\n",
              "      <th>landing_pages_group_id</th>\n",
              "      <th>campaign_id</th>\n",
              "      <th>landing_page_id</th>\n",
              "      <th>traffic_source_id</th>\n",
              "      <th>visitor_device_browser</th>\n",
              "      <th>visitor_device_hardware_family</th>\n",
              "      <th>visitor_device_hardware_model</th>\n",
              "      <th>visitor_device_hardware_vendor</th>\n",
              "      <th>visitor_device_os_family</th>\n",
              "      <th>...</th>\n",
              "      <th>visitor_geo_location_connection_type</th>\n",
              "      <th>visitor_geo_location_countryCode</th>\n",
              "      <th>visitor_geo_location_isp</th>\n",
              "      <th>visitor_geo_location_regionName</th>\n",
              "      <th>visitor_tokens_adh</th>\n",
              "      <th>visitor_tokens_cadid</th>\n",
              "      <th>visitor_tokens_adi</th>\n",
              "      <th>visitor_tokens_add</th>\n",
              "      <th>converted_yes</th>\n",
              "      <th>converted_no</th>\n",
              "    </tr>\n",
              "  </thead>\n",
              "  <tbody>\n",
              "    <tr>\n",
              "      <th>0</th>\n",
              "      <td>9fbf431f-e1c1-47c5-ac31-d319b0faf084</td>\n",
              "      <td>6377366a6f84e2001a65fdfe</td>\n",
              "      <td>626da13a732b314391fd5bea</td>\n",
              "      <td>637735d9b20e47001a2057c1</td>\n",
              "      <td>57dfdf25d6bed1662f3cfcaa</td>\n",
              "      <td>Chrome Mobile</td>\n",
              "      <td>G8 ThinQ</td>\n",
              "      <td>LM-G820V</td>\n",
              "      <td>LG</td>\n",
              "      <td>Android</td>\n",
              "      <td>...</td>\n",
              "      <td>Cable/DSL</td>\n",
              "      <td>US</td>\n",
              "      <td>Comcast Cable</td>\n",
              "      <td>Florida</td>\n",
              "      <td>hoswitsurp</td>\n",
              "      <td>Hq0LNjPqDq</td>\n",
              "      <td>solarstrip</td>\n",
              "      <td>NaN</td>\n",
              "      <td>0</td>\n",
              "      <td>1</td>\n",
              "    </tr>\n",
              "    <tr>\n",
              "      <th>1</th>\n",
              "      <td>b87e9ec4-254d-4af0-a4c2-6f86ede42faa</td>\n",
              "      <td>6377366a6f84e2001a65fdfe</td>\n",
              "      <td>626da13a732b314391fd5bea</td>\n",
              "      <td>637735d9b20e47001a2057c1</td>\n",
              "      <td>57dfdf25d6bed1662f3cfcaa</td>\n",
              "      <td>Chrome Mobile</td>\n",
              "      <td>Q3 Pro 5G</td>\n",
              "      <td>RMX2205</td>\n",
              "      <td>Realme</td>\n",
              "      <td>Android</td>\n",
              "      <td>...</td>\n",
              "      <td>Cable/DSL</td>\n",
              "      <td>US</td>\n",
              "      <td>AT&amp;T U-verse</td>\n",
              "      <td>Louisiana</td>\n",
              "      <td>hoareswitctosol</td>\n",
              "      <td>XuwcsofXK1B</td>\n",
              "      <td>meter-sidebyside</td>\n",
              "      <td>NaN</td>\n",
              "      <td>0</td>\n",
              "      <td>1</td>\n",
              "    </tr>\n",
              "    <tr>\n",
              "      <th>2</th>\n",
              "      <td>6d3d8639-8fa6-49ea-9273-59a21a42e6dc</td>\n",
              "      <td>6377366a6f84e2001a65fdfe</td>\n",
              "      <td>627ef657a3ff612aae102cfc</td>\n",
              "      <td>6377333cb20e47001a2057c0</td>\n",
              "      <td>58939c5eeb1b39e23f2044bb</td>\n",
              "      <td>Chrome Mobile</td>\n",
              "      <td>Nokia X100</td>\n",
              "      <td>Nokia X100</td>\n",
              "      <td>HMD Global</td>\n",
              "      <td>Android</td>\n",
              "      <td>...</td>\n",
              "      <td>Cellular</td>\n",
              "      <td>US</td>\n",
              "      <td>T-Mobile USA</td>\n",
              "      <td>California</td>\n",
              "      <td>regwillcovzipnov</td>\n",
              "      <td>yV7hd2zvn</td>\n",
              "      <td>blondejudge</td>\n",
              "      <td>NaN</td>\n",
              "      <td>1</td>\n",
              "      <td>0</td>\n",
              "    </tr>\n",
              "    <tr>\n",
              "      <th>3</th>\n",
              "      <td>7198b1ef-31a2-4498-b684-d173017d53e4</td>\n",
              "      <td>6377366a6f84e2001a65fdfe</td>\n",
              "      <td>626da13a732b314391fd5bea</td>\n",
              "      <td>637739596f84e2001a65fdff</td>\n",
              "      <td>57dfdf25d6bed1662f3cfcaa</td>\n",
              "      <td>Chrome Mobile</td>\n",
              "      <td>Galaxy Note8</td>\n",
              "      <td>SM-N950N</td>\n",
              "      <td>Samsung</td>\n",
              "      <td>Android</td>\n",
              "      <td>...</td>\n",
              "      <td>Cellular</td>\n",
              "      <td>US</td>\n",
              "      <td>T-Mobile USA</td>\n",
              "      <td>New Jersey</td>\n",
              "      <td>socredsavehoebill</td>\n",
              "      <td>JligWddhq</td>\n",
              "      <td>tswallbatt</td>\n",
              "      <td>NaN</td>\n",
              "      <td>0</td>\n",
              "      <td>1</td>\n",
              "    </tr>\n",
              "    <tr>\n",
              "      <th>4</th>\n",
              "      <td>faffb31f-19ed-40d7-9ce8-54e8eb30983c</td>\n",
              "      <td>6377366a6f84e2001a65fdfe</td>\n",
              "      <td>6361a8d24cd8140019c68ad1</td>\n",
              "      <td>63773a936f84e2001a65fe00</td>\n",
              "      <td>58939c5eeb1b39e23f2044bb</td>\n",
              "      <td>Chrome Mobile</td>\n",
              "      <td>Galaxy View</td>\n",
              "      <td>SM-T677A</td>\n",
              "      <td>Samsung</td>\n",
              "      <td>Android</td>\n",
              "      <td>...</td>\n",
              "      <td>Cable/DSL</td>\n",
              "      <td>US</td>\n",
              "      <td>CenturyLink</td>\n",
              "      <td>Arizona</td>\n",
              "      <td>regwillcovzipnov</td>\n",
              "      <td>I3d1ypdj6S</td>\n",
              "      <td>manroofsolar</td>\n",
              "      <td>NaN</td>\n",
              "      <td>1</td>\n",
              "      <td>0</td>\n",
              "    </tr>\n",
              "  </tbody>\n",
              "</table>\n",
              "<p>5 rows × 24 columns</p>\n",
              "</div>\n",
              "      <button class=\"colab-df-convert\" onclick=\"convertToInteractive('df-7997eed9-5fed-4141-b175-afb1742b49e5')\"\n",
              "              title=\"Convert this dataframe to an interactive table.\"\n",
              "              style=\"display:none;\">\n",
              "        \n",
              "  <svg xmlns=\"http://www.w3.org/2000/svg\" height=\"24px\"viewBox=\"0 0 24 24\"\n",
              "       width=\"24px\">\n",
              "    <path d=\"M0 0h24v24H0V0z\" fill=\"none\"/>\n",
              "    <path d=\"M18.56 5.44l.94 2.06.94-2.06 2.06-.94-2.06-.94-.94-2.06-.94 2.06-2.06.94zm-11 1L8.5 8.5l.94-2.06 2.06-.94-2.06-.94L8.5 2.5l-.94 2.06-2.06.94zm10 10l.94 2.06.94-2.06 2.06-.94-2.06-.94-.94-2.06-.94 2.06-2.06.94z\"/><path d=\"M17.41 7.96l-1.37-1.37c-.4-.4-.92-.59-1.43-.59-.52 0-1.04.2-1.43.59L10.3 9.45l-7.72 7.72c-.78.78-.78 2.05 0 2.83L4 21.41c.39.39.9.59 1.41.59.51 0 1.02-.2 1.41-.59l7.78-7.78 2.81-2.81c.8-.78.8-2.07 0-2.86zM5.41 20L4 18.59l7.72-7.72 1.47 1.35L5.41 20z\"/>\n",
              "  </svg>\n",
              "      </button>\n",
              "      \n",
              "  <style>\n",
              "    .colab-df-container {\n",
              "      display:flex;\n",
              "      flex-wrap:wrap;\n",
              "      gap: 12px;\n",
              "    }\n",
              "\n",
              "    .colab-df-convert {\n",
              "      background-color: #E8F0FE;\n",
              "      border: none;\n",
              "      border-radius: 50%;\n",
              "      cursor: pointer;\n",
              "      display: none;\n",
              "      fill: #1967D2;\n",
              "      height: 32px;\n",
              "      padding: 0 0 0 0;\n",
              "      width: 32px;\n",
              "    }\n",
              "\n",
              "    .colab-df-convert:hover {\n",
              "      background-color: #E2EBFA;\n",
              "      box-shadow: 0px 1px 2px rgba(60, 64, 67, 0.3), 0px 1px 3px 1px rgba(60, 64, 67, 0.15);\n",
              "      fill: #174EA6;\n",
              "    }\n",
              "\n",
              "    [theme=dark] .colab-df-convert {\n",
              "      background-color: #3B4455;\n",
              "      fill: #D2E3FC;\n",
              "    }\n",
              "\n",
              "    [theme=dark] .colab-df-convert:hover {\n",
              "      background-color: #434B5C;\n",
              "      box-shadow: 0px 1px 3px 1px rgba(0, 0, 0, 0.15);\n",
              "      filter: drop-shadow(0px 1px 2px rgba(0, 0, 0, 0.3));\n",
              "      fill: #FFFFFF;\n",
              "    }\n",
              "  </style>\n",
              "\n",
              "      <script>\n",
              "        const buttonEl =\n",
              "          document.querySelector('#df-7997eed9-5fed-4141-b175-afb1742b49e5 button.colab-df-convert');\n",
              "        buttonEl.style.display =\n",
              "          google.colab.kernel.accessAllowed ? 'block' : 'none';\n",
              "\n",
              "        async function convertToInteractive(key) {\n",
              "          const element = document.querySelector('#df-7997eed9-5fed-4141-b175-afb1742b49e5');\n",
              "          const dataTable =\n",
              "            await google.colab.kernel.invokeFunction('convertToInteractive',\n",
              "                                                     [key], {});\n",
              "          if (!dataTable) return;\n",
              "\n",
              "          const docLinkHtml = 'Like what you see? Visit the ' +\n",
              "            '<a target=\"_blank\" href=https://colab.research.google.com/notebooks/data_table.ipynb>data table notebook</a>'\n",
              "            + ' to learn more about interactive tables.';\n",
              "          element.innerHTML = '';\n",
              "          dataTable['output_type'] = 'display_data';\n",
              "          await google.colab.output.renderOutput(dataTable, element);\n",
              "          const docLink = document.createElement('div');\n",
              "          docLink.innerHTML = docLinkHtml;\n",
              "          element.appendChild(docLink);\n",
              "        }\n",
              "      </script>\n",
              "    </div>\n",
              "  </div>\n",
              "  "
            ]
          },
          "metadata": {},
          "execution_count": 4
        }
      ],
      "source": [
        "df.head()"
      ]
    },
    {
      "cell_type": "code",
      "execution_count": null,
      "metadata": {
        "colab": {
          "base_uri": "https://localhost:8080/"
        },
        "id": "a43tmczGUaf4",
        "outputId": "2ca76090-da5b-43e4-ba53-ffc345c14b97"
      },
      "outputs": [
        {
          "output_type": "execute_result",
          "data": {
            "text/plain": [
              "_id                                     object\n",
              "landing_pages_group_id                  object\n",
              "campaign_id                             object\n",
              "landing_page_id                         object\n",
              "traffic_source_id                       object\n",
              "visitor_device_browser                  object\n",
              "visitor_device_hardware_family          object\n",
              "visitor_device_hardware_model           object\n",
              "visitor_device_hardware_vendor          object\n",
              "visitor_device_os_family                object\n",
              "visitor_device_os_vendor                object\n",
              "visitor_device_os_version               object\n",
              "visitor_device_type                     object\n",
              "visitor_geo_location_cityName           object\n",
              "visitor_geo_location_connection_type    object\n",
              "visitor_geo_location_countryCode        object\n",
              "visitor_geo_location_isp                object\n",
              "visitor_geo_location_regionName         object\n",
              "visitor_tokens_adh                      object\n",
              "visitor_tokens_cadid                    object\n",
              "visitor_tokens_adi                      object\n",
              "visitor_tokens_add                      object\n",
              "converted_yes                            int64\n",
              "converted_no                             int64\n",
              "dtype: object"
            ]
          },
          "metadata": {},
          "execution_count": 5
        }
      ],
      "source": [
        "df.dtypes"
      ]
    },
    {
      "cell_type": "code",
      "execution_count": null,
      "metadata": {
        "id": "AJKtQrTeFzz9"
      },
      "outputs": [],
      "source": [
        "df[\"visitor_device_hardware_family\"] = df[\"visitor_device_hardware_family\"].apply(str)\n",
        "df[\"visitor_device_hardware_model\"] = df[\"visitor_device_hardware_model\"].apply(str)\n",
        "df[\"visitor_device_os_version\"] = df[\"visitor_device_os_version\"].apply(str)\n",
        "df[\"visitor_device_hardware_family\"] = df[\"visitor_device_hardware_family\"].apply(str)\n",
        "df[\"visitor_device_hardware_model\"] = df[\"visitor_device_hardware_model\"].apply(str)\n",
        "df[\"visitor_device_os_version\"] = df[\"visitor_device_os_version\"].apply(str)\n",
        "df[\"visitor_tokens_adh\"] = df[\"visitor_tokens_adh\"].apply(str)\n",
        "df[\"visitor_tokens_cadid\"] = df[\"visitor_tokens_cadid\"].apply(str)\n",
        "df[\"converted_yes\"] = df[\"converted_yes\"].apply(str)\n",
        "df[\"converted_no\"] = df[\"converted_no\"].apply(str)"
      ]
    },
    {
      "cell_type": "code",
      "execution_count": null,
      "metadata": {
        "id": "y0zD2rWY87BV"
      },
      "outputs": [],
      "source": [
        "#!pip install sweetviz"
      ]
    },
    {
      "cell_type": "code",
      "execution_count": null,
      "metadata": {
        "id": "uFml64CP9BGh"
      },
      "outputs": [],
      "source": [
        "#import sweetviz as sv"
      ]
    },
    {
      "cell_type": "code",
      "execution_count": null,
      "metadata": {
        "id": "VDJGuIX89EGM"
      },
      "outputs": [],
      "source": [
        "# Generar el reporte\n",
        "#sweet_report = sv.analyze(df)"
      ]
    },
    {
      "cell_type": "code",
      "execution_count": null,
      "metadata": {
        "id": "TQRE6MF89L4R"
      },
      "outputs": [],
      "source": [
        "# Se muestra la salida\n",
        "#sweet_report.show_notebook()"
      ]
    },
    {
      "cell_type": "code",
      "execution_count": null,
      "metadata": {
        "colab": {
          "base_uri": "https://localhost:8080/"
        },
        "id": "fbiWv_lfHobR",
        "outputId": "fcaf6b46-1754-4ae3-9611-d385c72eca1e"
      },
      "outputs": [
        {
          "output_type": "execute_result",
          "data": {
            "text/plain": [
              "_id                                        0\n",
              "visitor_tokens_cadid                       0\n",
              "visitor_tokens_adh                         0\n",
              "visitor_device_type                        0\n",
              "converted_yes                              0\n",
              "visitor_device_os_vendor                   0\n",
              "visitor_device_os_family                   0\n",
              "visitor_device_hardware_vendor             0\n",
              "visitor_device_os_version                  0\n",
              "visitor_device_hardware_family             0\n",
              "visitor_device_browser                     0\n",
              "traffic_source_id                          0\n",
              "landing_page_id                            0\n",
              "campaign_id                                0\n",
              "landing_pages_group_id                     0\n",
              "visitor_device_hardware_model              0\n",
              "converted_no                               0\n",
              "visitor_geo_location_countryCode           1\n",
              "visitor_geo_location_regionName            1\n",
              "visitor_tokens_adi                        10\n",
              "visitor_geo_location_cityName            102\n",
              "visitor_geo_location_isp                 124\n",
              "visitor_geo_location_connection_type     126\n",
              "visitor_tokens_add                      3472\n",
              "dtype: int64"
            ]
          },
          "metadata": {},
          "execution_count": 11
        }
      ],
      "source": [
        "df.isna().sum().sort_values()"
      ]
    },
    {
      "cell_type": "code",
      "execution_count": null,
      "metadata": {
        "colab": {
          "base_uri": "https://localhost:8080/"
        },
        "id": "tdsNpuBiHoTN",
        "outputId": "8d7763e3-c4d2-4a06-dbec-f1c63237bd03"
      },
      "outputs": [
        {
          "output_type": "execute_result",
          "data": {
            "text/plain": [
              "(3474, 24)"
            ]
          },
          "metadata": {},
          "execution_count": 12
        }
      ],
      "source": [
        "df.shape"
      ]
    },
    {
      "cell_type": "code",
      "execution_count": null,
      "metadata": {
        "id": "Oqgl8stx-Htu"
      },
      "outputs": [],
      "source": [
        "df = df.drop(['landing_pages_group_id','visitor_tokens_add', '_id'], axis=1)"
      ]
    },
    {
      "cell_type": "code",
      "execution_count": null,
      "metadata": {
        "id": "t6kx6QeV-lK8"
      },
      "outputs": [],
      "source": [
        "df = df.drop_duplicates()"
      ]
    },
    {
      "cell_type": "code",
      "execution_count": null,
      "metadata": {
        "colab": {
          "base_uri": "https://localhost:8080/"
        },
        "id": "90e4B00u-o6N",
        "outputId": "d3a04b4f-e2de-4e94-8686-037d8527563f"
      },
      "outputs": [
        {
          "output_type": "execute_result",
          "data": {
            "text/plain": [
              "campaign_id                               0\n",
              "visitor_tokens_cadid                      0\n",
              "visitor_tokens_adh                        0\n",
              "converted_yes                             0\n",
              "visitor_device_os_version                 0\n",
              "visitor_device_os_vendor                  0\n",
              "visitor_device_os_family                  0\n",
              "visitor_device_type                       0\n",
              "visitor_device_hardware_model             0\n",
              "visitor_device_hardware_family            0\n",
              "visitor_device_browser                    0\n",
              "traffic_source_id                         0\n",
              "landing_page_id                           0\n",
              "visitor_device_hardware_vendor            0\n",
              "converted_no                              0\n",
              "visitor_geo_location_countryCode          1\n",
              "visitor_geo_location_regionName           1\n",
              "visitor_tokens_adi                        5\n",
              "visitor_geo_location_isp                 74\n",
              "visitor_geo_location_connection_type     76\n",
              "visitor_geo_location_cityName           101\n",
              "dtype: int64"
            ]
          },
          "metadata": {},
          "execution_count": 15
        }
      ],
      "source": [
        "df.isna().sum().sort_values()"
      ]
    },
    {
      "cell_type": "code",
      "source": [
        "df.shape"
      ],
      "metadata": {
        "colab": {
          "base_uri": "https://localhost:8080/"
        },
        "id": "hkDcUf3Wsm7G",
        "outputId": "2699be65-8548-4e84-bbda-af5fa09a71ed"
      },
      "execution_count": null,
      "outputs": [
        {
          "output_type": "execute_result",
          "data": {
            "text/plain": [
              "(3394, 21)"
            ]
          },
          "metadata": {},
          "execution_count": 16
        }
      ]
    },
    {
      "cell_type": "code",
      "execution_count": null,
      "metadata": {
        "id": "SnN5E_zP-vl1"
      },
      "outputs": [],
      "source": [
        "# Imputamos la variable \n",
        "df['visitor_geo_location_countryCode'].fillna(df['visitor_geo_location_countryCode'].mode()[0], inplace=True)\n",
        "df['visitor_geo_location_regionName'].fillna(df['visitor_geo_location_regionName'].mode()[0], inplace=True)\n",
        "df['visitor_tokens_adi'].fillna(df['visitor_tokens_adi'].mode()[0], inplace=True)\n",
        "df['visitor_geo_location_isp'].fillna(df['visitor_geo_location_isp'].mode()[0], inplace=True)\n",
        "df['visitor_geo_location_connection_type'].fillna(df['visitor_geo_location_connection_type'].mode()[0], inplace=True)\n",
        "df['visitor_geo_location_cityName'].fillna(df['visitor_geo_location_cityName'].mode()[0], inplace=True)"
      ]
    },
    {
      "cell_type": "code",
      "execution_count": null,
      "metadata": {
        "colab": {
          "base_uri": "https://localhost:8080/"
        },
        "id": "dKHWxTeQAQGm",
        "outputId": "1960efef-f189-465a-9e18-a9571ba0d22c"
      },
      "outputs": [
        {
          "output_type": "execute_result",
          "data": {
            "text/plain": [
              "(3394, 21)"
            ]
          },
          "metadata": {},
          "execution_count": 18
        }
      ],
      "source": [
        "df.shape"
      ]
    },
    {
      "cell_type": "code",
      "execution_count": null,
      "metadata": {
        "colab": {
          "base_uri": "https://localhost:8080/"
        },
        "id": "4a-cwd74Al92",
        "outputId": "39130c67-8912-4470-8405-0c09d365c16d"
      },
      "outputs": [
        {
          "output_type": "execute_result",
          "data": {
            "text/plain": [
              "campaign_id                             0\n",
              "visitor_tokens_adi                      0\n",
              "visitor_tokens_cadid                    0\n",
              "visitor_tokens_adh                      0\n",
              "visitor_geo_location_regionName         0\n",
              "visitor_geo_location_isp                0\n",
              "visitor_geo_location_countryCode        0\n",
              "visitor_geo_location_connection_type    0\n",
              "visitor_geo_location_cityName           0\n",
              "converted_yes                           0\n",
              "visitor_device_type                     0\n",
              "visitor_device_os_vendor                0\n",
              "visitor_device_os_family                0\n",
              "visitor_device_hardware_vendor          0\n",
              "visitor_device_hardware_model           0\n",
              "visitor_device_hardware_family          0\n",
              "visitor_device_browser                  0\n",
              "traffic_source_id                       0\n",
              "landing_page_id                         0\n",
              "visitor_device_os_version               0\n",
              "converted_no                            0\n",
              "dtype: int64"
            ]
          },
          "metadata": {},
          "execution_count": 19
        }
      ],
      "source": [
        "df.isna().sum().sort_values()"
      ]
    },
    {
      "cell_type": "code",
      "execution_count": null,
      "metadata": {
        "colab": {
          "base_uri": "https://localhost:8080/"
        },
        "id": "caDEzLtDAw5b",
        "outputId": "91f877ae-40fd-4cc6-e07b-ca3fc04b26a7"
      },
      "outputs": [
        {
          "output_type": "execute_result",
          "data": {
            "text/plain": [
              "Index(['campaign_id', 'landing_page_id', 'traffic_source_id',\n",
              "       'visitor_device_browser', 'visitor_device_hardware_family',\n",
              "       'visitor_device_hardware_model', 'visitor_device_hardware_vendor',\n",
              "       'visitor_device_os_family', 'visitor_device_os_vendor',\n",
              "       'visitor_device_os_version', 'visitor_device_type',\n",
              "       'visitor_geo_location_cityName', 'visitor_geo_location_connection_type',\n",
              "       'visitor_geo_location_countryCode', 'visitor_geo_location_isp',\n",
              "       'visitor_geo_location_regionName', 'visitor_tokens_adh',\n",
              "       'visitor_tokens_cadid', 'visitor_tokens_adi', 'converted_yes',\n",
              "       'converted_no'],\n",
              "      dtype='object')"
            ]
          },
          "metadata": {},
          "execution_count": 20
        }
      ],
      "source": [
        "df.columns"
      ]
    },
    {
      "cell_type": "code",
      "execution_count": null,
      "metadata": {
        "id": "-7YP24hjAzG6"
      },
      "outputs": [],
      "source": [
        "X = df[['campaign_id', 'traffic_source_id',\n",
        "       'visitor_device_browser', 'visitor_device_hardware_family',\n",
        "       'visitor_device_hardware_model', 'visitor_device_hardware_vendor',\n",
        "       'visitor_device_os_family', 'visitor_device_os_vendor',\n",
        "       'visitor_device_os_version', 'visitor_device_type',\n",
        "       'visitor_geo_location_cityName', 'visitor_geo_location_connection_type',\n",
        "       'visitor_geo_location_countryCode', 'visitor_geo_location_isp',\n",
        "       'visitor_geo_location_regionName', 'visitor_tokens_adh',\n",
        "       'visitor_tokens_cadid', 'visitor_tokens_adi', 'converted_yes',\n",
        "       'converted_no']]"
      ]
    },
    {
      "cell_type": "code",
      "execution_count": null,
      "metadata": {
        "id": "CBFyRWFvA7kF"
      },
      "outputs": [],
      "source": [
        "X = X.astype(str).to_numpy()"
      ]
    },
    {
      "cell_type": "code",
      "execution_count": null,
      "metadata": {
        "id": "dzjwZEbGAzOZ"
      },
      "outputs": [],
      "source": [
        "y = df[[\"landing_page_id\"]].to_numpy()"
      ]
    },
    {
      "cell_type": "code",
      "execution_count": null,
      "metadata": {
        "colab": {
          "base_uri": "https://localhost:8080/"
        },
        "id": "6xXt-zogA-dk",
        "outputId": "2883e3d1-a939-42b5-a3a2-14dfce42194e"
      },
      "outputs": [
        {
          "output_type": "stream",
          "name": "stdout",
          "text": [
            "X shape: :  (3394, 20)\n"
          ]
        }
      ],
      "source": [
        "# encode string input values as integers\n",
        "encoded_x = None\n",
        "for i in range(0, X.shape[1]):\n",
        "    label_encoder = LabelEncoder()\n",
        "    feature = label_encoder.fit_transform(X[:,i])\n",
        "    feature = feature.reshape(X.shape[0], 1)\n",
        "    onehot_encoder = OrdinalEncoder()\n",
        "    feature = onehot_encoder.fit_transform(feature)\n",
        "    if encoded_x is None:\n",
        "        encoded_x = feature\n",
        "    else:\n",
        "        encoded_x = numpy.concatenate((encoded_x, feature), axis=1)\n",
        "print(\"X shape: : \", encoded_x.shape)\n"
      ]
    },
    {
      "cell_type": "code",
      "execution_count": null,
      "metadata": {
        "colab": {
          "base_uri": "https://localhost:8080/"
        },
        "id": "GE_WkiJPA-gK",
        "outputId": "c3435186-33a4-4a5c-cf39-dc5bd2edffaf"
      },
      "outputs": [
        {
          "output_type": "execute_result",
          "data": {
            "text/plain": [
              "array([[16.,  1.,  1., ..., 11.,  0.,  1.],\n",
              "       [16.,  1.,  1., ...,  5.,  0.,  1.],\n",
              "       [18.,  2.,  1., ...,  0.,  1.,  0.],\n",
              "       ...,\n",
              "       [ 9.,  0.,  1., ...,  3.,  1.,  0.],\n",
              "       [ 1.,  2., 21., ..., 11.,  0.,  1.],\n",
              "       [18.,  2.,  1., ...,  0.,  0.,  1.]])"
            ]
          },
          "metadata": {},
          "execution_count": 25
        }
      ],
      "source": [
        "encoded_x"
      ]
    },
    {
      "cell_type": "code",
      "execution_count": null,
      "metadata": {
        "colab": {
          "base_uri": "https://localhost:8080/"
        },
        "id": "sbTc56B2A-ik",
        "outputId": "57885215-3dd5-4e47-8f7d-20d032ede222"
      },
      "outputs": [
        {
          "output_type": "stream",
          "name": "stderr",
          "text": [
            "/usr/local/lib/python3.7/dist-packages/sklearn/preprocessing/_label.py:98: DataConversionWarning: A column-vector y was passed when a 1d array was expected. Please change the shape of y to (n_samples, ), for example using ravel().\n",
            "  y = column_or_1d(y, warn=True)\n",
            "/usr/local/lib/python3.7/dist-packages/sklearn/preprocessing/_label.py:133: DataConversionWarning: A column-vector y was passed when a 1d array was expected. Please change the shape of y to (n_samples, ), for example using ravel().\n",
            "  y = column_or_1d(y, warn=True)\n"
          ]
        }
      ],
      "source": [
        "# encode string class values as integers\n",
        "label_encoder = LabelEncoder()\n",
        "label_encoder = label_encoder.fit(y)\n",
        "label_encoded_y = label_encoder.transform(y)\n",
        "# convert integers to dummy variables (i.e. one hot encoded)\n",
        "dummy_y = np_utils.to_categorical(label_encoded_y)"
      ]
    },
    {
      "cell_type": "code",
      "execution_count": null,
      "metadata": {
        "colab": {
          "base_uri": "https://localhost:8080/"
        },
        "id": "IGjvfbs_eJKR",
        "outputId": "47cca20d-166d-4da7-a406-6d379fa60412"
      },
      "outputs": [
        {
          "output_type": "execute_result",
          "data": {
            "text/plain": [
              "array([2, 2, 1, ..., 0, 0, 3])"
            ]
          },
          "metadata": {},
          "execution_count": 27
        }
      ],
      "source": [
        "label_encoded_y"
      ]
    },
    {
      "cell_type": "code",
      "execution_count": null,
      "metadata": {
        "colab": {
          "base_uri": "https://localhost:8080/"
        },
        "id": "YnXC68vwYZew",
        "outputId": "cd5ff578-1b74-40e5-a709-8e21a8ff46e0"
      },
      "outputs": [
        {
          "output_type": "execute_result",
          "data": {
            "text/plain": [
              "array([[0., 0., 1., 0., 0., 0.],\n",
              "       [0., 0., 1., 0., 0., 0.],\n",
              "       [0., 1., 0., 0., 0., 0.],\n",
              "       ...,\n",
              "       [1., 0., 0., 0., 0., 0.],\n",
              "       [1., 0., 0., 0., 0., 0.],\n",
              "       [0., 0., 0., 1., 0., 0.]], dtype=float32)"
            ]
          },
          "metadata": {},
          "execution_count": 28
        }
      ],
      "source": [
        "dummy_y"
      ]
    },
    {
      "cell_type": "code",
      "execution_count": null,
      "metadata": {
        "id": "jxLVfIDkA-kp"
      },
      "outputs": [],
      "source": [
        "# split data into train and test sets\n",
        "X_train, X_test, y_train, y_test = train_test_split(encoded_x, dummy_y, test_size=0.30, random_state=123)"
      ]
    },
    {
      "cell_type": "code",
      "execution_count": null,
      "metadata": {
        "id": "i56-v03TBYj0"
      },
      "outputs": [],
      "source": [
        "from sklearn.preprocessing import StandardScaler\n",
        "scaler=StandardScaler()\n",
        "scaler.fit(X_train)\n",
        "X_train=scaler.transform(X_train)\n",
        "X_test=scaler.transform(X_test)"
      ]
    },
    {
      "cell_type": "code",
      "execution_count": null,
      "metadata": {
        "id": "WO4UbSPkBSYV"
      },
      "outputs": [],
      "source": [
        "# Definición del modelo\n",
        "def modelo_mlp(): \n",
        "    model = Sequential()\n",
        "    model.add(Dense(25, input_dim=X_train.shape[1], \n",
        "                kernel_initializer= 'he_uniform',\n",
        "                activation='relu', activity_regularizer=regularizers.l1(1e-4)))\n",
        "    model.add(BatchNormalization())\n",
        "    model.add(Dense(15, kernel_initializer= 'he_uniform',\n",
        "                activation='relu',activity_regularizer=regularizers.l1(1e-4)))\n",
        "    model.add(Dropout(0.2))\n",
        "    model.add(BatchNormalization())\n",
        "    model.add(Dense(10, kernel_initializer= 'he_uniform',\n",
        "                activation='relu',activity_regularizer=regularizers.l1(1e-4)))\n",
        "    model.add(Dropout(0.2))\n",
        "    model.add(BatchNormalization())  \n",
        "    model.add(Dense(6, kernel_initializer= 'he_uniform',\n",
        "                activation='softmax'))\n",
        "    model.compile(loss='categorical_crossentropy', optimizer='adam',\n",
        "                metrics=['accuracy'])\n",
        "    model.summary()\n",
        "    return model"
      ]
    },
    {
      "cell_type": "code",
      "execution_count": null,
      "metadata": {
        "colab": {
          "base_uri": "https://localhost:8080/"
        },
        "id": "I3HiwZHSUvnP",
        "outputId": "f4c18b49-d11a-44e6-c7c2-6c3c4affed17"
      },
      "outputs": [
        {
          "output_type": "stream",
          "name": "stdout",
          "text": [
            "Model: \"sequential\"\n",
            "_________________________________________________________________\n",
            " Layer (type)                Output Shape              Param #   \n",
            "=================================================================\n",
            " dense (Dense)               (None, 25)                525       \n",
            "                                                                 \n",
            " batch_normalization (BatchN  (None, 25)               100       \n",
            " ormalization)                                                   \n",
            "                                                                 \n",
            " dense_1 (Dense)             (None, 15)                390       \n",
            "                                                                 \n",
            " dropout (Dropout)           (None, 15)                0         \n",
            "                                                                 \n",
            " batch_normalization_1 (Batc  (None, 15)               60        \n",
            " hNormalization)                                                 \n",
            "                                                                 \n",
            " dense_2 (Dense)             (None, 10)                160       \n",
            "                                                                 \n",
            " dropout_1 (Dropout)         (None, 10)                0         \n",
            "                                                                 \n",
            " batch_normalization_2 (Batc  (None, 10)               40        \n",
            " hNormalization)                                                 \n",
            "                                                                 \n",
            " dense_3 (Dense)             (None, 6)                 66        \n",
            "                                                                 \n",
            "=================================================================\n",
            "Total params: 1,341\n",
            "Trainable params: 1,241\n",
            "Non-trainable params: 100\n",
            "_________________________________________________________________\n"
          ]
        }
      ],
      "source": [
        "model = modelo_mlp()"
      ]
    },
    {
      "cell_type": "code",
      "execution_count": null,
      "metadata": {
        "colab": {
          "base_uri": "https://localhost:8080/"
        },
        "id": "NfffQIygUvuY",
        "outputId": "64047646-ade9-4579-c7f6-4d07e097fec2"
      },
      "outputs": [
        {
          "output_type": "stream",
          "name": "stdout",
          "text": [
            "Epoch 1/40\n",
            "75/75 [==============================] - 4s 19ms/step - loss: 2.4806 - accuracy: 0.1604 - val_loss: 1.9967 - val_accuracy: 0.1609\n",
            "Epoch 2/40\n",
            "75/75 [==============================] - 1s 9ms/step - loss: 2.1503 - accuracy: 0.1869 - val_loss: 1.8906 - val_accuracy: 0.1914\n",
            "Epoch 3/40\n",
            "75/75 [==============================] - 1s 8ms/step - loss: 2.0169 - accuracy: 0.2051 - val_loss: 1.8213 - val_accuracy: 0.2355\n",
            "Epoch 4/40\n",
            "75/75 [==============================] - 1s 8ms/step - loss: 1.9304 - accuracy: 0.2240 - val_loss: 1.7665 - val_accuracy: 0.2512\n",
            "Epoch 5/40\n",
            "75/75 [==============================] - 1s 9ms/step - loss: 1.8095 - accuracy: 0.2531 - val_loss: 1.7208 - val_accuracy: 0.2581\n",
            "Epoch 6/40\n",
            "75/75 [==============================] - 1s 9ms/step - loss: 1.7694 - accuracy: 0.2636 - val_loss: 1.6787 - val_accuracy: 0.2728\n",
            "Epoch 7/40\n",
            "75/75 [==============================] - 1s 8ms/step - loss: 1.7255 - accuracy: 0.2720 - val_loss: 1.6455 - val_accuracy: 0.2856\n",
            "Epoch 8/40\n",
            "75/75 [==============================] - 1s 13ms/step - loss: 1.6863 - accuracy: 0.2863 - val_loss: 1.6091 - val_accuracy: 0.2905\n",
            "Epoch 9/40\n",
            "75/75 [==============================] - 1s 9ms/step - loss: 1.6477 - accuracy: 0.3006 - val_loss: 1.5803 - val_accuracy: 0.3013\n",
            "Epoch 10/40\n",
            "75/75 [==============================] - 1s 9ms/step - loss: 1.6223 - accuracy: 0.2985 - val_loss: 1.5534 - val_accuracy: 0.3091\n",
            "Epoch 11/40\n",
            "75/75 [==============================] - 1s 9ms/step - loss: 1.5958 - accuracy: 0.3095 - val_loss: 1.5326 - val_accuracy: 0.3219\n",
            "Epoch 12/40\n",
            "75/75 [==============================] - 1s 9ms/step - loss: 1.5816 - accuracy: 0.3133 - val_loss: 1.5187 - val_accuracy: 0.3356\n",
            "Epoch 13/40\n",
            "75/75 [==============================] - 1s 10ms/step - loss: 1.5742 - accuracy: 0.3074 - val_loss: 1.5080 - val_accuracy: 0.3297\n",
            "Epoch 14/40\n",
            "75/75 [==============================] - 1s 10ms/step - loss: 1.5433 - accuracy: 0.3217 - val_loss: 1.4962 - val_accuracy: 0.3317\n",
            "Epoch 15/40\n",
            "75/75 [==============================] - 1s 9ms/step - loss: 1.5311 - accuracy: 0.3154 - val_loss: 1.4883 - val_accuracy: 0.3317\n",
            "Epoch 16/40\n",
            "75/75 [==============================] - 1s 9ms/step - loss: 1.5306 - accuracy: 0.3225 - val_loss: 1.4810 - val_accuracy: 0.3337\n",
            "Epoch 17/40\n",
            "75/75 [==============================] - 1s 7ms/step - loss: 1.5140 - accuracy: 0.3183 - val_loss: 1.4749 - val_accuracy: 0.3425\n",
            "Epoch 18/40\n",
            "75/75 [==============================] - 1s 9ms/step - loss: 1.5103 - accuracy: 0.3099 - val_loss: 1.4709 - val_accuracy: 0.3386\n",
            "Epoch 19/40\n",
            "75/75 [==============================] - 1s 10ms/step - loss: 1.5093 - accuracy: 0.3196 - val_loss: 1.4671 - val_accuracy: 0.3474\n",
            "Epoch 20/40\n",
            "75/75 [==============================] - 1s 11ms/step - loss: 1.5009 - accuracy: 0.3154 - val_loss: 1.4616 - val_accuracy: 0.3445\n",
            "Epoch 21/40\n",
            "75/75 [==============================] - 1s 10ms/step - loss: 1.4729 - accuracy: 0.3389 - val_loss: 1.4586 - val_accuracy: 0.3435\n",
            "Epoch 22/40\n",
            "75/75 [==============================] - 1s 10ms/step - loss: 1.4780 - accuracy: 0.3356 - val_loss: 1.4547 - val_accuracy: 0.3395\n",
            "Epoch 23/40\n",
            "75/75 [==============================] - 1s 10ms/step - loss: 1.4929 - accuracy: 0.3288 - val_loss: 1.4512 - val_accuracy: 0.3356\n",
            "Epoch 24/40\n",
            "75/75 [==============================] - 1s 10ms/step - loss: 1.4765 - accuracy: 0.3474 - val_loss: 1.4502 - val_accuracy: 0.3425\n",
            "Epoch 25/40\n",
            "75/75 [==============================] - 1s 14ms/step - loss: 1.4695 - accuracy: 0.3331 - val_loss: 1.4478 - val_accuracy: 0.3543\n",
            "Epoch 26/40\n",
            "75/75 [==============================] - 1s 8ms/step - loss: 1.4621 - accuracy: 0.3352 - val_loss: 1.4449 - val_accuracy: 0.3553\n",
            "Epoch 27/40\n",
            "75/75 [==============================] - 1s 9ms/step - loss: 1.4643 - accuracy: 0.3171 - val_loss: 1.4426 - val_accuracy: 0.3611\n",
            "Epoch 28/40\n",
            "75/75 [==============================] - 1s 10ms/step - loss: 1.4505 - accuracy: 0.3453 - val_loss: 1.4402 - val_accuracy: 0.3660\n",
            "Epoch 29/40\n",
            "75/75 [==============================] - 1s 10ms/step - loss: 1.4563 - accuracy: 0.3339 - val_loss: 1.4389 - val_accuracy: 0.3621\n",
            "Epoch 30/40\n",
            "75/75 [==============================] - 1s 11ms/step - loss: 1.4493 - accuracy: 0.3389 - val_loss: 1.4384 - val_accuracy: 0.3513\n",
            "Epoch 31/40\n",
            "75/75 [==============================] - 1s 10ms/step - loss: 1.4551 - accuracy: 0.3444 - val_loss: 1.4391 - val_accuracy: 0.3464\n",
            "Epoch 32/40\n",
            "75/75 [==============================] - 1s 8ms/step - loss: 1.4594 - accuracy: 0.3335 - val_loss: 1.4374 - val_accuracy: 0.3533\n",
            "Epoch 33/40\n",
            "75/75 [==============================] - 1s 9ms/step - loss: 1.4511 - accuracy: 0.3377 - val_loss: 1.4354 - val_accuracy: 0.3474\n",
            "Epoch 34/40\n",
            "75/75 [==============================] - 1s 7ms/step - loss: 1.4336 - accuracy: 0.3364 - val_loss: 1.4375 - val_accuracy: 0.3425\n",
            "Epoch 35/40\n",
            "75/75 [==============================] - 1s 9ms/step - loss: 1.4379 - accuracy: 0.3402 - val_loss: 1.4365 - val_accuracy: 0.3386\n",
            "Epoch 36/40\n",
            "75/75 [==============================] - 1s 10ms/step - loss: 1.4205 - accuracy: 0.3457 - val_loss: 1.4340 - val_accuracy: 0.3445\n",
            "Epoch 37/40\n",
            "75/75 [==============================] - 1s 7ms/step - loss: 1.4302 - accuracy: 0.3440 - val_loss: 1.4355 - val_accuracy: 0.3523\n",
            "Epoch 38/40\n",
            "75/75 [==============================] - 0s 4ms/step - loss: 1.4228 - accuracy: 0.3469 - val_loss: 1.4358 - val_accuracy: 0.3484\n",
            "Epoch 39/40\n",
            "75/75 [==============================] - 0s 4ms/step - loss: 1.4331 - accuracy: 0.3293 - val_loss: 1.4361 - val_accuracy: 0.3425\n",
            "Epoch 40/40\n",
            "75/75 [==============================] - 0s 4ms/step - loss: 1.4234 - accuracy: 0.3537 - val_loss: 1.4370 - val_accuracy: 0.3454\n"
          ]
        }
      ],
      "source": [
        "# Entrenamos el modelo con el dataset\n",
        "history=model.fit(X_train, y_train, epochs=40, batch_size=32, validation_data=(X_test, y_test), shuffle=False)"
      ]
    },
    {
      "cell_type": "code",
      "execution_count": null,
      "metadata": {
        "colab": {
          "base_uri": "https://localhost:8080/"
        },
        "id": "KWug_BRZUvxN",
        "outputId": "efeeb8b2-4802-49a2-b290-ad605e9052d9"
      },
      "outputs": [
        {
          "output_type": "stream",
          "name": "stdout",
          "text": [
            "Precisión Entrenamiento: 0.3642\n",
            "Precisión Prueba:  0.3454\n"
          ]
        }
      ],
      "source": [
        "loss, accuracy = model.evaluate(X_train, y_train, verbose=False)\n",
        "print(\"Precisión Entrenamiento: {:.4f}\".format(accuracy))\n",
        "loss, accuracy = model.evaluate(X_test, y_test, verbose=False)\n",
        "print(\"Precisión Prueba:  {:.4f}\".format(accuracy))"
      ]
    },
    {
      "cell_type": "code",
      "execution_count": null,
      "metadata": {
        "colab": {
          "base_uri": "https://localhost:8080/",
          "height": 295
        },
        "id": "H0yK_NpgKPeP",
        "outputId": "3c23c269-58fb-40e6-dcc5-05b2b16b3296"
      },
      "outputs": [
        {
          "output_type": "display_data",
          "data": {
            "text/plain": [
              "<Figure size 432x288 with 1 Axes>"
            ],
            "image/png": "[encoded data removed]"
          },
          "metadata": {
            "needs_background": "light"
          }
        }
      ],
      "source": [
        "from matplotlib import pyplot\n",
        "from numpy import array\n",
        "# plot train and validation loss\n",
        "pyplot.plot(history.history['loss'])\n",
        "pyplot.plot(history.history['val_loss'])\n",
        "pyplot.title('model train vs validation loss')\n",
        "pyplot.ylabel('loss')\n",
        "pyplot.xlabel('epoch')\n",
        "pyplot.legend(['train', 'validation'], loc='upper right')\n",
        "pyplot.show()"
      ]
    },
    {
      "cell_type": "code",
      "execution_count": null,
      "metadata": {
        "id": "rP0iEOChQCiO"
      },
      "outputs": [],
      "source": [
        "#Making confusion matrix that checks accuracy of the model\n",
        "from sklearn.metrics import confusion_matrix\n",
        "from sklearn.metrics import ConfusionMatrixDisplay"
      ]
    },
    {
      "cell_type": "code",
      "execution_count": null,
      "metadata": {
        "colab": {
          "base_uri": "https://localhost:8080/",
          "height": 298
        },
        "id": "vUai4GqqA2_T",
        "outputId": "1f8a0dcb-2898-4c27-b23b-8aa8c7b80a0f"
      },
      "outputs": [
        {
          "output_type": "stream",
          "name": "stdout",
          "text": [
            "32/32 [==============================] - 0s 2ms/step\n"
          ]
        },
        {
          "output_type": "display_data",
          "data": {
            "text/plain": [
              "<Figure size 432x288 with 2 Axes>"
            ],
            "image/png": "[encoded data removed]"
          },
          "metadata": {
            "needs_background": "light"
          }
        }
      ],
      "source": [
        "y_pred=model.predict(X_test) \n",
        "y_pred=np.argmax(y_pred, axis=1)\n",
        "y_test=np.argmax(y_test, axis=1)\n",
        "cm = confusion_matrix(y_test, y_pred)\n",
        "disp = ConfusionMatrixDisplay(confusion_matrix=cm)\n",
        "disp.plot()\n",
        "\n",
        "plt.show()"
      ]
    },
    {
      "cell_type": "code",
      "execution_count": null,
      "metadata": {
        "colab": {
          "base_uri": "https://localhost:8080/"
        },
        "id": "Lmp-3IkiA9--",
        "outputId": "33c559da-b230-4d45-dcf7-2cd0ade83b64"
      },
      "outputs": [
        {
          "output_type": "stream",
          "name": "stdout",
          "text": [
            "              precision    recall  f1-score   support\n",
            "\n",
            "           0       0.89      0.92      0.90       176\n",
            "           1       0.21      0.27      0.24       161\n",
            "           2       0.22      0.15      0.18       178\n",
            "           3       0.22      0.36      0.27       163\n",
            "           4       0.25      0.21      0.23       164\n",
            "           5       0.26      0.15      0.19       177\n",
            "\n",
            "    accuracy                           0.35      1019\n",
            "   macro avg       0.34      0.34      0.33      1019\n",
            "weighted avg       0.34      0.35      0.34      1019\n",
            "\n"
          ]
        }
      ],
      "source": [
        "from sklearn.metrics import classification_report\n",
        "report = classification_report(y_test, y_pred)\n",
        "print(report)"
      ]
    },
    {
      "cell_type": "code",
      "execution_count": null,
      "metadata": {
        "colab": {
          "base_uri": "https://localhost:8080/"
        },
        "id": "JOR3BdY4LCFC",
        "outputId": "470fa044-ff8b-4dec-9932-b32ffff2b70c"
      },
      "outputs": [
        {
          "output_type": "stream",
          "name": "stdout",
          "text": [
            "1/1 [==============================] - 0s 18ms/step\n"
          ]
        },
        {
          "output_type": "execute_result",
          "data": {
            "text/plain": [
              "array([[0.00749402, 0.20634525, 0.15884976, 0.1883441 , 0.22511338,\n",
              "        0.21385346]], dtype=float32)"
            ]
          },
          "metadata": {},
          "execution_count": 39
        }
      ],
      "source": [
        "# make class predictions with the model\n",
        "predictions = (model.predict(X_test[1:2]))\n",
        "predictions"
      ]
    },
    {
      "cell_type": "code",
      "execution_count": null,
      "metadata": {
        "colab": {
          "base_uri": "https://localhost:8080/"
        },
        "id": "eZq5E3MnhgQ9",
        "outputId": "c727b7b2-9314-422a-80a2-11f8eb394f0d"
      },
      "outputs": [
        {
          "output_type": "stream",
          "name": "stdout",
          "text": [
            "1/1 [==============================] - 0s 19ms/step\n"
          ]
        },
        {
          "output_type": "execute_result",
          "data": {
            "text/plain": [
              "array([4])"
            ]
          },
          "metadata": {},
          "execution_count": 40
        }
      ],
      "source": [
        "# make class predictions with the model\n",
        "predictions = (model.predict(X_test[1:2])).argmax(1)\n",
        "predictions"
      ]
    },
    {
      "cell_type": "code",
      "execution_count": null,
      "metadata": {
        "colab": {
          "base_uri": "https://localhost:8080/"
        },
        "id": "3SvSOUGfhxnL",
        "outputId": "b330240e-7a71-4bec-edcf-77e140568089"
      },
      "outputs": [
        {
          "output_type": "stream",
          "name": "stdout",
          "text": [
            "['637739d9b20e47001a205808']\n"
          ]
        }
      ],
      "source": [
        "print(label_encoder.inverse_transform(predictions))"
      ]
    },
    {
      "cell_type": "code",
      "execution_count": null,
      "metadata": {
        "id": "72H7mN_Thz0q"
      },
      "outputs": [],
      "source": [
        "from keras.models import load_model \n",
        "model.save(\"model_6377366a6f84e2001a65fdfe.h5\") \n",
        "loaded_model = load_model(\"model_6377366a6f84e2001a65fdfe.h5\")"
      ]
    },
    {
      "cell_type": "code",
      "execution_count": null,
      "metadata": {
        "colab": {
          "base_uri": "https://localhost:8080/"
        },
        "id": "iM4dyHQNjnTy",
        "outputId": "9416ff05-d1d1-47c0-b9d2-753f2159a732"
      },
      "outputs": [
        {
          "output_type": "stream",
          "name": "stdout",
          "text": [
            "1/1 [==============================] - 0s 19ms/step\n"
          ]
        },
        {
          "output_type": "execute_result",
          "data": {
            "text/plain": [
              "array([[0.00749402, 0.20634525, 0.15884976, 0.1883441 , 0.22511338,\n",
              "        0.21385346]], dtype=float32)"
            ]
          },
          "metadata": {},
          "execution_count": 43
        }
      ],
      "source": [
        "# make class predictions with the model\n",
        "predictions = (model.predict(X_test[1:2]))\n",
        "predictions"
      ]
    },
    {
      "cell_type": "code",
      "execution_count": null,
      "metadata": {
        "colab": {
          "base_uri": "https://localhost:8080/"
        },
        "id": "ObPqe76thz8i",
        "outputId": "830257cc-406c-45ca-e04e-90d0e739e398"
      },
      "outputs": [
        {
          "output_type": "stream",
          "name": "stdout",
          "text": [
            "1/1 [==============================] - 0s 136ms/step\n"
          ]
        },
        {
          "output_type": "execute_result",
          "data": {
            "text/plain": [
              "array([4])"
            ]
          },
          "metadata": {},
          "execution_count": 44
        }
      ],
      "source": [
        "# make class predictions with the model\n",
        "predictions = (loaded_model.predict(X_test[1:2])).argmax(1)\n",
        "predictions"
      ]
    },
    {
      "cell_type": "code",
      "execution_count": null,
      "metadata": {
        "colab": {
          "base_uri": "https://localhost:8080/"
        },
        "id": "vaF7mFxPhz_v",
        "outputId": "5f09fe04-06b0-488e-884d-6f3f30d4a6c7"
      },
      "outputs": [
        {
          "output_type": "stream",
          "name": "stdout",
          "text": [
            "['637739d9b20e47001a205808']\n"
          ]
        }
      ],
      "source": [
        "print(label_encoder.inverse_transform(predictions))"
      ]
    }
  ],
  "metadata": {
    "colab": {
      "provenance": [],
      "include_colab_link": true
    },
    "kernelspec": {
      "display_name": "Python 3",
      "name": "python3"
    },
    "language_info": {
      "name": "python"
    }
  },
  "nbformat": 4,
  "nbformat_minor": 0
}